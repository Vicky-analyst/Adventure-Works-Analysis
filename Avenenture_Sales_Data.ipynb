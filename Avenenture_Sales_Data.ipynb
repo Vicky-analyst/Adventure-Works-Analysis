{
 "cells": [
  {
   "cell_type": "markdown",
   "id": "a7f03152-e447-4133-b633-589317e42ec3",
   "metadata": {},
   "source": [
    "# Adventure Sales Data "
   ]
  },
  {
   "cell_type": "code",
   "execution_count": 5,
   "id": "8ba33640-2be9-4298-a269-6d5928c7562a",
   "metadata": {},
   "outputs": [],
   "source": [
    "import pandas as pd\n",
    "import numpy as np\n",
    "import matplotlib.pyplot as plt\n",
    "import seaborn as sns\n",
    "plt.style.use('ggplot')\n",
    "from matplotlib import figure\n",
    "%matplotlib inline"
   ]
  },
  {
   "cell_type": "code",
   "execution_count": 6,
   "id": "aefd96ff-df53-48ae-8f69-32f31692be79",
   "metadata": {},
   "outputs": [],
   "source": [
    "import plotly.graph_objs as go\n",
    "import plotly.express as px"
   ]
  },
  {
   "cell_type": "code",
   "execution_count": 35,
   "id": "07c8eebf-0900-499f-992c-96b604bbe172",
   "metadata": {},
   "outputs": [
    {
     "name": "stdout",
     "output_type": "stream",
     "text": [
      "pycountry is installed.\n"
     ]
    }
   ],
   "source": [
    "try:\n",
    "    import pycountry\n",
    "    print(\"pycountry is installed.\")\n",
    "except ModuleNotFoundError:\n",
    "    print(\"pycountry is not installed.\")\n",
    "\n"
   ]
  },
  {
   "cell_type": "code",
   "execution_count": 36,
   "id": "2053b68a-ed84-440b-b7f4-01d66f337da8",
   "metadata": {},
   "outputs": [],
   "source": [
    "import pycountry"
   ]
  },
  {
   "cell_type": "code",
   "execution_count": 7,
   "id": "5e1e2ede-c91e-4878-8377-cde9f7c0e980",
   "metadata": {},
   "outputs": [],
   "source": [
    "pd.set_option(\"display.max_rows\", None)\n",
    "pd.set_option(\"display.max_columns\", None)"
   ]
  },
  {
   "cell_type": "code",
   "execution_count": 8,
   "id": "2325771c-5ec7-443b-8827-fe2f56dd43a1",
   "metadata": {},
   "outputs": [],
   "source": [
    "df1 = pd.read_csv(\"C:\\\\Users\\\\USER-PC\\\\Downloads\\\\AdventureWorks+Raw+Data\\\\AdventureWorks Raw Data\\\\AdventureWorks Sales Data 2020.csv\")"
   ]
  },
  {
   "cell_type": "code",
   "execution_count": 9,
   "id": "64f5903e-98a8-452d-b4d2-99acaf41f67c",
   "metadata": {},
   "outputs": [],
   "source": [
    "df2 = pd.read_csv(\"C:\\\\Users\\\\USER-PC\\\\Downloads\\\\AdventureWorks+Raw+Data\\\\AdventureWorks Raw Data\\\\AdventureWorks Sales Data 2021.csv\")"
   ]
  },
  {
   "cell_type": "code",
   "execution_count": 10,
   "id": "d089e0f9-ec82-431d-b550-d9923a5e873e",
   "metadata": {},
   "outputs": [],
   "source": [
    "df3 = pd.read_csv(\"C:\\\\Users\\\\USER-PC\\\\Downloads\\\\AdventureWorks+Raw+Data\\\\AdventureWorks Raw Data\\\\AdventureWorks Sales Data 2022.csv\")"
   ]
  },
  {
   "cell_type": "code",
   "execution_count": 11,
   "id": "ff30a5df-cd58-4380-82b8-ec8ac1462b5e",
   "metadata": {},
   "outputs": [],
   "source": [
    "calender_lu = pd.read_csv(\"C:\\\\Users\\\\USER-PC\\\\Downloads\\\\AdventureWorks+Raw+Data\\\\AdventureWorks Raw Data\\\\AdventureWorks Calendar Lookup.csv\")"
   ]
  },
  {
   "cell_type": "code",
   "execution_count": 12,
   "id": "59058872-660d-4b57-a761-07fe4a9ff715",
   "metadata": {},
   "outputs": [],
   "source": [
    "customer_lu = pd.read_csv(\"C:\\\\Users\\\\USER-PC\\\\Downloads\\\\AdventureWorks+Raw+Data\\\\AdventureWorks Raw Data\\\\AdventureWorks Customer Lookup.csv\", encoding = \"latin-1\")"
   ]
  },
  {
   "cell_type": "code",
   "execution_count": 13,
   "id": "9fcde62b-ae87-43aa-862e-58fb8ca6a087",
   "metadata": {},
   "outputs": [],
   "source": [
    "productCategory_lu = pd.read_csv(\"C:\\\\Users\\\\USER-PC\\\\Downloads\\\\AdventureWorks+Raw+Data\\\\AdventureWorks Raw Data\\\\AdventureWorks Product Categories Lookup.csv\", encoding = \"latin-1\")"
   ]
  },
  {
   "cell_type": "code",
   "execution_count": 14,
   "id": "375dc0d7-14a9-4054-9822-67d823074297",
   "metadata": {},
   "outputs": [],
   "source": [
    "product_lu = pd.read_csv(\"C:\\\\Users\\\\USER-PC\\\\Downloads\\\\AdventureWorks+Raw+Data\\\\AdventureWorks Raw Data\\\\AdventureWorks Product Lookup.csv\")"
   ]
  },
  {
   "cell_type": "code",
   "execution_count": 15,
   "id": "03071ee5-054c-414c-955c-bfc018ffadff",
   "metadata": {},
   "outputs": [],
   "source": [
    "productSubCategory_lu = pd.read_csv(\"C:\\\\Users\\\\USER-PC\\\\Downloads\\\\AdventureWorks+Raw+Data\\\\AdventureWorks Raw Data\\\\AdventureWorks Product Subcategories Lookup.csv\")"
   ]
  },
  {
   "cell_type": "code",
   "execution_count": 16,
   "id": "0fc2df4d-26dd-42a8-9320-cb188897100c",
   "metadata": {},
   "outputs": [],
   "source": [
    "return_data = pd.read_csv(\"C:\\\\Users\\\\USER-PC\\\\Downloads\\\\AdventureWorks+Raw+Data\\\\AdventureWorks Raw Data\\\\AdventureWorks Returns Data.csv\")"
   ]
  },
  {
   "cell_type": "code",
   "execution_count": 17,
   "id": "29aec388-be3f-406c-a2e5-95e6917fb58c",
   "metadata": {},
   "outputs": [],
   "source": [
    "territory_lu = pd.read_csv(\"C:\\\\Users\\\\USER-PC\\\\Downloads\\\\AdventureWorks+Raw+Data\\\\AdventureWorks Raw Data\\\\AdventureWorks Territory Lookup.csv\")"
   ]
  },
  {
   "cell_type": "code",
   "execution_count": 18,
   "id": "11a9938d-d079-4dd6-a00b-afe308046b39",
   "metadata": {},
   "outputs": [],
   "source": [
    "territory_lu[\"GDP_Capita\"] = [81695.18707133047, 81695.18707133047, 81695.18707133047, 81695.18707133047, 81695.18707133047,  53371.697431970075,\n",
    "                              44460.81784570091, 52745.75570641304,  64711.76560305661, 48866.603960029846]\n",
    "# adding GDP_Capita for mapping"
   ]
  },
  {
   "cell_type": "code",
   "execution_count": 19,
   "id": "bb209f85-4a78-4f50-a2de-dd4a2bbb70f4",
   "metadata": {},
   "outputs": [],
   "source": [
    "# concatenating th sales table"
   ]
  },
  {
   "cell_type": "code",
   "execution_count": 20,
   "id": "e8330dab-9ebf-4ee5-afa6-0199c4e8e3bb",
   "metadata": {},
   "outputs": [],
   "source": [
    "alldf = pd.concat([df1,df2,df3])"
   ]
  },
  {
   "cell_type": "code",
   "execution_count": 16,
   "id": "7bb8fadb-06cc-4345-b802-2b85c2dd0fc3",
   "metadata": {},
   "outputs": [
    {
     "name": "stdout",
     "output_type": "stream",
     "text": [
      "<class 'pandas.core.frame.DataFrame'>\n",
      "Index: 56046 entries, 0 to 29480\n",
      "Data columns (total 8 columns):\n",
      " #   Column         Non-Null Count  Dtype \n",
      "---  ------         --------------  ----- \n",
      " 0   OrderDate      56046 non-null  object\n",
      " 1   StockDate      56046 non-null  object\n",
      " 2   OrderNumber    56046 non-null  object\n",
      " 3   ProductKey     56046 non-null  int64 \n",
      " 4   CustomerKey    56046 non-null  int64 \n",
      " 5   TerritoryKey   56046 non-null  int64 \n",
      " 6   OrderLineItem  56046 non-null  int64 \n",
      " 7   OrderQuantity  56046 non-null  int64 \n",
      "dtypes: int64(5), object(3)\n",
      "memory usage: 3.8+ MB\n"
     ]
    }
   ],
   "source": [
    "alldf.info()"
   ]
  },
  {
   "cell_type": "code",
   "execution_count": 16,
   "id": "ac8b5acb-9f16-4c43-a77c-08a6c8103ec2",
   "metadata": {},
   "outputs": [],
   "source": [
    "# exploring the customer data for possible merging"
   ]
  },
  {
   "cell_type": "code",
   "execution_count": 17,
   "id": "36b1d573-dfca-4107-9720-f5e75cb4604c",
   "metadata": {},
   "outputs": [
    {
     "name": "stdout",
     "output_type": "stream",
     "text": [
      "<class 'pandas.core.frame.DataFrame'>\n",
      "RangeIndex: 18151 entries, 0 to 18150\n",
      "Data columns (total 13 columns):\n",
      " #   Column          Non-Null Count  Dtype  \n",
      "---  ------          --------------  -----  \n",
      " 0   CustomerKey     18148 non-null  float64\n",
      " 1   Prefix          18018 non-null  object \n",
      " 2   FirstName       18148 non-null  object \n",
      " 3   LastName        18148 non-null  object \n",
      " 4   BirthDate       18148 non-null  object \n",
      " 5   MaritalStatus   18148 non-null  object \n",
      " 6   Gender          18018 non-null  object \n",
      " 7   EmailAddress    18148 non-null  object \n",
      " 8   AnnualIncome    18148 non-null  float64\n",
      " 9   TotalChildren   18148 non-null  float64\n",
      " 10  EducationLevel  18148 non-null  object \n",
      " 11  Occupation      18148 non-null  object \n",
      " 12  HomeOwner       18148 non-null  object \n",
      "dtypes: float64(3), object(10)\n",
      "memory usage: 1.8+ MB\n"
     ]
    }
   ],
   "source": [
    "customer_lu.info()"
   ]
  },
  {
   "cell_type": "code",
   "execution_count": 18,
   "id": "4cf618ec-5c32-4ca8-a338-7a6aec5922f1",
   "metadata": {},
   "outputs": [
    {
     "data": {
      "text/plain": [
       "array([11000., 11001., 11002., ..., 29482., 29483.,    nan])"
      ]
     },
     "execution_count": 18,
     "metadata": {},
     "output_type": "execute_result"
    }
   ],
   "source": [
    "customer_lu[\"CustomerKey\"].unique()"
   ]
  },
  {
   "cell_type": "code",
   "execution_count": 19,
   "id": "065cb389-8eeb-4851-a4e4-fdeb8f22f88b",
   "metadata": {},
   "outputs": [],
   "source": [
    "#merging the sales table with customer table by customer key"
   ]
  },
  {
   "cell_type": "code",
   "execution_count": 21,
   "id": "32888a2a-c6b1-4bce-b3e4-afedbe5414d7",
   "metadata": {},
   "outputs": [],
   "source": [
    "sales_customer_lu = pd.merge(alldf, customer_lu, on =\"CustomerKey\", how = \"inner\")"
   ]
  },
  {
   "cell_type": "code",
   "execution_count": 21,
   "id": "6216e6e2-2947-44e8-b0da-6e2888a811f7",
   "metadata": {},
   "outputs": [
    {
     "name": "stdout",
     "output_type": "stream",
     "text": [
      "<class 'pandas.core.frame.DataFrame'>\n",
      "RangeIndex: 56046 entries, 0 to 56045\n",
      "Data columns (total 20 columns):\n",
      " #   Column          Non-Null Count  Dtype  \n",
      "---  ------          --------------  -----  \n",
      " 0   OrderDate       56046 non-null  object \n",
      " 1   StockDate       56046 non-null  object \n",
      " 2   OrderNumber     56046 non-null  object \n",
      " 3   ProductKey      56046 non-null  int64  \n",
      " 4   CustomerKey     56046 non-null  int64  \n",
      " 5   TerritoryKey    56046 non-null  int64  \n",
      " 6   OrderLineItem   56046 non-null  int64  \n",
      " 7   OrderQuantity   56046 non-null  int64  \n",
      " 8   Prefix          55666 non-null  object \n",
      " 9   FirstName       56046 non-null  object \n",
      " 10  LastName        56046 non-null  object \n",
      " 11  BirthDate       56046 non-null  object \n",
      " 12  MaritalStatus   56046 non-null  object \n",
      " 13  Gender          55666 non-null  object \n",
      " 14  EmailAddress    56046 non-null  object \n",
      " 15  AnnualIncome    56046 non-null  float64\n",
      " 16  TotalChildren   56046 non-null  float64\n",
      " 17  EducationLevel  56046 non-null  object \n",
      " 18  Occupation      56046 non-null  object \n",
      " 19  HomeOwner       56046 non-null  object \n",
      "dtypes: float64(2), int64(5), object(13)\n",
      "memory usage: 8.6+ MB\n"
     ]
    }
   ],
   "source": [
    "sales_customer_lu.info()"
   ]
  },
  {
   "cell_type": "code",
   "execution_count": 20,
   "id": "a6d66338-24b7-49e7-8185-2c8e6f7e6625",
   "metadata": {},
   "outputs": [
    {
     "name": "stdout",
     "output_type": "stream",
     "text": [
      "<class 'pandas.core.frame.DataFrame'>\n",
      "RangeIndex: 4 entries, 0 to 3\n",
      "Data columns (total 2 columns):\n",
      " #   Column              Non-Null Count  Dtype \n",
      "---  ------              --------------  ----- \n",
      " 0   ProductCategoryKey  4 non-null      int64 \n",
      " 1   CategoryName        4 non-null      object\n",
      "dtypes: int64(1), object(1)\n",
      "memory usage: 196.0+ bytes\n"
     ]
    }
   ],
   "source": [
    "productCategory_lu.info()"
   ]
  },
  {
   "cell_type": "code",
   "execution_count": null,
   "id": "ad1c6ce9-c9b1-4a73-9de9-4d471cebefd0",
   "metadata": {},
   "outputs": [],
   "source": [
    "# exploring the productcategory, product, productSubCategory table for possible merging"
   ]
  },
  {
   "cell_type": "code",
   "execution_count": 21,
   "id": "5058d8b7-55bd-4500-b866-9c01cdd286fe",
   "metadata": {},
   "outputs": [
    {
     "data": {
      "text/html": [
       "<div>\n",
       "<style scoped>\n",
       "    .dataframe tbody tr th:only-of-type {\n",
       "        vertical-align: middle;\n",
       "    }\n",
       "\n",
       "    .dataframe tbody tr th {\n",
       "        vertical-align: top;\n",
       "    }\n",
       "\n",
       "    .dataframe thead th {\n",
       "        text-align: right;\n",
       "    }\n",
       "</style>\n",
       "<table border=\"1\" class=\"dataframe\">\n",
       "  <thead>\n",
       "    <tr style=\"text-align: right;\">\n",
       "      <th></th>\n",
       "      <th>ProductCategoryKey</th>\n",
       "      <th>CategoryName</th>\n",
       "    </tr>\n",
       "  </thead>\n",
       "  <tbody>\n",
       "    <tr>\n",
       "      <th>0</th>\n",
       "      <td>1</td>\n",
       "      <td>Bikes</td>\n",
       "    </tr>\n",
       "    <tr>\n",
       "      <th>1</th>\n",
       "      <td>2</td>\n",
       "      <td>Components</td>\n",
       "    </tr>\n",
       "    <tr>\n",
       "      <th>2</th>\n",
       "      <td>3</td>\n",
       "      <td>Clothing</td>\n",
       "    </tr>\n",
       "    <tr>\n",
       "      <th>3</th>\n",
       "      <td>4</td>\n",
       "      <td>Accessories</td>\n",
       "    </tr>\n",
       "  </tbody>\n",
       "</table>\n",
       "</div>"
      ],
      "text/plain": [
       "   ProductCategoryKey CategoryName\n",
       "0                   1        Bikes\n",
       "1                   2   Components\n",
       "2                   3     Clothing\n",
       "3                   4  Accessories"
      ]
     },
     "execution_count": 21,
     "metadata": {},
     "output_type": "execute_result"
    }
   ],
   "source": [
    "productCategory_lu.head()"
   ]
  },
  {
   "cell_type": "code",
   "execution_count": 24,
   "id": "a533a136-55bb-4b3e-84ce-abcdadbcb568",
   "metadata": {},
   "outputs": [
    {
     "data": {
      "text/html": [
       "<div>\n",
       "<style scoped>\n",
       "    .dataframe tbody tr th:only-of-type {\n",
       "        vertical-align: middle;\n",
       "    }\n",
       "\n",
       "    .dataframe tbody tr th {\n",
       "        vertical-align: top;\n",
       "    }\n",
       "\n",
       "    .dataframe thead th {\n",
       "        text-align: right;\n",
       "    }\n",
       "</style>\n",
       "<table border=\"1\" class=\"dataframe\">\n",
       "  <thead>\n",
       "    <tr style=\"text-align: right;\">\n",
       "      <th></th>\n",
       "      <th>ProductKey</th>\n",
       "      <th>ProductSubcategoryKey</th>\n",
       "      <th>ProductSKU</th>\n",
       "      <th>ProductName</th>\n",
       "      <th>ModelName</th>\n",
       "      <th>ProductDescription</th>\n",
       "      <th>ProductColor</th>\n",
       "      <th>ProductSize</th>\n",
       "      <th>ProductStyle</th>\n",
       "      <th>ProductCost</th>\n",
       "      <th>ProductPrice</th>\n",
       "    </tr>\n",
       "  </thead>\n",
       "  <tbody>\n",
       "    <tr>\n",
       "      <th>0</th>\n",
       "      <td>214</td>\n",
       "      <td>31</td>\n",
       "      <td>HL-U509-R</td>\n",
       "      <td>Sport-100 Helmet, Red</td>\n",
       "      <td>Sport-100</td>\n",
       "      <td>Universal fit, well-vented, lightweight , snap...</td>\n",
       "      <td>Red</td>\n",
       "      <td>0</td>\n",
       "      <td>0</td>\n",
       "      <td>13.0863</td>\n",
       "      <td>34.9900</td>\n",
       "    </tr>\n",
       "    <tr>\n",
       "      <th>1</th>\n",
       "      <td>215</td>\n",
       "      <td>31</td>\n",
       "      <td>HL-U509</td>\n",
       "      <td>Sport-100 Helmet, Black</td>\n",
       "      <td>Sport-100</td>\n",
       "      <td>Universal fit, well-vented, lightweight , snap...</td>\n",
       "      <td>Black</td>\n",
       "      <td>0</td>\n",
       "      <td>0</td>\n",
       "      <td>12.0278</td>\n",
       "      <td>33.6442</td>\n",
       "    </tr>\n",
       "    <tr>\n",
       "      <th>2</th>\n",
       "      <td>218</td>\n",
       "      <td>23</td>\n",
       "      <td>SO-B909-M</td>\n",
       "      <td>Mountain Bike Socks, M</td>\n",
       "      <td>Mountain Bike Socks</td>\n",
       "      <td>Combination of natural and synthetic fibers st...</td>\n",
       "      <td>White</td>\n",
       "      <td>M</td>\n",
       "      <td>U</td>\n",
       "      <td>3.3963</td>\n",
       "      <td>9.5000</td>\n",
       "    </tr>\n",
       "  </tbody>\n",
       "</table>\n",
       "</div>"
      ],
      "text/plain": [
       "   ProductKey  ProductSubcategoryKey ProductSKU              ProductName  \\\n",
       "0         214                     31  HL-U509-R    Sport-100 Helmet, Red   \n",
       "1         215                     31    HL-U509  Sport-100 Helmet, Black   \n",
       "2         218                     23  SO-B909-M   Mountain Bike Socks, M   \n",
       "\n",
       "             ModelName                                 ProductDescription  \\\n",
       "0            Sport-100  Universal fit, well-vented, lightweight , snap...   \n",
       "1            Sport-100  Universal fit, well-vented, lightweight , snap...   \n",
       "2  Mountain Bike Socks  Combination of natural and synthetic fibers st...   \n",
       "\n",
       "  ProductColor ProductSize ProductStyle  ProductCost  ProductPrice  \n",
       "0          Red           0            0      13.0863       34.9900  \n",
       "1        Black           0            0      12.0278       33.6442  \n",
       "2        White           M            U       3.3963        9.5000  "
      ]
     },
     "execution_count": 24,
     "metadata": {},
     "output_type": "execute_result"
    }
   ],
   "source": [
    "product_lu.head(3)"
   ]
  },
  {
   "cell_type": "code",
   "execution_count": 34,
   "id": "b3e970f5-ab40-4b31-bd93-24ba024328dc",
   "metadata": {},
   "outputs": [
    {
     "data": {
      "text/html": [
       "<div>\n",
       "<style scoped>\n",
       "    .dataframe tbody tr th:only-of-type {\n",
       "        vertical-align: middle;\n",
       "    }\n",
       "\n",
       "    .dataframe tbody tr th {\n",
       "        vertical-align: top;\n",
       "    }\n",
       "\n",
       "    .dataframe thead th {\n",
       "        text-align: right;\n",
       "    }\n",
       "</style>\n",
       "<table border=\"1\" class=\"dataframe\">\n",
       "  <thead>\n",
       "    <tr style=\"text-align: right;\">\n",
       "      <th></th>\n",
       "      <th>ProductSubcategoryKey</th>\n",
       "      <th>SubcategoryName</th>\n",
       "      <th>ProductCategoryKey</th>\n",
       "    </tr>\n",
       "  </thead>\n",
       "  <tbody>\n",
       "    <tr>\n",
       "      <th>0</th>\n",
       "      <td>1</td>\n",
       "      <td>Mountain Bikes</td>\n",
       "      <td>1</td>\n",
       "    </tr>\n",
       "    <tr>\n",
       "      <th>1</th>\n",
       "      <td>2</td>\n",
       "      <td>Road Bikes</td>\n",
       "      <td>1</td>\n",
       "    </tr>\n",
       "    <tr>\n",
       "      <th>2</th>\n",
       "      <td>3</td>\n",
       "      <td>Touring Bikes</td>\n",
       "      <td>1</td>\n",
       "    </tr>\n",
       "  </tbody>\n",
       "</table>\n",
       "</div>"
      ],
      "text/plain": [
       "   ProductSubcategoryKey SubcategoryName  ProductCategoryKey\n",
       "0                      1  Mountain Bikes                   1\n",
       "1                      2      Road Bikes                   1\n",
       "2                      3   Touring Bikes                   1"
      ]
     },
     "execution_count": 34,
     "metadata": {},
     "output_type": "execute_result"
    }
   ],
   "source": [
    "productSubCategory_lu.head(3)"
   ]
  },
  {
   "cell_type": "code",
   "execution_count": null,
   "id": "f59849cf-f5c8-46e4-9318-5856018f7714",
   "metadata": {},
   "outputs": [],
   "source": [
    "# merging productcategory with product subcategory"
   ]
  },
  {
   "cell_type": "code",
   "execution_count": 22,
   "id": "5ccbef35-0fce-459a-a813-43d4b3543868",
   "metadata": {},
   "outputs": [],
   "source": [
    "productCategory_productSubCategory = pd.merge(productCategory_lu, productSubCategory_lu, on = \"ProductCategoryKey\", how = \"inner\")"
   ]
  },
  {
   "cell_type": "code",
   "execution_count": 30,
   "id": "9e46e8d4-35aa-4aa2-a4a2-f05951e44fb5",
   "metadata": {},
   "outputs": [
    {
     "name": "stdout",
     "output_type": "stream",
     "text": [
      "<class 'pandas.core.frame.DataFrame'>\n",
      "RangeIndex: 37 entries, 0 to 36\n",
      "Data columns (total 4 columns):\n",
      " #   Column                 Non-Null Count  Dtype \n",
      "---  ------                 --------------  ----- \n",
      " 0   ProductCategoryKey     37 non-null     int64 \n",
      " 1   CategoryName           37 non-null     object\n",
      " 2   ProductSubcategoryKey  37 non-null     int64 \n",
      " 3   SubcategoryName        37 non-null     object\n",
      "dtypes: int64(2), object(2)\n",
      "memory usage: 1.3+ KB\n"
     ]
    }
   ],
   "source": [
    "productCategory_productSubCategory.info()"
   ]
  },
  {
   "cell_type": "code",
   "execution_count": 35,
   "id": "aa24b498-3b78-4c79-82a1-f1ba7ae066b7",
   "metadata": {},
   "outputs": [
    {
     "data": {
      "text/html": [
       "<div>\n",
       "<style scoped>\n",
       "    .dataframe tbody tr th:only-of-type {\n",
       "        vertical-align: middle;\n",
       "    }\n",
       "\n",
       "    .dataframe tbody tr th {\n",
       "        vertical-align: top;\n",
       "    }\n",
       "\n",
       "    .dataframe thead th {\n",
       "        text-align: right;\n",
       "    }\n",
       "</style>\n",
       "<table border=\"1\" class=\"dataframe\">\n",
       "  <thead>\n",
       "    <tr style=\"text-align: right;\">\n",
       "      <th></th>\n",
       "      <th>ProductCategoryKey</th>\n",
       "      <th>CategoryName</th>\n",
       "      <th>ProductSubcategoryKey</th>\n",
       "      <th>SubcategoryName</th>\n",
       "    </tr>\n",
       "  </thead>\n",
       "  <tbody>\n",
       "    <tr>\n",
       "      <th>0</th>\n",
       "      <td>1</td>\n",
       "      <td>Bikes</td>\n",
       "      <td>1</td>\n",
       "      <td>Mountain Bikes</td>\n",
       "    </tr>\n",
       "    <tr>\n",
       "      <th>1</th>\n",
       "      <td>1</td>\n",
       "      <td>Bikes</td>\n",
       "      <td>2</td>\n",
       "      <td>Road Bikes</td>\n",
       "    </tr>\n",
       "    <tr>\n",
       "      <th>2</th>\n",
       "      <td>1</td>\n",
       "      <td>Bikes</td>\n",
       "      <td>3</td>\n",
       "      <td>Touring Bikes</td>\n",
       "    </tr>\n",
       "  </tbody>\n",
       "</table>\n",
       "</div>"
      ],
      "text/plain": [
       "   ProductCategoryKey CategoryName  ProductSubcategoryKey SubcategoryName\n",
       "0                   1        Bikes                      1  Mountain Bikes\n",
       "1                   1        Bikes                      2      Road Bikes\n",
       "2                   1        Bikes                      3   Touring Bikes"
      ]
     },
     "execution_count": 35,
     "metadata": {},
     "output_type": "execute_result"
    }
   ],
   "source": [
    "productCategory_productSubCategory.head(3)"
   ]
  },
  {
   "cell_type": "code",
   "execution_count": null,
   "id": "396e86fa-ac33-4cf1-a6ec-76ed21783511",
   "metadata": {},
   "outputs": [],
   "source": [
    "#merging product, subcategory, category by productsubcategorykey by productcategory key"
   ]
  },
  {
   "cell_type": "code",
   "execution_count": 23,
   "id": "cea76abe-a154-4130-9502-da94c56054f0",
   "metadata": {},
   "outputs": [],
   "source": [
    "product_productCategory_productSubCategory = pd.merge(product_lu, productCategory_productSubCategory, on = \"ProductSubcategoryKey\", how = \"inner\")"
   ]
  },
  {
   "cell_type": "code",
   "execution_count": 39,
   "id": "8c442b20-f24e-47cc-9a38-a2f1a6f16b18",
   "metadata": {},
   "outputs": [
    {
     "name": "stdout",
     "output_type": "stream",
     "text": [
      "<class 'pandas.core.frame.DataFrame'>\n",
      "RangeIndex: 293 entries, 0 to 292\n",
      "Data columns (total 14 columns):\n",
      " #   Column                 Non-Null Count  Dtype  \n",
      "---  ------                 --------------  -----  \n",
      " 0   ProductKey             293 non-null    int64  \n",
      " 1   ProductSubcategoryKey  293 non-null    int64  \n",
      " 2   ProductSKU             293 non-null    object \n",
      " 3   ProductName            293 non-null    object \n",
      " 4   ModelName              293 non-null    object \n",
      " 5   ProductDescription     293 non-null    object \n",
      " 6   ProductColor           243 non-null    object \n",
      " 7   ProductSize            293 non-null    object \n",
      " 8   ProductStyle           293 non-null    object \n",
      " 9   ProductCost            293 non-null    float64\n",
      " 10  ProductPrice           293 non-null    float64\n",
      " 11  ProductCategoryKey     293 non-null    int64  \n",
      " 12  CategoryName           293 non-null    object \n",
      " 13  SubcategoryName        293 non-null    object \n",
      "dtypes: float64(2), int64(3), object(9)\n",
      "memory usage: 32.2+ KB\n"
     ]
    }
   ],
   "source": [
    "product_productCategory_productSubCategory.info()"
   ]
  },
  {
   "cell_type": "code",
   "execution_count": null,
   "id": "1a52f47a-fc01-4cf0-90a0-ccc85f0b8118",
   "metadata": {},
   "outputs": [],
   "source": [
    "#merging saless, product, subcategory, category by productsubcategorykey by product key"
   ]
  },
  {
   "cell_type": "code",
   "execution_count": 24,
   "id": "ee4b539c-3d17-4007-acd4-71d6272cbed2",
   "metadata": {},
   "outputs": [],
   "source": [
    "sales_customer_product_productCategory_productSubCategory = pd.merge(sales_customer_lu, product_productCategory_productSubCategory, on = \"ProductKey\", how = \"inner\")"
   ]
  },
  {
   "cell_type": "code",
   "execution_count": 105,
   "id": "eb12f151-f401-487c-bbb0-61c2b620e72f",
   "metadata": {},
   "outputs": [
    {
     "name": "stdout",
     "output_type": "stream",
     "text": [
      "<class 'pandas.core.frame.DataFrame'>\n",
      "RangeIndex: 56046 entries, 0 to 56045\n",
      "Data columns (total 33 columns):\n",
      " #   Column                 Non-Null Count  Dtype  \n",
      "---  ------                 --------------  -----  \n",
      " 0   OrderDate              56046 non-null  object \n",
      " 1   StockDate              56046 non-null  object \n",
      " 2   OrderNumber            56046 non-null  object \n",
      " 3   ProductKey             56046 non-null  int64  \n",
      " 4   CustomerKey            56046 non-null  int64  \n",
      " 5   TerritoryKey           56046 non-null  int64  \n",
      " 6   OrderLineItem          56046 non-null  int64  \n",
      " 7   OrderQuantity          56046 non-null  int64  \n",
      " 8   Prefix                 55666 non-null  object \n",
      " 9   FirstName              56046 non-null  object \n",
      " 10  LastName               56046 non-null  object \n",
      " 11  BirthDate              56046 non-null  object \n",
      " 12  MaritalStatus          56046 non-null  object \n",
      " 13  Gender                 55666 non-null  object \n",
      " 14  EmailAddress           56046 non-null  object \n",
      " 15  AnnualIncome           56046 non-null  float64\n",
      " 16  TotalChildren          56046 non-null  float64\n",
      " 17  EducationLevel         56046 non-null  object \n",
      " 18  Occupation             56046 non-null  object \n",
      " 19  HomeOwner              56046 non-null  object \n",
      " 20  ProductSubcategoryKey  56046 non-null  int64  \n",
      " 21  ProductSKU             56046 non-null  object \n",
      " 22  ProductName            56046 non-null  object \n",
      " 23  ModelName              56046 non-null  object \n",
      " 24  ProductDescription     56046 non-null  object \n",
      " 25  ProductColor           29168 non-null  object \n",
      " 26  ProductSize            56046 non-null  object \n",
      " 27  ProductStyle           56046 non-null  object \n",
      " 28  ProductCost            56046 non-null  float64\n",
      " 29  ProductPrice           56046 non-null  float64\n",
      " 30  ProductCategoryKey     56046 non-null  int64  \n",
      " 31  CategoryName           56046 non-null  object \n",
      " 32  SubcategoryName        56046 non-null  object \n",
      "dtypes: float64(4), int64(7), object(22)\n",
      "memory usage: 14.1+ MB\n"
     ]
    }
   ],
   "source": [
    "sales_customer_product_productCategory_productSubCategory.info()"
   ]
  },
  {
   "cell_type": "code",
   "execution_count": 44,
   "id": "ffc982da-539c-46e3-9562-90869b445814",
   "metadata": {},
   "outputs": [],
   "source": [
    "# exploring territory data for possible merging"
   ]
  },
  {
   "cell_type": "code",
   "execution_count": 46,
   "id": "876fc72f-44ea-4fa2-a09b-85985e0ae69e",
   "metadata": {},
   "outputs": [
    {
     "name": "stdout",
     "output_type": "stream",
     "text": [
      "<class 'pandas.core.frame.DataFrame'>\n",
      "RangeIndex: 10 entries, 0 to 9\n",
      "Data columns (total 4 columns):\n",
      " #   Column             Non-Null Count  Dtype \n",
      "---  ------             --------------  ----- \n",
      " 0   SalesTerritoryKey  10 non-null     int64 \n",
      " 1   Region             10 non-null     object\n",
      " 2   Country            10 non-null     object\n",
      " 3   Continent          10 non-null     object\n",
      "dtypes: int64(1), object(3)\n",
      "memory usage: 452.0+ bytes\n"
     ]
    }
   ],
   "source": [
    "territory_lu.info()"
   ]
  },
  {
   "cell_type": "code",
   "execution_count": 150,
   "id": "6f5c48ff-036a-4f82-9681-5f587003fba2",
   "metadata": {},
   "outputs": [
    {
     "data": {
      "text/html": [
       "<div>\n",
       "<style scoped>\n",
       "    .dataframe tbody tr th:only-of-type {\n",
       "        vertical-align: middle;\n",
       "    }\n",
       "\n",
       "    .dataframe tbody tr th {\n",
       "        vertical-align: top;\n",
       "    }\n",
       "\n",
       "    .dataframe thead th {\n",
       "        text-align: right;\n",
       "    }\n",
       "</style>\n",
       "<table border=\"1\" class=\"dataframe\">\n",
       "  <thead>\n",
       "    <tr style=\"text-align: right;\">\n",
       "      <th></th>\n",
       "      <th>SalesTerritoryKey</th>\n",
       "      <th>Region</th>\n",
       "      <th>Country</th>\n",
       "      <th>Continent</th>\n",
       "      <th>GDP_Capita</th>\n",
       "    </tr>\n",
       "  </thead>\n",
       "  <tbody>\n",
       "    <tr>\n",
       "      <th>0</th>\n",
       "      <td>1</td>\n",
       "      <td>Northwest</td>\n",
       "      <td>United States</td>\n",
       "      <td>North America</td>\n",
       "      <td>81695.187071</td>\n",
       "    </tr>\n",
       "    <tr>\n",
       "      <th>1</th>\n",
       "      <td>2</td>\n",
       "      <td>Northeast</td>\n",
       "      <td>United States</td>\n",
       "      <td>North America</td>\n",
       "      <td>81695.187071</td>\n",
       "    </tr>\n",
       "    <tr>\n",
       "      <th>2</th>\n",
       "      <td>3</td>\n",
       "      <td>Central</td>\n",
       "      <td>United States</td>\n",
       "      <td>North America</td>\n",
       "      <td>81695.187071</td>\n",
       "    </tr>\n",
       "    <tr>\n",
       "      <th>3</th>\n",
       "      <td>4</td>\n",
       "      <td>Southwest</td>\n",
       "      <td>United States</td>\n",
       "      <td>North America</td>\n",
       "      <td>81695.187071</td>\n",
       "    </tr>\n",
       "    <tr>\n",
       "      <th>4</th>\n",
       "      <td>5</td>\n",
       "      <td>Southeast</td>\n",
       "      <td>United States</td>\n",
       "      <td>North America</td>\n",
       "      <td>81695.187071</td>\n",
       "    </tr>\n",
       "  </tbody>\n",
       "</table>\n",
       "</div>"
      ],
      "text/plain": [
       "   SalesTerritoryKey     Region        Country      Continent    GDP_Capita\n",
       "0                  1  Northwest  United States  North America  81695.187071\n",
       "1                  2  Northeast  United States  North America  81695.187071\n",
       "2                  3    Central  United States  North America  81695.187071\n",
       "3                  4  Southwest  United States  North America  81695.187071\n",
       "4                  5  Southeast  United States  North America  81695.187071"
      ]
     },
     "execution_count": 150,
     "metadata": {},
     "output_type": "execute_result"
    }
   ],
   "source": [
    "territory_lu.head()"
   ]
  },
  {
   "cell_type": "code",
   "execution_count": 54,
   "id": "c651058d-5777-4340-af7c-fa6976c50de0",
   "metadata": {},
   "outputs": [],
   "source": [
    "# merging all the data together"
   ]
  },
  {
   "cell_type": "code",
   "execution_count": 25,
   "id": "d98eab93-1306-4147-825b-8d0d637023ab",
   "metadata": {},
   "outputs": [],
   "source": [
    "all_data = pd.merge(sales_customer_product_productCategory_productSubCategory, territory_lu, left_on = \"TerritoryKey\", right_on = \"SalesTerritoryKey\", how = \"inner\")"
   ]
  },
  {
   "cell_type": "code",
   "execution_count": 26,
   "id": "72e67670-7ff5-4527-ad1c-b90ec83a15b2",
   "metadata": {},
   "outputs": [],
   "source": [
    "returns = pd.merge(return_data, product_productCategory_productSubCategory, on = \"ProductKey\", how = \"inner\")"
   ]
  },
  {
   "cell_type": "code",
   "execution_count": 116,
   "id": "f2024d0b-1322-4c7d-b171-8e8efcbbdcc6",
   "metadata": {},
   "outputs": [
    {
     "data": {
      "text/html": [
       "<div>\n",
       "<style scoped>\n",
       "    .dataframe tbody tr th:only-of-type {\n",
       "        vertical-align: middle;\n",
       "    }\n",
       "\n",
       "    .dataframe tbody tr th {\n",
       "        vertical-align: top;\n",
       "    }\n",
       "\n",
       "    .dataframe thead th {\n",
       "        text-align: right;\n",
       "    }\n",
       "</style>\n",
       "<table border=\"1\" class=\"dataframe\">\n",
       "  <thead>\n",
       "    <tr style=\"text-align: right;\">\n",
       "      <th></th>\n",
       "      <th>OrderDate</th>\n",
       "      <th>StockDate</th>\n",
       "      <th>OrderNumber</th>\n",
       "      <th>ProductKey</th>\n",
       "      <th>CustomerKey</th>\n",
       "      <th>TerritoryKey</th>\n",
       "      <th>OrderLineItem</th>\n",
       "      <th>OrderQuantity</th>\n",
       "      <th>Prefix</th>\n",
       "      <th>FirstName</th>\n",
       "      <th>LastName</th>\n",
       "      <th>BirthDate</th>\n",
       "      <th>MaritalStatus</th>\n",
       "      <th>Gender</th>\n",
       "      <th>EmailAddress</th>\n",
       "      <th>AnnualIncome</th>\n",
       "      <th>TotalChildren</th>\n",
       "      <th>EducationLevel</th>\n",
       "      <th>Occupation</th>\n",
       "      <th>HomeOwner</th>\n",
       "      <th>ProductSubcategoryKey</th>\n",
       "      <th>ProductSKU</th>\n",
       "      <th>ProductName</th>\n",
       "      <th>ModelName</th>\n",
       "      <th>ProductDescription</th>\n",
       "      <th>ProductColor</th>\n",
       "      <th>ProductSize</th>\n",
       "      <th>ProductStyle</th>\n",
       "      <th>ProductCost</th>\n",
       "      <th>ProductPrice</th>\n",
       "      <th>ProductCategoryKey</th>\n",
       "      <th>CategoryName</th>\n",
       "      <th>SubcategoryName</th>\n",
       "      <th>SalesTerritoryKey</th>\n",
       "      <th>Region</th>\n",
       "      <th>Country</th>\n",
       "      <th>Continent</th>\n",
       "      <th>GDP_Capita</th>\n",
       "      <th>Year</th>\n",
       "      <th>MonthNumber</th>\n",
       "      <th>Month</th>\n",
       "      <th>date</th>\n",
       "      <th>Start of Quater</th>\n",
       "      <th>Quater</th>\n",
       "      <th>ISO_Code</th>\n",
       "      <th>Revenue</th>\n",
       "      <th>COGS</th>\n",
       "      <th>Profit</th>\n",
       "      <th>IncomeGroup</th>\n",
       "    </tr>\n",
       "  </thead>\n",
       "  <tbody>\n",
       "    <tr>\n",
       "      <th>0</th>\n",
       "      <td>2020-01-01</td>\n",
       "      <td>2019-09-21</td>\n",
       "      <td>SO45080</td>\n",
       "      <td>332</td>\n",
       "      <td>14657</td>\n",
       "      <td>1</td>\n",
       "      <td>1</td>\n",
       "      <td>1</td>\n",
       "      <td>MR.</td>\n",
       "      <td>JOHN</td>\n",
       "      <td>THOMAS</td>\n",
       "      <td>11/11/1958</td>\n",
       "      <td>M</td>\n",
       "      <td>M</td>\n",
       "      <td>john48@adventure-works.com</td>\n",
       "      <td>80000.0</td>\n",
       "      <td>1.0</td>\n",
       "      <td>Partial College</td>\n",
       "      <td>Skilled Manual</td>\n",
       "      <td>N</td>\n",
       "      <td>2</td>\n",
       "      <td>BK-R50B-58</td>\n",
       "      <td>Road-650 Black, 58</td>\n",
       "      <td>Road-650</td>\n",
       "      <td>Value-priced bike with many features of our to...</td>\n",
       "      <td>Black</td>\n",
       "      <td>58</td>\n",
       "      <td>U</td>\n",
       "      <td>413.1463</td>\n",
       "      <td>699.0982</td>\n",
       "      <td>1</td>\n",
       "      <td>Bikes</td>\n",
       "      <td>Road Bikes</td>\n",
       "      <td>1</td>\n",
       "      <td>Northwest</td>\n",
       "      <td>United States</td>\n",
       "      <td>North America</td>\n",
       "      <td>81695.187071</td>\n",
       "      <td>2020</td>\n",
       "      <td>01</td>\n",
       "      <td>Jan</td>\n",
       "      <td>31 01 2020</td>\n",
       "      <td>Jan-2020</td>\n",
       "      <td>Q-1</td>\n",
       "      <td>USA</td>\n",
       "      <td>699.10</td>\n",
       "      <td>413.15</td>\n",
       "      <td>285.95</td>\n",
       "      <td>Average income</td>\n",
       "    </tr>\n",
       "    <tr>\n",
       "      <th>1</th>\n",
       "      <td>2020-01-01</td>\n",
       "      <td>2019-12-05</td>\n",
       "      <td>SO45079</td>\n",
       "      <td>312</td>\n",
       "      <td>29255</td>\n",
       "      <td>4</td>\n",
       "      <td>1</td>\n",
       "      <td>1</td>\n",
       "      <td>MR.</td>\n",
       "      <td>KYLE</td>\n",
       "      <td>WASHINGTON</td>\n",
       "      <td>4/11/1955</td>\n",
       "      <td>S</td>\n",
       "      <td>M</td>\n",
       "      <td>kyle8@adventure-works.com</td>\n",
       "      <td>80000.0</td>\n",
       "      <td>3.0</td>\n",
       "      <td>Partial College</td>\n",
       "      <td>Professional</td>\n",
       "      <td>N</td>\n",
       "      <td>2</td>\n",
       "      <td>BK-R93R-48</td>\n",
       "      <td>Road-150 Red, 48</td>\n",
       "      <td>Road-150</td>\n",
       "      <td>This bike is ridden by race winners. Developed...</td>\n",
       "      <td>Red</td>\n",
       "      <td>48</td>\n",
       "      <td>U</td>\n",
       "      <td>2171.2942</td>\n",
       "      <td>3578.2700</td>\n",
       "      <td>1</td>\n",
       "      <td>Bikes</td>\n",
       "      <td>Road Bikes</td>\n",
       "      <td>4</td>\n",
       "      <td>Southwest</td>\n",
       "      <td>United States</td>\n",
       "      <td>North America</td>\n",
       "      <td>81695.187071</td>\n",
       "      <td>2020</td>\n",
       "      <td>01</td>\n",
       "      <td>Jan</td>\n",
       "      <td>31 01 2020</td>\n",
       "      <td>Jan-2020</td>\n",
       "      <td>Q-1</td>\n",
       "      <td>USA</td>\n",
       "      <td>3578.27</td>\n",
       "      <td>2171.29</td>\n",
       "      <td>1406.98</td>\n",
       "      <td>Average income</td>\n",
       "    </tr>\n",
       "    <tr>\n",
       "      <th>2</th>\n",
       "      <td>2020-01-01</td>\n",
       "      <td>2019-10-29</td>\n",
       "      <td>SO45082</td>\n",
       "      <td>350</td>\n",
       "      <td>11455</td>\n",
       "      <td>9</td>\n",
       "      <td>1</td>\n",
       "      <td>1</td>\n",
       "      <td>MR.</td>\n",
       "      <td>ROSS</td>\n",
       "      <td>SANZ</td>\n",
       "      <td>4/21/1974</td>\n",
       "      <td>M</td>\n",
       "      <td>M</td>\n",
       "      <td>ross38@adventure-works.com</td>\n",
       "      <td>100000.0</td>\n",
       "      <td>0.0</td>\n",
       "      <td>High School</td>\n",
       "      <td>Management</td>\n",
       "      <td>Y</td>\n",
       "      <td>1</td>\n",
       "      <td>BK-M82B-44</td>\n",
       "      <td>Mountain-100 Black, 44</td>\n",
       "      <td>Mountain-100</td>\n",
       "      <td>Top-of-the-line competition mountain bike. Per...</td>\n",
       "      <td>Black</td>\n",
       "      <td>44</td>\n",
       "      <td>U</td>\n",
       "      <td>1898.0944</td>\n",
       "      <td>3374.9900</td>\n",
       "      <td>1</td>\n",
       "      <td>Bikes</td>\n",
       "      <td>Mountain Bikes</td>\n",
       "      <td>9</td>\n",
       "      <td>Australia</td>\n",
       "      <td>Australia</td>\n",
       "      <td>Pacific</td>\n",
       "      <td>64711.765603</td>\n",
       "      <td>2020</td>\n",
       "      <td>01</td>\n",
       "      <td>Jan</td>\n",
       "      <td>31 01 2020</td>\n",
       "      <td>Jan-2020</td>\n",
       "      <td>Q-1</td>\n",
       "      <td>AUS</td>\n",
       "      <td>3374.99</td>\n",
       "      <td>1898.09</td>\n",
       "      <td>1476.90</td>\n",
       "      <td>High income</td>\n",
       "    </tr>\n",
       "  </tbody>\n",
       "</table>\n",
       "</div>"
      ],
      "text/plain": [
       "   OrderDate   StockDate OrderNumber  ProductKey CustomerKey  TerritoryKey  \\\n",
       "0 2020-01-01  2019-09-21     SO45080         332       14657             1   \n",
       "1 2020-01-01  2019-12-05     SO45079         312       29255             4   \n",
       "2 2020-01-01  2019-10-29     SO45082         350       11455             9   \n",
       "\n",
       "   OrderLineItem  OrderQuantity Prefix FirstName    LastName   BirthDate  \\\n",
       "0              1              1    MR.      JOHN      THOMAS  11/11/1958   \n",
       "1              1              1    MR.      KYLE  WASHINGTON   4/11/1955   \n",
       "2              1              1    MR.      ROSS        SANZ   4/21/1974   \n",
       "\n",
       "  MaritalStatus Gender                EmailAddress  AnnualIncome  \\\n",
       "0             M      M  john48@adventure-works.com       80000.0   \n",
       "1             S      M   kyle8@adventure-works.com       80000.0   \n",
       "2             M      M  ross38@adventure-works.com      100000.0   \n",
       "\n",
       "   TotalChildren   EducationLevel      Occupation HomeOwner  \\\n",
       "0            1.0  Partial College  Skilled Manual         N   \n",
       "1            3.0  Partial College    Professional         N   \n",
       "2            0.0      High School      Management         Y   \n",
       "\n",
       "   ProductSubcategoryKey  ProductSKU             ProductName     ModelName  \\\n",
       "0                      2  BK-R50B-58      Road-650 Black, 58      Road-650   \n",
       "1                      2  BK-R93R-48        Road-150 Red, 48      Road-150   \n",
       "2                      1  BK-M82B-44  Mountain-100 Black, 44  Mountain-100   \n",
       "\n",
       "                                  ProductDescription ProductColor ProductSize  \\\n",
       "0  Value-priced bike with many features of our to...        Black          58   \n",
       "1  This bike is ridden by race winners. Developed...          Red          48   \n",
       "2  Top-of-the-line competition mountain bike. Per...        Black          44   \n",
       "\n",
       "  ProductStyle  ProductCost  ProductPrice  ProductCategoryKey CategoryName  \\\n",
       "0            U     413.1463      699.0982                   1        Bikes   \n",
       "1            U    2171.2942     3578.2700                   1        Bikes   \n",
       "2            U    1898.0944     3374.9900                   1        Bikes   \n",
       "\n",
       "  SubcategoryName  SalesTerritoryKey     Region        Country      Continent  \\\n",
       "0      Road Bikes                  1  Northwest  United States  North America   \n",
       "1      Road Bikes                  4  Southwest  United States  North America   \n",
       "2  Mountain Bikes                  9  Australia      Australia        Pacific   \n",
       "\n",
       "     GDP_Capita  Year MonthNumber Month        date Start of Quater Quater  \\\n",
       "0  81695.187071  2020          01   Jan  31 01 2020        Jan-2020    Q-1   \n",
       "1  81695.187071  2020          01   Jan  31 01 2020        Jan-2020    Q-1   \n",
       "2  64711.765603  2020          01   Jan  31 01 2020        Jan-2020    Q-1   \n",
       "\n",
       "  ISO_Code  Revenue     COGS   Profit     IncomeGroup  \n",
       "0      USA   699.10   413.15   285.95  Average income  \n",
       "1      USA  3578.27  2171.29  1406.98  Average income  \n",
       "2      AUS  3374.99  1898.09  1476.90     High income  "
      ]
     },
     "execution_count": 116,
     "metadata": {},
     "output_type": "execute_result"
    }
   ],
   "source": [
    "all_data.head(3)"
   ]
  },
  {
   "cell_type": "code",
   "execution_count": 167,
   "id": "5546947f-ba6d-4091-ad60-89e3a1deecbd",
   "metadata": {},
   "outputs": [
    {
     "data": {
      "text/html": [
       "<div>\n",
       "<style scoped>\n",
       "    .dataframe tbody tr th:only-of-type {\n",
       "        vertical-align: middle;\n",
       "    }\n",
       "\n",
       "    .dataframe tbody tr th {\n",
       "        vertical-align: top;\n",
       "    }\n",
       "\n",
       "    .dataframe thead th {\n",
       "        text-align: right;\n",
       "    }\n",
       "</style>\n",
       "<table border=\"1\" class=\"dataframe\">\n",
       "  <thead>\n",
       "    <tr style=\"text-align: right;\">\n",
       "      <th></th>\n",
       "      <th>ReturnDate</th>\n",
       "      <th>TerritoryKey</th>\n",
       "      <th>ProductKey</th>\n",
       "      <th>ReturnQuantity</th>\n",
       "      <th>ProductSKU</th>\n",
       "      <th>ProductName</th>\n",
       "      <th>ProductPrice</th>\n",
       "      <th>CategoryName</th>\n",
       "      <th>SubcategoryName</th>\n",
       "      <th>Cost Returns</th>\n",
       "      <th>Start Of Quater</th>\n",
       "    </tr>\n",
       "  </thead>\n",
       "  <tbody>\n",
       "    <tr>\n",
       "      <th>0</th>\n",
       "      <td>2020-01-18</td>\n",
       "      <td>9</td>\n",
       "      <td>312</td>\n",
       "      <td>1</td>\n",
       "      <td>BK-R93R-48</td>\n",
       "      <td>Road-150 Red, 48</td>\n",
       "      <td>3578.27</td>\n",
       "      <td>Bikes</td>\n",
       "      <td>Road Bikes</td>\n",
       "      <td>3578.27</td>\n",
       "      <td>Jan-2020</td>\n",
       "    </tr>\n",
       "    <tr>\n",
       "      <th>1</th>\n",
       "      <td>2020-01-18</td>\n",
       "      <td>10</td>\n",
       "      <td>310</td>\n",
       "      <td>1</td>\n",
       "      <td>BK-R93R-62</td>\n",
       "      <td>Road-150 Red, 62</td>\n",
       "      <td>3578.27</td>\n",
       "      <td>Bikes</td>\n",
       "      <td>Road Bikes</td>\n",
       "      <td>3578.27</td>\n",
       "      <td>Jan-2020</td>\n",
       "    </tr>\n",
       "    <tr>\n",
       "      <th>2</th>\n",
       "      <td>2020-01-21</td>\n",
       "      <td>8</td>\n",
       "      <td>346</td>\n",
       "      <td>1</td>\n",
       "      <td>BK-M82S-44</td>\n",
       "      <td>Mountain-100 Silver, 44</td>\n",
       "      <td>3399.99</td>\n",
       "      <td>Bikes</td>\n",
       "      <td>Mountain Bikes</td>\n",
       "      <td>3399.99</td>\n",
       "      <td>Jan-2020</td>\n",
       "    </tr>\n",
       "  </tbody>\n",
       "</table>\n",
       "</div>"
      ],
      "text/plain": [
       "  ReturnDate  TerritoryKey  ProductKey  ReturnQuantity  ProductSKU  \\\n",
       "0 2020-01-18             9         312               1  BK-R93R-48   \n",
       "1 2020-01-18            10         310               1  BK-R93R-62   \n",
       "2 2020-01-21             8         346               1  BK-M82S-44   \n",
       "\n",
       "               ProductName  ProductPrice CategoryName SubcategoryName  \\\n",
       "0         Road-150 Red, 48       3578.27        Bikes      Road Bikes   \n",
       "1         Road-150 Red, 62       3578.27        Bikes      Road Bikes   \n",
       "2  Mountain-100 Silver, 44       3399.99        Bikes  Mountain Bikes   \n",
       "\n",
       "   Cost Returns Start Of Quater  \n",
       "0       3578.27        Jan-2020  \n",
       "1       3578.27        Jan-2020  \n",
       "2       3399.99        Jan-2020  "
      ]
     },
     "execution_count": 167,
     "metadata": {},
     "output_type": "execute_result"
    }
   ],
   "source": [
    "returns.head(3)"
   ]
  },
  {
   "cell_type": "code",
   "execution_count": null,
   "id": "3797779a-a9fa-460d-83e1-5c90ca5647cb",
   "metadata": {},
   "outputs": [],
   "source": [
    "# checking out the all merged data"
   ]
  },
  {
   "cell_type": "code",
   "execution_count": 82,
   "id": "c07e3460-0da3-476d-aade-7c1354ab4e3c",
   "metadata": {},
   "outputs": [
    {
     "data": {
      "text/plain": [
       "array([1, 2, 3])"
      ]
     },
     "execution_count": 82,
     "metadata": {},
     "output_type": "execute_result"
    }
   ],
   "source": [
    "all_data[\"OrderQuantity\"].unique()"
   ]
  },
  {
   "cell_type": "code",
   "execution_count": 73,
   "id": "45c7e717-8b65-4532-a8fd-fb04faf9b93a",
   "metadata": {},
   "outputs": [
    {
     "data": {
      "text/plain": [
       "array(['Jan', 'Feb', 'Mar', 'Apr', 'May', 'Jun', 'Jul', 'Aug', 'Sep',\n",
       "       'Oct', 'Nov', 'Dec'], dtype=object)"
      ]
     },
     "execution_count": 73,
     "metadata": {},
     "output_type": "execute_result"
    }
   ],
   "source": [
    "all_data[\"Month\"].unique()"
   ]
  },
  {
   "cell_type": "code",
   "execution_count": 74,
   "id": "8cda530c-5480-496c-9c51-fd754cc5210c",
   "metadata": {},
   "outputs": [
    {
     "data": {
      "text/plain": [
       "array(['Q-1', 'Q-2', 'Q-3', 'Q-4'], dtype=object)"
      ]
     },
     "execution_count": 74,
     "metadata": {},
     "output_type": "execute_result"
    }
   ],
   "source": [
    "all_data[\"Quater\"].unique()"
   ]
  },
  {
   "cell_type": "code",
   "execution_count": 59,
   "id": "c29dbeb2-bd32-4ad9-8007-68502a675d29",
   "metadata": {},
   "outputs": [
    {
     "data": {
      "text/plain": [
       "array(['Road Bikes', 'Mountain Bikes', 'Bottles and Cages',\n",
       "       'Tires and Tubes', 'Bike Stands', 'Touring Bikes', 'Helmets',\n",
       "       'Jerseys', 'Fenders', 'Caps', 'Gloves', 'Socks', 'Hydration Packs',\n",
       "       'Vests', 'Cleaners', 'Bike Racks', 'Shorts'], dtype=object)"
      ]
     },
     "execution_count": 59,
     "metadata": {},
     "output_type": "execute_result"
    }
   ],
   "source": [
    "all_data[\"SubcategoryName\"].unique()"
   ]
  },
  {
   "cell_type": "code",
   "execution_count": 106,
   "id": "5c6f624e-1b48-4a0e-adae-732b0575e89d",
   "metadata": {},
   "outputs": [
    {
     "name": "stdout",
     "output_type": "stream",
     "text": [
      "<class 'pandas.core.frame.DataFrame'>\n",
      "RangeIndex: 56046 entries, 0 to 56045\n",
      "Data columns (total 47 columns):\n",
      " #   Column                 Non-Null Count  Dtype         \n",
      "---  ------                 --------------  -----         \n",
      " 0   OrderDate              56046 non-null  datetime64[ns]\n",
      " 1   StockDate              56046 non-null  object        \n",
      " 2   OrderNumber            56046 non-null  object        \n",
      " 3   ProductKey             56046 non-null  int64         \n",
      " 4   CustomerKey            56046 non-null  object        \n",
      " 5   TerritoryKey           56046 non-null  int64         \n",
      " 6   OrderLineItem          56046 non-null  int64         \n",
      " 7   OrderQuantity          56046 non-null  int64         \n",
      " 8   Prefix                 56046 non-null  object        \n",
      " 9   FirstName              56046 non-null  object        \n",
      " 10  LastName               56046 non-null  object        \n",
      " 11  BirthDate              56046 non-null  object        \n",
      " 12  MaritalStatus          56046 non-null  object        \n",
      " 13  Gender                 56046 non-null  object        \n",
      " 14  EmailAddress           56046 non-null  object        \n",
      " 15  AnnualIncome           56046 non-null  float64       \n",
      " 16  TotalChildren          56046 non-null  float64       \n",
      " 17  EducationLevel         56046 non-null  object        \n",
      " 18  Occupation             56046 non-null  object        \n",
      " 19  HomeOwner              56046 non-null  object        \n",
      " 20  ProductSubcategoryKey  56046 non-null  int64         \n",
      " 21  ProductSKU             56046 non-null  object        \n",
      " 22  ProductName            56046 non-null  object        \n",
      " 23  ModelName              56046 non-null  object        \n",
      " 24  ProductDescription     56046 non-null  object        \n",
      " 25  ProductColor           56046 non-null  object        \n",
      " 26  ProductSize            56046 non-null  object        \n",
      " 27  ProductStyle           56046 non-null  object        \n",
      " 28  ProductCost            56046 non-null  float64       \n",
      " 29  ProductPrice           56046 non-null  float64       \n",
      " 30  ProductCategoryKey     56046 non-null  int64         \n",
      " 31  CategoryName           56046 non-null  object        \n",
      " 32  SubcategoryName        56046 non-null  object        \n",
      " 33  SalesTerritoryKey      56046 non-null  int64         \n",
      " 34  Region                 56046 non-null  object        \n",
      " 35  Country                56046 non-null  object        \n",
      " 36  Continent              56046 non-null  object        \n",
      " 37  Year                   56046 non-null  object        \n",
      " 38  MonthNumber            56046 non-null  object        \n",
      " 39  Month                  56046 non-null  object        \n",
      " 40  date                   56046 non-null  object        \n",
      " 41  Start of Quater        56046 non-null  object        \n",
      " 42  Quater                 56046 non-null  object        \n",
      " 43  Revenue                56046 non-null  float64       \n",
      " 44  COGS                   56046 non-null  float64       \n",
      " 45  Profit                 56046 non-null  float64       \n",
      " 46  ISO_Code               56046 non-null  object        \n",
      "dtypes: datetime64[ns](1), float64(7), int64(7), object(32)\n",
      "memory usage: 20.1+ MB\n"
     ]
    }
   ],
   "source": [
    "all_data.info()"
   ]
  },
  {
   "cell_type": "code",
   "execution_count": 141,
   "id": "00798e61-b053-4a44-80ac-3ac8e8da13db",
   "metadata": {},
   "outputs": [
    {
     "name": "stdout",
     "output_type": "stream",
     "text": [
      "<class 'pandas.core.frame.DataFrame'>\n",
      "RangeIndex: 1809 entries, 0 to 1808\n",
      "Data columns (total 13 columns):\n",
      " #   Column                 Non-Null Count  Dtype  \n",
      "---  ------                 --------------  -----  \n",
      " 0   ReturnDate             1809 non-null   object \n",
      " 1   TerritoryKey           1809 non-null   int64  \n",
      " 2   ProductKey             1809 non-null   int64  \n",
      " 3   ReturnQuantity         1809 non-null   int64  \n",
      " 4   ProductSubcategoryKey  1809 non-null   int64  \n",
      " 5   ProductSKU             1809 non-null   object \n",
      " 6   ProductName            1809 non-null   object \n",
      " 7   ModelName              1809 non-null   object \n",
      " 8   ProductCost            1809 non-null   float64\n",
      " 9   ProductPrice           1809 non-null   float64\n",
      " 10  ProductCategoryKey     1809 non-null   int64  \n",
      " 11  CategoryName           1809 non-null   object \n",
      " 12  SubcategoryName        1809 non-null   object \n",
      "dtypes: float64(2), int64(5), object(6)\n",
      "memory usage: 183.9+ KB\n"
     ]
    }
   ],
   "source": [
    "returns.info()"
   ]
  },
  {
   "cell_type": "markdown",
   "id": "5086787b-3352-4cba-b04c-18f017cb4ec1",
   "metadata": {},
   "source": [
    "# Data cleaning "
   ]
  },
  {
   "cell_type": "code",
   "execution_count": 60,
   "id": "532d60c7-9ee2-42b5-9c13-d453f2b77d33",
   "metadata": {},
   "outputs": [],
   "source": [
    "# adding require columns for the analysis"
   ]
  },
  {
   "cell_type": "code",
   "execution_count": 27,
   "id": "5909a3a4-b366-43bf-8a4d-1f5ff5659024",
   "metadata": {},
   "outputs": [],
   "source": [
    "all_data[\"Year\"] = all_data[\"OrderDate\"].astype(str).str[:4]\n",
    "# adding Year colunms"
   ]
  },
  {
   "cell_type": "code",
   "execution_count": 28,
   "id": "7bce2c44-3b4b-4cab-8af0-d6a7b4a07a21",
   "metadata": {},
   "outputs": [],
   "source": [
    "all_data[\"MonthNumber\"] = all_data[\"OrderDate\"].astype(str).str[5:7]"
   ]
  },
  {
   "cell_type": "code",
   "execution_count": 29,
   "id": "08a70bdd-29e7-4e81-ad9c-36497e791e5d",
   "metadata": {},
   "outputs": [],
   "source": [
    "all_data[\"OrderDate\"] = pd.to_datetime(all_data[\"OrderDate\"])\n",
    "all_data[\"Month\"] = all_data[\"OrderDate\"].dt.strftime(\"%b\")\n",
    "#adding month columnn"
   ]
  },
  {
   "cell_type": "code",
   "execution_count": 30,
   "id": "52d0e6e4-5787-4b6d-a552-4381c33617bb",
   "metadata": {},
   "outputs": [],
   "source": [
    "all_data[\"OrderDate\"] = pd.to_datetime(all_data[\"OrderDate\"])\n",
    "all_data[\"date\"] =all_data[\"OrderDate\"] + pd.offsets.MonthEnd(0)\n",
    "all_data[\"date\"] = all_data[\"date\"].dt.strftime(\"%d %m %Y\")\n",
    "#adding date columnn"
   ]
  },
  {
   "cell_type": "code",
   "execution_count": 31,
   "id": "eafe0089-549f-4e46-9bdc-e62f74afc4fa",
   "metadata": {},
   "outputs": [],
   "source": [
    "all_data[\"OrderDate\"] = pd.to_datetime(all_data[\"OrderDate\"])\n",
    "all_data[\"Start of Quater\"] = all_data[\"OrderDate\"].dt.to_period(\"Q\").dt.start_time.dt.strftime(\"%b-%Y\")\n",
    "#adding Start of quaters"
   ]
  },
  {
   "cell_type": "code",
   "execution_count": 32,
   "id": "3f4be495-cf1c-4424-8b6e-38790f01e499",
   "metadata": {},
   "outputs": [],
   "source": [
    "all_data[\"OrderDate\"] = pd.to_datetime(all_data[\"OrderDate\"])\n",
    "all_data[\"Quater\"] = \"Q-\" + ((all_data[\"OrderDate\"].dt.month -1)//3 +1).astype(str)\n",
    "#adding quater column"
   ]
  },
  {
   "cell_type": "code",
   "execution_count": 33,
   "id": "be7aee05-1e4c-4cf3-96e9-53e95385bcf2",
   "metadata": {},
   "outputs": [],
   "source": [
    "returns[\"ReturnDate\"] = pd.to_datetime(returns[\"ReturnDate\"])\n",
    "returns[\"Start Of Quater\"]= returns[\"ReturnDate\"].dt.to_period(\"Q\").dt.start_time.dt.strftime(\"%b-%Y\")"
   ]
  },
  {
   "cell_type": "code",
   "execution_count": 37,
   "id": "9109d787-e0fa-4430-87f7-0b0f57587123",
   "metadata": {},
   "outputs": [],
   "source": [
    "def get_iso_code(country_name):\n",
    "    try:\n",
    "        return pycountry.countries.lookup(country_name).alpha_3\n",
    "    except LookupError:\n",
    "        return None\n",
    "\n",
    "all_data[\"ISO_Code\"] = all_data[\"Country\"].apply(get_iso_code)\n",
    "# generating ISO Code to create map "
   ]
  },
  {
   "cell_type": "code",
   "execution_count": 115,
   "id": "c53ccea4-c801-4253-9bd9-b5536396e392",
   "metadata": {},
   "outputs": [],
   "source": [
    "def income_earners(income):\n",
    "    if income < 50000:\n",
    "        return \"low income\"\n",
    "    elif income <100000:\n",
    "        return \"Average income\"\n",
    "\n",
    "    else:\n",
    "        return \"High income\"\n",
    "\n",
    "all_data[\"IncomeGroup\"] = all_data[\"AnnualIncome\"].apply(income_earners)\n",
    "    \n"
   ]
  },
  {
   "cell_type": "code",
   "execution_count": null,
   "id": "398f9ae5-3269-401c-8ad2-10baae2ef503",
   "metadata": {},
   "outputs": [],
   "source": [
    "#Removing columns"
   ]
  },
  {
   "cell_type": "code",
   "execution_count": 38,
   "id": "200f8d3c-9b75-4e1d-bfa5-0f74c69bc7d9",
   "metadata": {},
   "outputs": [],
   "source": [
    "returns.drop(columns = [\"ProductDescription\", \"ProductColor\", \"ProductSize\", \"ProductStyle\", \"ModelName\", \"ProductCost\", \"ProductCategoryKey\", \"ProductSubcategoryKey\"],\n",
    "             axis = 1, inplace = True)"
   ]
  },
  {
   "cell_type": "code",
   "execution_count": 25,
   "id": "81edac3c-a7ee-49a5-ac81-e46729f9e709",
   "metadata": {},
   "outputs": [],
   "source": [
    "# filling null values"
   ]
  },
  {
   "cell_type": "code",
   "execution_count": 39,
   "id": "1d6f9559-b79f-48f7-854c-4fbb1b8fe6d3",
   "metadata": {},
   "outputs": [],
   "source": [
    "all_data[\"Gender\"] = all_data[\"Gender\"].fillna(\"No Gender\")"
   ]
  },
  {
   "cell_type": "code",
   "execution_count": 40,
   "id": "50c5159e-9120-43f8-89fd-c2589d35691f",
   "metadata": {},
   "outputs": [],
   "source": [
    "all_data[\"Prefix\"] = all_data[\"Prefix\"].fillna(\"No Value\")"
   ]
  },
  {
   "cell_type": "code",
   "execution_count": 41,
   "id": "5f43be57-3795-4890-a374-ed823ee82dac",
   "metadata": {},
   "outputs": [],
   "source": [
    "all_data[\"ProductColor\"] = all_data[\"ProductColor\"].fillna(\"No Value\")"
   ]
  },
  {
   "cell_type": "code",
   "execution_count": 42,
   "id": "f93d905e-7779-4db3-8ce5-126870af244b",
   "metadata": {},
   "outputs": [],
   "source": [
    "# converting Datatype"
   ]
  },
  {
   "cell_type": "code",
   "execution_count": 43,
   "id": "000ca457-d101-483a-9e21-e3ce0566ae22",
   "metadata": {},
   "outputs": [],
   "source": [
    "all_data[\"CustomerKey\"] = all_data[\"CustomerKey\"].astype(str)"
   ]
  },
  {
   "cell_type": "code",
   "execution_count": 44,
   "id": "3d75098f-2b75-42d4-99be-834057df7a76",
   "metadata": {},
   "outputs": [],
   "source": [
    "#checking for null values"
   ]
  },
  {
   "cell_type": "code",
   "execution_count": 165,
   "id": "c183b9a9-f3c2-4daf-99b7-7d05c466adab",
   "metadata": {},
   "outputs": [
    {
     "data": {
      "text/html": [
       "<div>\n",
       "<style scoped>\n",
       "    .dataframe tbody tr th:only-of-type {\n",
       "        vertical-align: middle;\n",
       "    }\n",
       "\n",
       "    .dataframe tbody tr th {\n",
       "        vertical-align: top;\n",
       "    }\n",
       "\n",
       "    .dataframe thead th {\n",
       "        text-align: right;\n",
       "    }\n",
       "</style>\n",
       "<table border=\"1\" class=\"dataframe\">\n",
       "  <thead>\n",
       "    <tr style=\"text-align: right;\">\n",
       "      <th></th>\n",
       "      <th>OrderDate</th>\n",
       "      <th>StockDate</th>\n",
       "      <th>OrderNumber</th>\n",
       "      <th>ProductKey</th>\n",
       "      <th>CustomerKey</th>\n",
       "      <th>TerritoryKey</th>\n",
       "      <th>OrderLineItem</th>\n",
       "      <th>OrderQuantity</th>\n",
       "      <th>Prefix</th>\n",
       "      <th>FirstName</th>\n",
       "      <th>LastName</th>\n",
       "      <th>BirthDate</th>\n",
       "      <th>MaritalStatus</th>\n",
       "      <th>Gender</th>\n",
       "      <th>EmailAddress</th>\n",
       "      <th>AnnualIncome</th>\n",
       "      <th>TotalChildren</th>\n",
       "      <th>EducationLevel</th>\n",
       "      <th>Occupation</th>\n",
       "      <th>HomeOwner</th>\n",
       "      <th>ProductSubcategoryKey</th>\n",
       "      <th>ProductSKU</th>\n",
       "      <th>ProductName</th>\n",
       "      <th>ModelName</th>\n",
       "      <th>ProductDescription</th>\n",
       "      <th>ProductColor</th>\n",
       "      <th>ProductSize</th>\n",
       "      <th>ProductStyle</th>\n",
       "      <th>ProductCost</th>\n",
       "      <th>ProductPrice</th>\n",
       "      <th>ProductCategoryKey</th>\n",
       "      <th>CategoryName</th>\n",
       "      <th>SubcategoryName</th>\n",
       "      <th>SalesTerritoryKey</th>\n",
       "      <th>Region</th>\n",
       "      <th>Country</th>\n",
       "      <th>Continent</th>\n",
       "      <th>GDP_Capita</th>\n",
       "      <th>Year</th>\n",
       "      <th>MonthNumber</th>\n",
       "      <th>Month</th>\n",
       "      <th>date</th>\n",
       "      <th>Start of Quater</th>\n",
       "      <th>Quater</th>\n",
       "      <th>ISO_Code</th>\n",
       "    </tr>\n",
       "  </thead>\n",
       "  <tbody>\n",
       "  </tbody>\n",
       "</table>\n",
       "</div>"
      ],
      "text/plain": [
       "Empty DataFrame\n",
       "Columns: [OrderDate, StockDate, OrderNumber, ProductKey, CustomerKey, TerritoryKey, OrderLineItem, OrderQuantity, Prefix, FirstName, LastName, BirthDate, MaritalStatus, Gender, EmailAddress, AnnualIncome, TotalChildren, EducationLevel, Occupation, HomeOwner, ProductSubcategoryKey, ProductSKU, ProductName, ModelName, ProductDescription, ProductColor, ProductSize, ProductStyle, ProductCost, ProductPrice, ProductCategoryKey, CategoryName, SubcategoryName, SalesTerritoryKey, Region, Country, Continent, GDP_Capita, Year, MonthNumber, Month, date, Start of Quater, Quater, ISO_Code]\n",
       "Index: []"
      ]
     },
     "execution_count": 165,
     "metadata": {},
     "output_type": "execute_result"
    }
   ],
   "source": [
    "all_data_nan = all_data[all_data.isna().any(axis=1)]\n",
    "all_data_nan"
   ]
  },
  {
   "cell_type": "markdown",
   "id": "6d70bf8a-7987-4414-bed7-ea5d4492f4cf",
   "metadata": {},
   "source": [
    "# Analysis"
   ]
  },
  {
   "cell_type": "code",
   "execution_count": 31,
   "id": "9821d09a-ca5a-4f0f-a4fe-db46db19a6a1",
   "metadata": {},
   "outputs": [],
   "source": [
    "# Calculated column analysis"
   ]
  },
  {
   "cell_type": "code",
   "execution_count": 45,
   "id": "81e4cab8-c2a9-4ce9-bb98-779b9020ce1e",
   "metadata": {},
   "outputs": [],
   "source": [
    "all_data[\"Revenue\"] = round(all_data[\"OrderQuantity\"] * all_data[\"ProductPrice\"], 2)"
   ]
  },
  {
   "cell_type": "code",
   "execution_count": 46,
   "id": "4b3d8b4c-aa04-4fc9-96ce-325b040e84f9",
   "metadata": {},
   "outputs": [],
   "source": [
    "all_data[\"COGS\"] = round(all_data[\"OrderQuantity\"] * all_data[\"ProductCost\"], 2)"
   ]
  },
  {
   "cell_type": "code",
   "execution_count": 47,
   "id": "b35dcb28-31bb-412c-8a3b-90884aa4df7d",
   "metadata": {},
   "outputs": [],
   "source": [
    "all_data[\"Profit\"] = round(all_data[\"Revenue\"] - all_data[\"COGS\"], 2)"
   ]
  },
  {
   "cell_type": "code",
   "execution_count": 48,
   "id": "d8517d2e-1dc3-41ec-8f13-83735ee972c0",
   "metadata": {},
   "outputs": [],
   "source": [
    "returns[\"Cost Returns\"] = round(returns[\"ReturnQuantity\"] * returns[\"ProductPrice\"], 2)"
   ]
  },
  {
   "cell_type": "code",
   "execution_count": 49,
   "id": "3d117430-43f5-41be-8b7e-3e27d4781b82",
   "metadata": {},
   "outputs": [],
   "source": [
    "# measure column analysis"
   ]
  },
  {
   "cell_type": "code",
   "execution_count": 50,
   "id": "edb3def3-8eab-4ce7-86f8-54c131752756",
   "metadata": {},
   "outputs": [
    {
     "name": "stdout",
     "output_type": "stream",
     "text": [
      "24914583.66\n"
     ]
    }
   ],
   "source": [
    "Total_Revenue = round(all_data[\"Revenue\"].sum(),2)\n",
    "print(Total_Revenue)"
   ]
  },
  {
   "cell_type": "code",
   "execution_count": 51,
   "id": "7346aebc-13f6-4e1b-97d2-d86447e1f920",
   "metadata": {},
   "outputs": [
    {
     "name": "stdout",
     "output_type": "stream",
     "text": [
      "10457736.53\n"
     ]
    }
   ],
   "source": [
    "Total_Profit = round(all_data[\"Profit\"].sum(),2)\n",
    "print(Total_Profit)"
   ]
  },
  {
   "cell_type": "code",
   "execution_count": 52,
   "id": "1e3e8bb5-00dd-4915-b29a-d48e1ac3171e",
   "metadata": {},
   "outputs": [
    {
     "name": "stdout",
     "output_type": "stream",
     "text": [
      "14456847.13\n"
     ]
    }
   ],
   "source": [
    "Total_COGS = round(all_data[\"COGS\"].sum(),2)\n",
    "print(Total_COGS)"
   ]
  },
  {
   "cell_type": "code",
   "execution_count": 53,
   "id": "43d80ed9-d8e0-4576-a5e2-9b5c3630f152",
   "metadata": {},
   "outputs": [
    {
     "name": "stdout",
     "output_type": "stream",
     "text": [
      "17416\n"
     ]
    }
   ],
   "source": [
    "Total_Customer = all_data[\"CustomerKey\"].nunique()\n",
    "print(Total_Customer)"
   ]
  },
  {
   "cell_type": "code",
   "execution_count": 54,
   "id": "24900ccd-da96-4d08-ad16-0b45ffabe71f",
   "metadata": {},
   "outputs": [
    {
     "name": "stdout",
     "output_type": "stream",
     "text": [
      "25164\n"
     ]
    }
   ],
   "source": [
    "Total_Orders = all_data[\"OrderNumber\"].nunique()\n",
    "print(Total_Orders)"
   ]
  },
  {
   "cell_type": "code",
   "execution_count": 55,
   "id": "b8752931-3f94-4be6-a6af-a9cb3bd6fd3d",
   "metadata": {},
   "outputs": [
    {
     "name": "stdout",
     "output_type": "stream",
     "text": [
      "84174\n"
     ]
    }
   ],
   "source": [
    "Total_Quantity_Sold = all_data[\"OrderQuantity\"].sum()\n",
    "print(Total_Quantity_Sold)"
   ]
  },
  {
   "cell_type": "code",
   "execution_count": 56,
   "id": "3acbf204-9daf-4a51-bde3-68896747218c",
   "metadata": {},
   "outputs": [
    {
     "name": "stdout",
     "output_type": "stream",
     "text": [
      "1828\n"
     ]
    }
   ],
   "source": [
    "Total_Quantity_Returned = returns[\"ReturnQuantity\"].sum()\n",
    "print(Total_Quantity_Returned)"
   ]
  },
  {
   "cell_type": "code",
   "execution_count": 57,
   "id": "6fcf82c4-782c-4c2e-bbe9-6e66836d86a0",
   "metadata": {},
   "outputs": [
    {
     "name": "stdout",
     "output_type": "stream",
     "text": [
      "2.17\n"
     ]
    }
   ],
   "source": [
    "Return_Rate = round(((Total_Quantity_Returned / Total_Quantity_Sold) * 100),2)\n",
    "print(Return_Rate)"
   ]
  },
  {
   "cell_type": "code",
   "execution_count": 58,
   "id": "135c6bb3-dea0-45a7-829e-f5f7588eaad0",
   "metadata": {},
   "outputs": [
    {
     "name": "stdout",
     "output_type": "stream",
     "text": [
      "765277.55\n"
     ]
    }
   ],
   "source": [
    "Total_Return_Cost = round(returns[\"Cost Returns\"].sum(),2)\n",
    "print(Total_Return_Cost)"
   ]
  },
  {
   "cell_type": "code",
   "execution_count": 59,
   "id": "ec6f3069-31e6-4bf4-9fb6-e0ab4a29cfc7",
   "metadata": {},
   "outputs": [
    {
     "name": "stdout",
     "output_type": "stream",
     "text": [
      "24149306.11\n"
     ]
    }
   ],
   "source": [
    "Revenue_After_Returns = Total_Revenue - Total_Return_Cost \n",
    "print(Revenue_After_Returns)"
   ]
  },
  {
   "cell_type": "code",
   "execution_count": 60,
   "id": "be7d832e-938b-42a1-84a9-7185cfd0b821",
   "metadata": {},
   "outputs": [],
   "source": [
    "# customer analysis"
   ]
  },
  {
   "cell_type": "code",
   "execution_count": 61,
   "id": "c9d1d2f3-e24e-4a7f-90e7-e20eea0cece6",
   "metadata": {},
   "outputs": [
    {
     "name": "stdout",
     "output_type": "stream",
     "text": [
      "      Gender      Revenue\n",
      "0          F  12515049.73\n",
      "1          M  12243619.88\n",
      "2  No Gender    155914.05\n"
     ]
    }
   ],
   "source": [
    "all_data_customer_gender = all_data.groupby(by = \"Gender\")[\"Revenue\"].sum()\n",
    "reset_all_data_customer_gender = all_data_customer_gender.reset_index()\n",
    "sort_reset_all_data_customer_gender = reset_all_data_customer_gender.sort_values(by = \"Revenue\", ascending = False)\n",
    "print(sort_reset_all_data_customer_gender)"
   ]
  },
  {
   "cell_type": "code",
   "execution_count": 62,
   "id": "19edf73d-dce3-4827-83f8-31bf5ad6d8cd",
   "metadata": {},
   "outputs": [
    {
     "name": "stdout",
     "output_type": "stream",
     "text": [
      "  MaritalStatus      Revenue\n",
      "0             M  12899962.71\n",
      "1             S  12014620.95\n"
     ]
    }
   ],
   "source": [
    "all_data_customer_MS = all_data.groupby(by = \"MaritalStatus\")[\"Revenue\"].sum()\n",
    "reset_all_data_customer_MS = all_data_customer_MS.reset_index()\n",
    "print(reset_all_data_customer_MS)"
   ]
  },
  {
   "cell_type": "code",
   "execution_count": 63,
   "id": "0bb9b4e7-82de-4899-a6c7-149484cda25b",
   "metadata": {},
   "outputs": [
    {
     "name": "stdout",
     "output_type": "stream",
     "text": [
      "        EducationLevel     Revenue\n",
      "0            Bachelors  8420057.54\n",
      "3      Partial College  6530435.82\n",
      "1      Graduate Degree  4670879.93\n",
      "2          High School  3878441.56\n",
      "4  Partial High School  1414768.81\n"
     ]
    }
   ],
   "source": [
    "all_data_customer_EL = all_data.groupby(by = \"EducationLevel\")[\"Revenue\"].sum()\n",
    "reset_all_data_customer_EL = all_data_customer_EL.reset_index()\n",
    "sort_reset_all_data_customer_EL = reset_all_data_customer_EL.sort_values(by = \"Revenue\", ascending = False) \n",
    "print(sort_reset_all_data_customer_EL)"
   ]
  },
  {
   "cell_type": "code",
   "execution_count": 64,
   "id": "aa6bc073-de11-49b2-ba8d-473b6ef639e6",
   "metadata": {},
   "outputs": [
    {
     "name": "stdout",
     "output_type": "stream",
     "text": [
      "       Occupation     Revenue\n",
      "3    Professional  8466166.88\n",
      "4  Skilled Manual  5371044.30\n",
      "1      Management  4624925.31\n",
      "0        Clerical  3988370.19\n",
      "2          Manual  2464076.98\n"
     ]
    }
   ],
   "source": [
    "all_data_customer_occupation = all_data.groupby(by = \"Occupation\")[\"Revenue\"].sum()\n",
    "reset_all_data_customer_occupation = all_data_customer_occupation.reset_index()\n",
    "sort_reset_all_data_customer_occupation = reset_all_data_customer_occupation.sort_values(by = \"Revenue\", ascending = False)\n",
    "print(sort_reset_all_data_customer_occupation)"
   ]
  },
  {
   "cell_type": "code",
   "execution_count": null,
   "id": "87afcce0-a244-4a07-ae47-e2faca957579",
   "metadata": {},
   "outputs": [],
   "source": []
  },
  {
   "cell_type": "code",
   "execution_count": 65,
   "id": "7b1476c9-07a9-425e-87ff-7c905c6c76b1",
   "metadata": {},
   "outputs": [],
   "source": [
    "# Product analysis"
   ]
  },
  {
   "cell_type": "code",
   "execution_count": 66,
   "id": "775b11b8-0cdb-4e0f-968a-ccc156e593db",
   "metadata": {},
   "outputs": [
    {
     "name": "stdout",
     "output_type": "stream",
     "text": [
      "  CategoryName      Revenue      Profit\n",
      "1        Bikes  23642500.06  9726169.08\n",
      "0  Accessories    906656.58   569767.46\n",
      "2     Clothing    365427.02   161799.99\n"
     ]
    }
   ],
   "source": [
    "all_data_product_category = all_data.groupby(by = \"CategoryName\")[[\"Revenue\", \"Profit\"]].sum()\n",
    "reset_all_data_product_category = all_data_product_category.reset_index()\n",
    "sort_reset_all_data_product_category = reset_all_data_product_category.sort_values(by = \"Revenue\", ascending = False)\n",
    "print(sort_reset_all_data_product_category)"
   ]
  },
  {
   "cell_type": "code",
   "execution_count": 67,
   "id": "40fe1e64-a97d-4bdd-90c6-f60526fa4aab",
   "metadata": {},
   "outputs": [
    {
     "name": "stdout",
     "output_type": "stream",
     "text": [
      "      SubcategoryName      Revenue\n",
      "11         Road Bikes  11287183.77\n",
      "10     Mountain Bikes   8583751.63\n",
      "15      Touring Bikes   3771564.66\n",
      "14    Tires and Tubes    380826.68\n",
      "7             Helmets    205817.41\n",
      "9             Jerseys    158569.27\n",
      "2   Bottles and Cages    107744.94\n",
      "5             Fenders     87040.80\n",
      "12             Shorts     66070.56\n",
      "6              Gloves     62264.56\n",
      "8     Hydration Packs     38218.05\n",
      "1         Bike Stands     37206.00\n",
      "0          Bike Racks     36240.00\n",
      "3                Caps     35882.76\n",
      "16              Vests     33083.50\n",
      "4            Cleaners     13562.70\n",
      "13              Socks      9556.37\n"
     ]
    }
   ],
   "source": [
    "all_data_product_subcategory = all_data.groupby(by = \"SubcategoryName\")[\"Revenue\"].sum()\n",
    "reset_all_data_product_subcategory = all_data_product_subcategory.reset_index()\n",
    "sort_reset_all_data_product_subcategory = reset_all_data_product_subcategory.sort_values(\"Revenue\", ascending = False)\n",
    "print(sort_reset_all_data_product_subcategory)"
   ]
  },
  {
   "cell_type": "code",
   "execution_count": 68,
   "id": "29691b10-808d-48b5-828a-c299e54d2a6e",
   "metadata": {},
   "outputs": [
    {
     "name": "stdout",
     "output_type": "stream",
     "text": [
      "  CategoryName  ReturnQuantity  Cost Returns\n",
      "0  Accessories            1130      21255.59\n",
      "1        Bikes             429     733553.45\n",
      "2     Clothing             269      10468.51\n"
     ]
    }
   ],
   "source": [
    "returned_product_category = returns.groupby(by = \"CategoryName\")[[\"ReturnQuantity\", \"Cost Returns\"]].sum()\n",
    "returned_product_category = returned_product_category.reset_index()\n",
    "sort_returned_product_category = returned_product_category.sort_values(by = \"ReturnQuantity\", ascending = False)\n",
    "print(sort_returned_product_category)"
   ]
  },
  {
   "cell_type": "code",
   "execution_count": 69,
   "id": "7e13b293-28e5-48ed-8131-9b9400090d9c",
   "metadata": {},
   "outputs": [],
   "source": [
    "# Time Series Analysis"
   ]
  },
  {
   "cell_type": "code",
   "execution_count": 70,
   "id": "62656636-fecc-4007-9dcf-2d3c9b16b4da",
   "metadata": {},
   "outputs": [
    {
     "name": "stdout",
     "output_type": "stream",
     "text": [
      "   Year     Revenue      Profit\n",
      "0  2020  6404933.98  2601605.63\n",
      "1  2021  9324202.39  3967091.53\n",
      "2  2022  9185447.29  3889039.37\n"
     ]
    }
   ],
   "source": [
    "all_data_time_year = all_data.groupby(\"Year\")[[\"Revenue\", \"Profit\"]].sum()\n",
    "reset_all_data_time_year = all_data_time_year.reset_index()\n",
    "print(reset_all_data_time_year)"
   ]
  },
  {
   "cell_type": "code",
   "execution_count": 71,
   "id": "39f30a96-7940-4a0f-829c-6f44db65e2a7",
   "metadata": {},
   "outputs": [
    {
     "name": "stdout",
     "output_type": "stream",
     "text": [
      "         date     Revenue     Profit\n",
      "1  2020-01-31   585312.69  235814.67\n",
      "2  2020-02-29   532226.28  212187.27\n",
      "3  2020-03-31   643436.14  259085.24\n",
      "4  2020-04-30   653364.08  263032.06\n",
      "5  2020-05-31   659325.94  266276.48\n",
      "6  2020-06-30   669988.72  270068.24\n",
      "7  2020-07-31   486114.93  196682.65\n",
      "8  2020-08-31   536452.77  218355.33\n",
      "9  2020-09-30   344062.89  140516.01\n",
      "10 2020-10-31   404276.65  168581.63\n",
      "11 2020-11-30   326611.22  134175.83\n",
      "12 2020-12-31   563761.67  236830.22\n",
      "13 2021-01-31   432425.86  182044.22\n",
      "14 2021-02-28   474162.94  200044.17\n",
      "15 2021-03-31   471962.02  199610.83\n",
      "16 2021-04-30   494957.58  209521.51\n",
      "17 2021-05-31   545535.02  233012.92\n",
      "18 2021-06-30   533825.21  227744.75\n",
      "19 2021-07-31   815356.33  342624.55\n",
      "20 2021-08-31   804192.89  348097.43\n",
      "21 2021-09-30   952743.10  410593.63\n",
      "22 2021-10-31  1029820.50  441169.72\n",
      "23 2021-11-30  1133912.58  482941.87\n",
      "24 2021-12-31  1635308.36  689685.93\n",
      "25 2022-01-31  1274378.36  541845.88\n",
      "26 2022-02-28  1339240.95  567575.51\n",
      "27 2022-03-31  1448595.71  613454.60\n",
      "28 2022-04-30  1527813.28  643828.64\n",
      "29 2022-05-31  1768432.18  750755.61\n",
      "30 2022-06-30  1826986.81  771579.13\n"
     ]
    }
   ],
   "source": [
    "all_data_overtime = all_data.groupby(\"date\")[[\"Revenue\", \"Profit\"]].sum()\n",
    "reset_all_data_overtime = all_data_overtime.reset_index()\n",
    "EOmonth = [\"31 01 2020\", \"29 02 2020\", \"31 03 2020\", \"30 04 2020\", \"31 05 2020\", \"30 06 2020\", \"31 07 2020\", \"31 08 2020\", \"30 09 2020\",\n",
    "          \"31 10 2020\", \"30 11 2020\", \"31 12 2020\", \"31 01 2021\", \"28 02 2021\", \"31 03 2021\", \"30 04 2021\", \"31 05 2021\", \"30 06 2021\",\n",
    "          \"31 07 2021\", \"31 08 2021\", \"30 09 2021\", \"31 10 2021\", \"30 11 2021\", \"31 12 2021\", \"31 01 2022\", \"28 02 2022\", \"31 03 2022\",\n",
    "          \"30 04 2022\", \"31 05 2022\", \"30 06 2022\"]\n",
    "reset_all_data_overtime[\"date\"] = pd.Categorical(reset_all_data_overtime[\"date\"], categories = EOmonth, ordered = True)\n",
    "reset_all_data_overtime = reset_all_data_overtime.sort_values(\"date\")\n",
    "reset_all_data_overtime[\"old index\"] = reset_all_data_overtime.index\n",
    "reset_all_data_overtime.index = range(1, len(reset_all_data_overtime)+1)\n",
    "reset_all_data_overtime.drop(columns = \"old index\", axis = 1, inplace = True)\n",
    "reset_all_data_overtime[\"date\"] = pd.to_datetime(reset_all_data_overtime[\"date\"], format = \"%d %m %Y\")\n",
    "print(reset_all_data_overtime)"
   ]
  },
  {
   "cell_type": "code",
   "execution_count": 73,
   "id": "8e161283-0881-49e0-a814-c070a007c7ff",
   "metadata": {},
   "outputs": [
    {
     "name": "stdout",
     "output_type": "stream",
     "text": [
      "   Month     Revenue      Profit\n",
      "1    Jan  2292116.91   959704.77\n",
      "2    Feb  2345630.17   979806.95\n",
      "3    Mar  2563993.87  1072150.67\n",
      "4    Apr  2676134.94  1116382.21\n",
      "5    May  2973293.14  1250045.01\n",
      "6    Jun  3030800.74  1269392.12\n",
      "7    Jul  1301471.26   539307.20\n",
      "8    Aug  1340645.66   566452.76\n",
      "9    Sep  1296805.99   551109.64\n",
      "10   Oct  1434097.15   609751.35\n",
      "11   Nov  1460523.80   617117.70\n",
      "12   Dec  2199070.03   926516.15\n"
     ]
    }
   ],
   "source": [
    "all_data_time_month = all_data.groupby(\"Month\")[[\"Revenue\", \"Profit\"]].sum()\n",
    "reset_all_data_time_month = all_data_time_month.reset_index()\n",
    "month_order = [\"Jan\", \"Feb\", \"Mar\", \"Apr\", \"May\", \"Jun\", \"Jul\", \"Aug\", \"Sep\", \"Oct\", \"Nov\", \"Dec\"]\n",
    "reset_all_data_time_month[\"Month\"] = pd.Categorical(reset_all_data_time_month[\"Month\"], categories = month_order, ordered = True)\n",
    "reset_all_data_time_month = reset_all_data_time_month.sort_values(\"Month\")\n",
    "reset_all_data_time_month[\"old index\"] = reset_all_data_time_month.index\n",
    "reset_all_data_time_month.index = range(1, len(reset_all_data_time_month)+1)\n",
    "reset_all_data_time_month.drop(columns = \"old index\", axis = 1, inplace = True)\n",
    "print(reset_all_data_time_month)"
   ]
  },
  {
   "cell_type": "code",
   "execution_count": 74,
   "id": "05722684-ec65-4121-a7d4-28a79a8239e1",
   "metadata": {},
   "outputs": [
    {
     "name": "stdout",
     "output_type": "stream",
     "text": [
      "  Quater     Revenue\n",
      "0    Q-1  7201740.95\n",
      "1    Q-2  8680228.82\n",
      "2    Q-3  3938922.91\n",
      "3    Q-4  5093690.98\n"
     ]
    }
   ],
   "source": [
    "all_data_time_quater = all_data.groupby(\"Quater\")[\"Revenue\"].sum()\n",
    "reset_all_data_time_quater = all_data_time_quater.reset_index()\n",
    "quater_order = [\"Q-1\", \"Q-2\", \"Q-3\", \"Q-4\"]\n",
    "reset_all_data_time_quater[\"Quater\"] = pd.Categorical(reset_all_data_time_quater[\"Quater\"], categories = quater_order, ordered = True)\n",
    "print(reset_all_data_time_quater)"
   ]
  },
  {
   "cell_type": "code",
   "execution_count": 75,
   "id": "2abca127-f347-4da0-8daa-f9e53f0ac821",
   "metadata": {},
   "outputs": [
    {
     "name": "stdout",
     "output_type": "stream",
     "text": [
      "   Start of Quater  OrderNumber\n",
      "1         Jan-2020          547\n",
      "2         Apr-2020          622\n",
      "3         Jul-2020          721\n",
      "4         Oct-2020          740\n",
      "5         Jan-2021          775\n",
      "6         Apr-2021          931\n",
      "7         Jul-2021         8923\n",
      "8         Oct-2021        13306\n",
      "9         Jan-2022        13649\n",
      "10        Apr-2022        15832\n"
     ]
    }
   ],
   "source": [
    "all_data_orders = all_data.groupby(by = \"Start of Quater\")[\"OrderNumber\"].count()\n",
    "reset_all_data_orders = all_data_orders.reset_index()\n",
    "quater_month = (\"Jan-2020\", \"Apr-2020\", \"Jul-2020\", \"Oct-2020\", \"Jan-2021\", \"Apr-2021\", \"Jul-2021\", \"Oct-2021\", \"Jan-2022\", \"Apr-2022\")\n",
    "reset_all_data_orders[\"Start of Quater\"]= pd.Categorical(reset_all_data_orders[\"Start of Quater\"], categories = quater_month, ordered = True)\n",
    "reset_all_data_orders = reset_all_data_orders.sort_values(\"Start of Quater\")\n",
    "reset_all_data_orders[\"Old Index\"] = reset_all_data_orders.index\n",
    "reset_all_data_orders.index = range(1, len(reset_all_data_orders)+1)\n",
    "reset_all_data_orders.drop(columns = \"Old Index\",axis = 1, inplace = True)\n",
    "print(reset_all_data_orders)"
   ]
  },
  {
   "cell_type": "code",
   "execution_count": 76,
   "id": "44688a30-b6ed-4734-a548-ebad4b75d7ec",
   "metadata": {},
   "outputs": [
    {
     "name": "stdout",
     "output_type": "stream",
     "text": [
      "   Start of Quater  CustomerKey\n",
      "1         Jan-2020          547\n",
      "2         Apr-2020          622\n",
      "3         Jul-2020          721\n",
      "4         Oct-2020          740\n",
      "5         Jan-2021          775\n",
      "6         Apr-2021          931\n",
      "7         Jul-2021         3416\n",
      "8         Oct-2021         4996\n",
      "9         Jan-2022         5140\n",
      "10        Apr-2022         5934\n"
     ]
    }
   ],
   "source": [
    "all_data_customer = all_data.groupby(by = \"Start of Quater\")[\"CustomerKey\"].nunique()\n",
    "reset_all_data_customer = all_data_customer.reset_index()\n",
    "quater_month = (\"Jan-2020\", \"Apr-2020\", \"Jul-2020\", \"Oct-2020\", \"Jan-2021\", \"Apr-2021\", \"Jul-2021\", \"Oct-2021\", \"Jan-2022\", \"Apr-2022\")\n",
    "reset_all_data_customer[\"Start of Quater\"]= pd.Categorical(reset_all_data_customer[\"Start of Quater\"], categories = quater_month, ordered = True)\n",
    "reset_all_data_customer = reset_all_data_customer.sort_values(\"Start of Quater\")\n",
    "reset_all_data_customer[\"Old Index\"] = reset_all_data_customer.index\n",
    "reset_all_data_customer.index = range(1, len(reset_all_data_customer)+1)\n",
    "reset_all_data_customer.drop(columns = \"Old Index\",axis = 1, inplace = True)\n",
    "print(reset_all_data_customer)"
   ]
  },
  {
   "cell_type": "code",
   "execution_count": 77,
   "id": "b06e22f7-e4c4-430e-a325-b26d471a4818",
   "metadata": {},
   "outputs": [
    {
     "name": "stdout",
     "output_type": "stream",
     "text": [
      "   Start Of Quater  ReturnQuantity  Cost Returns\n",
      "1         Jan-2020              17      57188.30\n",
      "2         Apr-2020              29      82624.24\n",
      "3         Jul-2020              11      20565.90\n",
      "4         Oct-2020              29      51253.32\n",
      "5         Jan-2021              24      39804.88\n",
      "6         Apr-2021              23      39128.10\n",
      "7         Jul-2021             287      82878.61\n",
      "8         Oct-2021             436     114537.23\n",
      "9         Jan-2022             472     103323.38\n",
      "10        Apr-2022             500     173973.59\n"
     ]
    }
   ],
   "source": [
    "returns_quantity = returns.groupby(by = \"Start Of Quater\")[[\"ReturnQuantity\", \"Cost Returns\"]].sum()\n",
    "reset_returns_quantity = returns_quantity.reset_index()\n",
    "quater_month = (\"Jan-2020\", \"Apr-2020\", \"Jul-2020\", \"Oct-2020\", \"Jan-2021\", \"Apr-2021\", \"Jul-2021\", \"Oct-2021\", \"Jan-2022\", \"Apr-2022\")\n",
    "reset_returns_quantity[\"Start Of Quater\"]= pd.Categorical(reset_returns_quantity[\"Start Of Quater\"], categories = quater_month, ordered = True)\n",
    "reset_returns_quantity = reset_returns_quantity.sort_values(\"Start Of Quater\")\n",
    "reset_returns_quantity[\"Old Index\"] = reset_returns_quantity.index\n",
    "reset_returns_quantity.index = range(1, len(reset_returns_quantity)+1)\n",
    "reset_returns_quantity.drop(columns = \"Old Index\",axis = 1, inplace = True)\n",
    "print(reset_returns_quantity)"
   ]
  },
  {
   "cell_type": "code",
   "execution_count": 78,
   "id": "5223eb14-6aba-490e-911a-09899beb0fbb",
   "metadata": {},
   "outputs": [],
   "source": [
    "# geoographical analysis"
   ]
  },
  {
   "cell_type": "code",
   "execution_count": 79,
   "id": "e785f64a-a335-4ca4-8e1f-e0620250edc6",
   "metadata": {},
   "outputs": [
    {
     "name": "stdout",
     "output_type": "stream",
     "text": [
      "       Continent     Revenue\n",
      "1  North America  9708244.70\n",
      "0         Europe  7789883.95\n",
      "2        Pacific  7416455.01\n"
     ]
    }
   ],
   "source": [
    "all_data_geo_continent = all_data.groupby(\"Continent\")[\"Revenue\"].sum()\n",
    "reset_all_data_geo_continent = all_data_geo_continent.reset_index()\n",
    "sort_reset_all_data_geo_continent = reset_all_data_geo_continent.sort_values(by = \"Revenue\", ascending = False)\n",
    "print(sort_reset_all_data_geo_continent)"
   ]
  },
  {
   "cell_type": "code",
   "execution_count": 80,
   "id": "b46a23c3-35ee-4170-9622-4ff02920667a",
   "metadata": {},
   "outputs": [
    {
     "name": "stdout",
     "output_type": "stream",
     "text": [
      "          Country     Revenue\n",
      "5   United States  7938999.23\n",
      "0       Australia  7416455.01\n",
      "4  United Kingdom  2902561.58\n",
      "3         Germany  2524679.60\n",
      "2          France  2362642.77\n",
      "1          Canada  1769245.47\n"
     ]
    }
   ],
   "source": [
    "all_data_geo_country = all_data.groupby(\"Country\")[\"Revenue\"].sum()\n",
    "reset_all_data_geo_country = all_data_geo_country.reset_index()\n",
    "sort_reset_all_data_geo_country = reset_all_data_geo_country.sort_values(by = \"Revenue\", ascending = False)\n",
    "print(sort_reset_all_data_geo_country)"
   ]
  },
  {
   "cell_type": "code",
   "execution_count": 81,
   "id": "a9a1426f-0f98-429e-a6cb-b0f6afadd86b",
   "metadata": {},
   "outputs": [
    {
     "name": "stdout",
     "output_type": "stream",
     "text": [
      "           Region     Revenue\n",
      "0       Australia  7416455.01\n",
      "8       Southwest  4822794.68\n",
      "6       Northwest  3095074.30\n",
      "9  United Kingdom  2902561.58\n",
      "4         Germany  2524679.60\n",
      "3          France  2362642.77\n",
      "1          Canada  1769245.47\n",
      "7       Southeast    11585.63\n",
      "5       Northeast     6401.56\n",
      "2         Central     3143.06\n"
     ]
    }
   ],
   "source": [
    "all_data_geo_region = all_data.groupby(\"Region\")[\"Revenue\"].sum()\n",
    "reset_all_data_geo_region = all_data_geo_region.reset_index()\n",
    "sort_reset_all_data_geo_region = reset_all_data_geo_region.sort_values(by = \"Revenue\", ascending = False)\n",
    "print(sort_reset_all_data_geo_region)"
   ]
  },
  {
   "cell_type": "markdown",
   "id": "03e2231a-aa34-4c5c-97d2-165a26bc414f",
   "metadata": {},
   "source": [
    "# Vizualization"
   ]
  },
  {
   "cell_type": "code",
   "execution_count": null,
   "id": "06f8aaf2-a42f-4da4-ad35-cc9024e279c7",
   "metadata": {},
   "outputs": [],
   "source": [
    "# BY CUSTOMER"
   ]
  },
  {
   "cell_type": "code",
   "execution_count": 270,
   "id": "72d27b21-1e8a-4348-b76b-c1d0c0bc352b",
   "metadata": {},
   "outputs": [
    {
     "data": {
      "image/png": "[encoded data removed]",
      "text/plain": [
       "<Figure size 700x400 with 1 Axes>"
      ]
     },
     "metadata": {},
     "output_type": "display_data"
    }
   ],
   "source": [
    "fig, ax= plt.subplots(figsize = (7,4))\n",
    "ax.set_facecolor(\"lightgrey\")\n",
    "lg_name = (\"Female\", \"Male\", \"No Gender\")\n",
    "ax.set_title(\" % Revenue Generated By Gender\", pad = 20, color = \"white\")\n",
    "wedges, text, autotext = ax.pie(sort_reset_all_data_customer_gender[\"Revenue\"], colors = [\"lime\", \"lightgreen\", \"grey\"], radius =3, \n",
    "       center = (0,0),  autopct=\"%.1f%%\", pctdistance = 0.8, counterclock = True, textprops = {\"fontsize\": 12, \"color\" : \"black\"},\n",
    "       wedgeprops = {\"linewidth\": 1, \"edgecolor\": \"lightgrey\"}, frame = True)\n",
    "ax.legend(wedges, lg_name, loc=\"center left\", bbox_to_anchor=(1, 0.5)) \n",
    "plt.axis(\"equal\")\n",
    "plt.show()\n"
   ]
  },
  {
   "cell_type": "code",
   "execution_count": null,
   "id": "7bb78968-56bd-4c73-ae05-81ceb2a52a28",
   "metadata": {},
   "outputs": [],
   "source": []
  },
  {
   "cell_type": "code",
   "execution_count": 271,
   "id": "58bfa691-6111-4de5-b4f7-1ab86cb0a2f7",
   "metadata": {},
   "outputs": [
    {
     "data": {
      "image/png": "[encoded data removed]",
      "text/plain": [
       "<Figure size 700x400 with 1 Axes>"
      ]
     },
     "metadata": {},
     "output_type": "display_data"
    }
   ],
   "source": [
    "fig, ax= plt.subplots(figsize = (7,4))\n",
    "ax.set_facecolor(\"lightgrey\")\n",
    "l_name = (\"Married\", \"Single\")\n",
    "ax.set_title(\"% Revenue Generated By Marital Status\", pad = 20, color = \"white\")\n",
    "wedges, text, autotext = ax.pie(reset_all_data_customer_MS[\"Revenue\"], colors = [\"lime\", \"grey\"], radius =3, \n",
    "       center = (0,0),  autopct=\"%.1f%%\", pctdistance = 0.78, counterclock = True, textprops = {\"fontsize\": 12, \"color\" : \"black\"},\n",
    "       wedgeprops = {\"linewidth\": 1, \"edgecolor\": \"white\"}, frame = True)\n",
    "ax.legend(wedges, l_name, loc=\"center left\", bbox_to_anchor=(1, 0.5))\n",
    "plt.axis(\"equal\")\n",
    "plt.show()"
   ]
  },
  {
   "cell_type": "code",
   "execution_count": 272,
   "id": "1cdb0ad2-6274-44ef-afd5-8e74de4f9c8d",
   "metadata": {},
   "outputs": [
    {
     "data": {
      "text/plain": [
       "Text(0.5, 1.0, 'Revenue Generated By Occupation (In Milions)')"
      ]
     },
     "execution_count": 272,
     "metadata": {},
     "output_type": "execute_result"
    },
    {
     "data": {
      "image/png": "[encoded data removed]",
      "text/plain": [
       "<Figure size 1000x300 with 1 Axes>"
      ]
     },
     "metadata": {},
     "output_type": "display_data"
    }
   ],
   "source": [
    "fig,ax = plt.subplots(figsize = (10,3))\n",
    "ax.set_facecolor(\"lightgrey\")\n",
    "ax.bar(sort_reset_all_data_customer_occupation[\"Occupation\"], sort_reset_all_data_customer_occupation[\"Revenue\"], \n",
    "       data = sort_reset_all_data_customer_occupation, color = [\"green\", \"lime\", \"lightgreen\", \"red\", \"red\"])\n",
    "plt.xlabel(\"Occupation\", color = \"black\")\n",
    "plt.ylabel(\"Revene\", color = \"black\")\n",
    "plt.title(\"Revenue Generated By Occupation (In Milions)\", color = \"white\")"
   ]
  },
  {
   "cell_type": "code",
   "execution_count": null,
   "id": "930ce0a5-ce61-4b9f-a1ce-52f9e4e81b77",
   "metadata": {},
   "outputs": [],
   "source": [
    "px.treemap()"
   ]
  },
  {
   "cell_type": "code",
   "execution_count": null,
   "id": "fbfbd7a8-6902-41af-a852-f98aebc698d6",
   "metadata": {},
   "outputs": [],
   "source": [
    "# BY PRODUCT CATEGORIES AND SUB_CATEGORIES"
   ]
  },
  {
   "cell_type": "code",
   "execution_count": 101,
   "id": "b4b1b042-d925-4408-9f4c-711b0e43bf6f",
   "metadata": {},
   "outputs": [
    {
     "data": {
      "application/vnd.plotly.v1+json": {
       "config": {
        "plotlyServerURL": "https://plot.ly"
       },
       "data": [
        {
         "branchvalues": "total",
         "customdata": [
          [
           36240,
           "Accessories",
           "Bike Racks"
          ],
          [
           906656.58,
           "Accessories",
           "(?)"
          ],
          [
           33083.5,
           "Clothing",
           "Vests"
          ],
          [
           3771564.66,
           "Bikes",
           "Touring Bikes"
          ],
          [
           380826.68,
           "Accessories",
           "Tires and Tubes"
          ],
          [
           9556.37,
           "Clothing",
           "Socks"
          ],
          [
           66070.56,
           "Clothing",
           "Shorts"
          ],
          [
           11287183.77,
           "Bikes",
           "Road Bikes"
          ],
          [
           8583751.63,
           "Bikes",
           "Mountain Bikes"
          ],
          [
           158569.27,
           "Clothing",
           "Jerseys"
          ],
          [
           38218.05,
           "Accessories",
           "Hydration Packs"
          ],
          [
           205817.41,
           "Accessories",
           "Helmets"
          ],
          [
           62264.560000000005,
           "Clothing",
           "Gloves"
          ],
          [
           87040.8,
           "Accessories",
           "Fenders"
          ],
          [
           13562.7,
           "Accessories",
           "Cleaners"
          ],
          [
           35882.76,
           "Clothing",
           "Caps"
          ],
          [
           107744.94,
           "Accessories",
           "Bottles and Cages"
          ],
          [
           37206,
           "Accessories",
           "Bike Stands"
          ],
          [
           23642500.06,
           "Bikes",
           "(?)"
          ],
          [
           365427.02,
           "Clothing",
           "(?)"
          ]
         ],
         "domain": {
          "x": [
           0,
           1
          ],
          "y": [
           0,
           1
          ]
         },
         "hovertemplate": "<b>Category:</b> %{customdata[1]}<br><b>Subcategory:</b> %{label}<br><b>Revenue:</b> %{value}<br>",
         "hovertext": [
          "Bike Racks",
          "(?)",
          "Vests",
          "Touring Bikes",
          "Tires and Tubes",
          "Socks",
          "Shorts",
          "Road Bikes",
          "Mountain Bikes",
          "Jerseys",
          "Hydration Packs",
          "Helmets",
          "Gloves",
          "Fenders",
          "Cleaners",
          "Caps",
          "Bottles and Cages",
          "Bike Stands",
          "(?)",
          "(?)"
         ],
         "ids": [
          "Accessories/Bike Racks",
          "Accessories",
          "Clothing/Vests",
          "Bikes/Touring Bikes",
          "Accessories/Tires and Tubes",
          "Clothing/Socks",
          "Clothing/Shorts",
          "Bikes/Road Bikes",
          "Bikes/Mountain Bikes",
          "Clothing/Jerseys",
          "Accessories/Hydration Packs",
          "Accessories/Helmets",
          "Clothing/Gloves",
          "Accessories/Fenders",
          "Accessories/Cleaners",
          "Clothing/Caps",
          "Accessories/Bottles and Cages",
          "Accessories/Bike Stands",
          "Bikes",
          "Clothing"
         ],
         "labels": [
          "Bike Racks",
          "Accessories",
          "Vests",
          "Touring Bikes",
          "Tires and Tubes",
          "Socks",
          "Shorts",
          "Road Bikes",
          "Mountain Bikes",
          "Jerseys",
          "Hydration Packs",
          "Helmets",
          "Gloves",
          "Fenders",
          "Cleaners",
          "Caps",
          "Bottles and Cages",
          "Bike Stands",
          "Bikes",
          "Clothing"
         ],
         "marker": {
          "colors": [
           "#636efa",
           "#636efa",
           "#EF553B",
           "#00cc96",
           "#636efa",
           "#EF553B",
           "#EF553B",
           "#00cc96",
           "#00cc96",
           "#EF553B",
           "#636efa",
           "#636efa",
           "#EF553B",
           "#636efa",
           "#636efa",
           "#EF553B",
           "#636efa",
           "#636efa",
           "#00cc96",
           "#EF553B"
          ]
         },
         "name": "",
         "parents": [
          "Accessories",
          "",
          "Clothing",
          "Bikes",
          "Accessories",
          "Clothing",
          "Clothing",
          "Bikes",
          "Bikes",
          "Clothing",
          "Accessories",
          "Accessories",
          "Clothing",
          "Accessories",
          "Accessories",
          "Clothing",
          "Accessories",
          "Accessories",
          "",
          ""
         ],
         "type": "treemap",
         "values": [
          36240,
          906656.58,
          33083.5,
          3771564.66,
          380826.68,
          9556.37,
          66070.56,
          11287183.77,
          8583751.63,
          158569.27,
          38218.05,
          205817.41,
          62264.560000000005,
          87040.8,
          13562.7,
          35882.76,
          107744.94,
          37206,
          23642500.06,
          365427.02
         ]
        }
       ],
       "layout": {
        "autosize": true,
        "font": {
         "family": "Arial",
         "size": 15
        },
        "legend": {
         "tracegroupgap": 0
        },
        "margin": {
         "b": 25,
         "l": 25,
         "r": 25,
         "t": 50
        },
        "paper_bgcolor": "black",
        "template": {
         "data": {
          "bar": [
           {
            "error_x": {
             "color": "#2a3f5f"
            },
            "error_y": {
             "color": "#2a3f5f"
            },
            "marker": {
             "line": {
              "color": "#E5ECF6",
              "width": 0.5
             },
             "pattern": {
              "fillmode": "overlay",
              "size": 10,
              "solidity": 0.2
             }
            },
            "type": "bar"
           }
          ],
          "barpolar": [
           {
            "marker": {
             "line": {
              "color": "#E5ECF6",
              "width": 0.5
             },
             "pattern": {
              "fillmode": "overlay",
              "size": 10,
              "solidity": 0.2
             }
            },
            "type": "barpolar"
           }
          ],
          "carpet": [
           {
            "aaxis": {
             "endlinecolor": "#2a3f5f",
             "gridcolor": "white",
             "linecolor": "white",
             "minorgridcolor": "white",
             "startlinecolor": "#2a3f5f"
            },
            "baxis": {
             "endlinecolor": "#2a3f5f",
             "gridcolor": "white",
             "linecolor": "white",
             "minorgridcolor": "white",
             "startlinecolor": "#2a3f5f"
            },
            "type": "carpet"
           }
          ],
          "choropleth": [
           {
            "colorbar": {
             "outlinewidth": 0,
             "ticks": ""
            },
            "type": "choropleth"
           }
          ],
          "contour": [
           {
            "colorbar": {
             "outlinewidth": 0,
             "ticks": ""
            },
            "colorscale": [
             [
              0,
              "#0d0887"
             ],
             [
              0.1111111111111111,
              "#46039f"
             ],
             [
              0.2222222222222222,
              "#7201a8"
             ],
             [
              0.3333333333333333,
              "#9c179e"
             ],
             [
              0.4444444444444444,
              "#bd3786"
             ],
             [
              0.5555555555555556,
              "#d8576b"
             ],
             [
              0.6666666666666666,
              "#ed7953"
             ],
             [
              0.7777777777777778,
              "#fb9f3a"
             ],
             [
              0.8888888888888888,
              "#fdca26"
             ],
             [
              1,
              "#f0f921"
             ]
            ],
            "type": "contour"
           }
          ],
          "contourcarpet": [
           {
            "colorbar": {
             "outlinewidth": 0,
             "ticks": ""
            },
            "type": "contourcarpet"
           }
          ],
          "heatmap": [
           {
            "colorbar": {
             "outlinewidth": 0,
             "ticks": ""
            },
            "colorscale": [
             [
              0,
              "#0d0887"
             ],
             [
              0.1111111111111111,
              "#46039f"
             ],
             [
              0.2222222222222222,
              "#7201a8"
             ],
             [
              0.3333333333333333,
              "#9c179e"
             ],
             [
              0.4444444444444444,
              "#bd3786"
             ],
             [
              0.5555555555555556,
              "#d8576b"
             ],
             [
              0.6666666666666666,
              "#ed7953"
             ],
             [
              0.7777777777777778,
              "#fb9f3a"
             ],
             [
              0.8888888888888888,
              "#fdca26"
             ],
             [
              1,
              "#f0f921"
             ]
            ],
            "type": "heatmap"
           }
          ],
          "heatmapgl": [
           {
            "colorbar": {
             "outlinewidth": 0,
             "ticks": ""
            },
            "colorscale": [
             [
              0,
              "#0d0887"
             ],
             [
              0.1111111111111111,
              "#46039f"
             ],
             [
              0.2222222222222222,
              "#7201a8"
             ],
             [
              0.3333333333333333,
              "#9c179e"
             ],
             [
              0.4444444444444444,
              "#bd3786"
             ],
             [
              0.5555555555555556,
              "#d8576b"
             ],
             [
              0.6666666666666666,
              "#ed7953"
             ],
             [
              0.7777777777777778,
              "#fb9f3a"
             ],
             [
              0.8888888888888888,
              "#fdca26"
             ],
             [
              1,
              "#f0f921"
             ]
            ],
            "type": "heatmapgl"
           }
          ],
          "histogram": [
           {
            "marker": {
             "pattern": {
              "fillmode": "overlay",
              "size": 10,
              "solidity": 0.2
             }
            },
            "type": "histogram"
           }
          ],
          "histogram2d": [
           {
            "colorbar": {
             "outlinewidth": 0,
             "ticks": ""
            },
            "colorscale": [
             [
              0,
              "#0d0887"
             ],
             [
              0.1111111111111111,
              "#46039f"
             ],
             [
              0.2222222222222222,
              "#7201a8"
             ],
             [
              0.3333333333333333,
              "#9c179e"
             ],
             [
              0.4444444444444444,
              "#bd3786"
             ],
             [
              0.5555555555555556,
              "#d8576b"
             ],
             [
              0.6666666666666666,
              "#ed7953"
             ],
             [
              0.7777777777777778,
              "#fb9f3a"
             ],
             [
              0.8888888888888888,
              "#fdca26"
             ],
             [
              1,
              "#f0f921"
             ]
            ],
            "type": "histogram2d"
           }
          ],
          "histogram2dcontour": [
           {
            "colorbar": {
             "outlinewidth": 0,
             "ticks": ""
            },
            "colorscale": [
             [
              0,
              "#0d0887"
             ],
             [
              0.1111111111111111,
              "#46039f"
             ],
             [
              0.2222222222222222,
              "#7201a8"
             ],
             [
              0.3333333333333333,
              "#9c179e"
             ],
             [
              0.4444444444444444,
              "#bd3786"
             ],
             [
              0.5555555555555556,
              "#d8576b"
             ],
             [
              0.6666666666666666,
              "#ed7953"
             ],
             [
              0.7777777777777778,
              "#fb9f3a"
             ],
             [
              0.8888888888888888,
              "#fdca26"
             ],
             [
              1,
              "#f0f921"
             ]
            ],
            "type": "histogram2dcontour"
           }
          ],
          "mesh3d": [
           {
            "colorbar": {
             "outlinewidth": 0,
             "ticks": ""
            },
            "type": "mesh3d"
           }
          ],
          "parcoords": [
           {
            "line": {
             "colorbar": {
              "outlinewidth": 0,
              "ticks": ""
             }
            },
            "type": "parcoords"
           }
          ],
          "pie": [
           {
            "automargin": true,
            "type": "pie"
           }
          ],
          "scatter": [
           {
            "fillpattern": {
             "fillmode": "overlay",
             "size": 10,
             "solidity": 0.2
            },
            "type": "scatter"
           }
          ],
          "scatter3d": [
           {
            "line": {
             "colorbar": {
              "outlinewidth": 0,
              "ticks": ""
             }
            },
            "marker": {
             "colorbar": {
              "outlinewidth": 0,
              "ticks": ""
             }
            },
            "type": "scatter3d"
           }
          ],
          "scattercarpet": [
           {
            "marker": {
             "colorbar": {
              "outlinewidth": 0,
              "ticks": ""
             }
            },
            "type": "scattercarpet"
           }
          ],
          "scattergeo": [
           {
            "marker": {
             "colorbar": {
              "outlinewidth": 0,
              "ticks": ""
             }
            },
            "type": "scattergeo"
           }
          ],
          "scattergl": [
           {
            "marker": {
             "colorbar": {
              "outlinewidth": 0,
              "ticks": ""
             }
            },
            "type": "scattergl"
           }
          ],
          "scattermapbox": [
           {
            "marker": {
             "colorbar": {
              "outlinewidth": 0,
              "ticks": ""
             }
            },
            "type": "scattermapbox"
           }
          ],
          "scatterpolar": [
           {
            "marker": {
             "colorbar": {
              "outlinewidth": 0,
              "ticks": ""
             }
            },
            "type": "scatterpolar"
           }
          ],
          "scatterpolargl": [
           {
            "marker": {
             "colorbar": {
              "outlinewidth": 0,
              "ticks": ""
             }
            },
            "type": "scatterpolargl"
           }
          ],
          "scatterternary": [
           {
            "marker": {
             "colorbar": {
              "outlinewidth": 0,
              "ticks": ""
             }
            },
            "type": "scatterternary"
           }
          ],
          "surface": [
           {
            "colorbar": {
             "outlinewidth": 0,
             "ticks": ""
            },
            "colorscale": [
             [
              0,
              "#0d0887"
             ],
             [
              0.1111111111111111,
              "#46039f"
             ],
             [
              0.2222222222222222,
              "#7201a8"
             ],
             [
              0.3333333333333333,
              "#9c179e"
             ],
             [
              0.4444444444444444,
              "#bd3786"
             ],
             [
              0.5555555555555556,
              "#d8576b"
             ],
             [
              0.6666666666666666,
              "#ed7953"
             ],
             [
              0.7777777777777778,
              "#fb9f3a"
             ],
             [
              0.8888888888888888,
              "#fdca26"
             ],
             [
              1,
              "#f0f921"
             ]
            ],
            "type": "surface"
           }
          ],
          "table": [
           {
            "cells": {
             "fill": {
              "color": "#EBF0F8"
             },
             "line": {
              "color": "white"
             }
            },
            "header": {
             "fill": {
              "color": "#C8D4E3"
             },
             "line": {
              "color": "white"
             }
            },
            "type": "table"
           }
          ]
         },
         "layout": {
          "annotationdefaults": {
           "arrowcolor": "#2a3f5f",
           "arrowhead": 0,
           "arrowwidth": 1
          },
          "autotypenumbers": "strict",
          "coloraxis": {
           "colorbar": {
            "outlinewidth": 0,
            "ticks": ""
           }
          },
          "colorscale": {
           "diverging": [
            [
             0,
             "#8e0152"
            ],
            [
             0.1,
             "#c51b7d"
            ],
            [
             0.2,
             "#de77ae"
            ],
            [
             0.3,
             "#f1b6da"
            ],
            [
             0.4,
             "#fde0ef"
            ],
            [
             0.5,
             "#f7f7f7"
            ],
            [
             0.6,
             "#e6f5d0"
            ],
            [
             0.7,
             "#b8e186"
            ],
            [
             0.8,
             "#7fbc41"
            ],
            [
             0.9,
             "#4d9221"
            ],
            [
             1,
             "#276419"
            ]
           ],
           "sequential": [
            [
             0,
             "#0d0887"
            ],
            [
             0.1111111111111111,
             "#46039f"
            ],
            [
             0.2222222222222222,
             "#7201a8"
            ],
            [
             0.3333333333333333,
             "#9c179e"
            ],
            [
             0.4444444444444444,
             "#bd3786"
            ],
            [
             0.5555555555555556,
             "#d8576b"
            ],
            [
             0.6666666666666666,
             "#ed7953"
            ],
            [
             0.7777777777777778,
             "#fb9f3a"
            ],
            [
             0.8888888888888888,
             "#fdca26"
            ],
            [
             1,
             "#f0f921"
            ]
           ],
           "sequentialminus": [
            [
             0,
             "#0d0887"
            ],
            [
             0.1111111111111111,
             "#46039f"
            ],
            [
             0.2222222222222222,
             "#7201a8"
            ],
            [
             0.3333333333333333,
             "#9c179e"
            ],
            [
             0.4444444444444444,
             "#bd3786"
            ],
            [
             0.5555555555555556,
             "#d8576b"
            ],
            [
             0.6666666666666666,
             "#ed7953"
            ],
            [
             0.7777777777777778,
             "#fb9f3a"
            ],
            [
             0.8888888888888888,
             "#fdca26"
            ],
            [
             1,
             "#f0f921"
            ]
           ]
          },
          "colorway": [
           "#636efa",
           "#EF553B",
           "#00cc96",
           "#ab63fa",
           "#FFA15A",
           "#19d3f3",
           "#FF6692",
           "#B6E880",
           "#FF97FF",
           "#FECB52"
          ],
          "font": {
           "color": "#2a3f5f"
          },
          "geo": {
           "bgcolor": "white",
           "lakecolor": "white",
           "landcolor": "#E5ECF6",
           "showlakes": true,
           "showland": true,
           "subunitcolor": "white"
          },
          "hoverlabel": {
           "align": "left"
          },
          "hovermode": "closest",
          "mapbox": {
           "style": "light"
          },
          "paper_bgcolor": "white",
          "plot_bgcolor": "#E5ECF6",
          "polar": {
           "angularaxis": {
            "gridcolor": "white",
            "linecolor": "white",
            "ticks": ""
           },
           "bgcolor": "#E5ECF6",
           "radialaxis": {
            "gridcolor": "white",
            "linecolor": "white",
            "ticks": ""
           }
          },
          "scene": {
           "xaxis": {
            "backgroundcolor": "#E5ECF6",
            "gridcolor": "white",
            "gridwidth": 2,
            "linecolor": "white",
            "showbackground": true,
            "ticks": "",
            "zerolinecolor": "white"
           },
           "yaxis": {
            "backgroundcolor": "#E5ECF6",
            "gridcolor": "white",
            "gridwidth": 2,
            "linecolor": "white",
            "showbackground": true,
            "ticks": "",
            "zerolinecolor": "white"
           },
           "zaxis": {
            "backgroundcolor": "#E5ECF6",
            "gridcolor": "white",
            "gridwidth": 2,
            "linecolor": "white",
            "showbackground": true,
            "ticks": "",
            "zerolinecolor": "white"
           }
          },
          "shapedefaults": {
           "line": {
            "color": "#2a3f5f"
           }
          },
          "ternary": {
           "aaxis": {
            "gridcolor": "white",
            "linecolor": "white",
            "ticks": ""
           },
           "baxis": {
            "gridcolor": "white",
            "linecolor": "white",
            "ticks": ""
           },
           "bgcolor": "#E5ECF6",
           "caxis": {
            "gridcolor": "white",
            "linecolor": "white",
            "ticks": ""
           }
          },
          "title": {
           "x": 0.05
          },
          "xaxis": {
           "automargin": true,
           "gridcolor": "white",
           "linecolor": "white",
           "ticks": "",
           "title": {
            "standoff": 15
           },
           "zerolinecolor": "white",
           "zerolinewidth": 2
          },
          "yaxis": {
           "automargin": true,
           "gridcolor": "white",
           "linecolor": "white",
           "ticks": "",
           "title": {
            "standoff": 15
           },
           "zerolinecolor": "white",
           "zerolinewidth": 2
          }
         }
        },
        "title": {
         "font": {
          "color": "white",
          "family": "Arial",
          "size": 18
         },
         "text": "Revenue by Product Categories and Sub-Categories"
        }
       }
      },
      "image/png": "[encoded data removed]",
      "text/html": [
       "<div>                            <div id=\"17fd6a32-efaa-4bc7-8da1-0c8665ae933e\" class=\"plotly-graph-div\" style=\"height:525px; width:100%;\"></div>            <script type=\"text/javascript\">                require([\"plotly\"], function(Plotly) {                    window.PLOTLYENV=window.PLOTLYENV || {};                                    if (document.getElementById(\"17fd6a32-efaa-4bc7-8da1-0c8665ae933e\")) {                    Plotly.newPlot(                        \"17fd6a32-efaa-4bc7-8da1-0c8665ae933e\",                        [{\"branchvalues\":\"total\",\"customdata\":[[36240.0,\"Accessories\",\"Bike Racks\"],[906656.58,\"Accessories\",\"(?)\"],[33083.5,\"Clothing\",\"Vests\"],[3771564.66,\"Bikes\",\"Touring Bikes\"],[380826.68,\"Accessories\",\"Tires and Tubes\"],[9556.37,\"Clothing\",\"Socks\"],[66070.56,\"Clothing\",\"Shorts\"],[11287183.77,\"Bikes\",\"Road Bikes\"],[8583751.63,\"Bikes\",\"Mountain Bikes\"],[158569.27,\"Clothing\",\"Jerseys\"],[38218.05,\"Accessories\",\"Hydration Packs\"],[205817.41,\"Accessories\",\"Helmets\"],[62264.560000000005,\"Clothing\",\"Gloves\"],[87040.8,\"Accessories\",\"Fenders\"],[13562.7,\"Accessories\",\"Cleaners\"],[35882.76,\"Clothing\",\"Caps\"],[107744.94,\"Accessories\",\"Bottles and Cages\"],[37206.0,\"Accessories\",\"Bike Stands\"],[23642500.06,\"Bikes\",\"(?)\"],[365427.02,\"Clothing\",\"(?)\"]],\"domain\":{\"x\":[0.0,1.0],\"y\":[0.0,1.0]},\"hovertemplate\":\"\\u003cb\\u003eCategory:\\u003c\\u002fb\\u003e %{customdata[1]}\\u003cbr\\u003e\\u003cb\\u003eSubcategory:\\u003c\\u002fb\\u003e %{label}\\u003cbr\\u003e\\u003cb\\u003eRevenue:\\u003c\\u002fb\\u003e %{value}\\u003cbr\\u003e\",\"hovertext\":[\"Bike Racks\",\"(?)\",\"Vests\",\"Touring Bikes\",\"Tires and Tubes\",\"Socks\",\"Shorts\",\"Road Bikes\",\"Mountain Bikes\",\"Jerseys\",\"Hydration Packs\",\"Helmets\",\"Gloves\",\"Fenders\",\"Cleaners\",\"Caps\",\"Bottles and Cages\",\"Bike Stands\",\"(?)\",\"(?)\"],\"ids\":[\"Accessories\\u002fBike Racks\",\"Accessories\",\"Clothing\\u002fVests\",\"Bikes\\u002fTouring Bikes\",\"Accessories\\u002fTires and Tubes\",\"Clothing\\u002fSocks\",\"Clothing\\u002fShorts\",\"Bikes\\u002fRoad Bikes\",\"Bikes\\u002fMountain Bikes\",\"Clothing\\u002fJerseys\",\"Accessories\\u002fHydration Packs\",\"Accessories\\u002fHelmets\",\"Clothing\\u002fGloves\",\"Accessories\\u002fFenders\",\"Accessories\\u002fCleaners\",\"Clothing\\u002fCaps\",\"Accessories\\u002fBottles and Cages\",\"Accessories\\u002fBike Stands\",\"Bikes\",\"Clothing\"],\"labels\":[\"Bike Racks\",\"Accessories\",\"Vests\",\"Touring Bikes\",\"Tires and Tubes\",\"Socks\",\"Shorts\",\"Road Bikes\",\"Mountain Bikes\",\"Jerseys\",\"Hydration Packs\",\"Helmets\",\"Gloves\",\"Fenders\",\"Cleaners\",\"Caps\",\"Bottles and Cages\",\"Bike Stands\",\"Bikes\",\"Clothing\"],\"marker\":{\"colors\":[\"#636efa\",\"#636efa\",\"#EF553B\",\"#00cc96\",\"#636efa\",\"#EF553B\",\"#EF553B\",\"#00cc96\",\"#00cc96\",\"#EF553B\",\"#636efa\",\"#636efa\",\"#EF553B\",\"#636efa\",\"#636efa\",\"#EF553B\",\"#636efa\",\"#636efa\",\"#00cc96\",\"#EF553B\"]},\"name\":\"\",\"parents\":[\"Accessories\",\"\",\"Clothing\",\"Bikes\",\"Accessories\",\"Clothing\",\"Clothing\",\"Bikes\",\"Bikes\",\"Clothing\",\"Accessories\",\"Accessories\",\"Clothing\",\"Accessories\",\"Accessories\",\"Clothing\",\"Accessories\",\"Accessories\",\"\",\"\"],\"values\":[36240.0,906656.58,33083.5,3771564.66,380826.68,9556.37,66070.56,11287183.77,8583751.63,158569.27,38218.05,205817.41,62264.560000000005,87040.8,13562.7,35882.76,107744.94,37206.0,23642500.06,365427.02],\"type\":\"treemap\"}],                        {\"template\":{\"data\":{\"histogram2dcontour\":[{\"type\":\"histogram2dcontour\",\"colorbar\":{\"outlinewidth\":0,\"ticks\":\"\"},\"colorscale\":[[0.0,\"#0d0887\"],[0.1111111111111111,\"#46039f\"],[0.2222222222222222,\"#7201a8\"],[0.3333333333333333,\"#9c179e\"],[0.4444444444444444,\"#bd3786\"],[0.5555555555555556,\"#d8576b\"],[0.6666666666666666,\"#ed7953\"],[0.7777777777777778,\"#fb9f3a\"],[0.8888888888888888,\"#fdca26\"],[1.0,\"#f0f921\"]]}],\"choropleth\":[{\"type\":\"choropleth\",\"colorbar\":{\"outlinewidth\":0,\"ticks\":\"\"}}],\"histogram2d\":[{\"type\":\"histogram2d\",\"colorbar\":{\"outlinewidth\":0,\"ticks\":\"\"},\"colorscale\":[[0.0,\"#0d0887\"],[0.1111111111111111,\"#46039f\"],[0.2222222222222222,\"#7201a8\"],[0.3333333333333333,\"#9c179e\"],[0.4444444444444444,\"#bd3786\"],[0.5555555555555556,\"#d8576b\"],[0.6666666666666666,\"#ed7953\"],[0.7777777777777778,\"#fb9f3a\"],[0.8888888888888888,\"#fdca26\"],[1.0,\"#f0f921\"]]}],\"heatmap\":[{\"type\":\"heatmap\",\"colorbar\":{\"outlinewidth\":0,\"ticks\":\"\"},\"colorscale\":[[0.0,\"#0d0887\"],[0.1111111111111111,\"#46039f\"],[0.2222222222222222,\"#7201a8\"],[0.3333333333333333,\"#9c179e\"],[0.4444444444444444,\"#bd3786\"],[0.5555555555555556,\"#d8576b\"],[0.6666666666666666,\"#ed7953\"],[0.7777777777777778,\"#fb9f3a\"],[0.8888888888888888,\"#fdca26\"],[1.0,\"#f0f921\"]]}],\"heatmapgl\":[{\"type\":\"heatmapgl\",\"colorbar\":{\"outlinewidth\":0,\"ticks\":\"\"},\"colorscale\":[[0.0,\"#0d0887\"],[0.1111111111111111,\"#46039f\"],[0.2222222222222222,\"#7201a8\"],[0.3333333333333333,\"#9c179e\"],[0.4444444444444444,\"#bd3786\"],[0.5555555555555556,\"#d8576b\"],[0.6666666666666666,\"#ed7953\"],[0.7777777777777778,\"#fb9f3a\"],[0.8888888888888888,\"#fdca26\"],[1.0,\"#f0f921\"]]}],\"contourcarpet\":[{\"type\":\"contourcarpet\",\"colorbar\":{\"outlinewidth\":0,\"ticks\":\"\"}}],\"contour\":[{\"type\":\"contour\",\"colorbar\":{\"outlinewidth\":0,\"ticks\":\"\"},\"colorscale\":[[0.0,\"#0d0887\"],[0.1111111111111111,\"#46039f\"],[0.2222222222222222,\"#7201a8\"],[0.3333333333333333,\"#9c179e\"],[0.4444444444444444,\"#bd3786\"],[0.5555555555555556,\"#d8576b\"],[0.6666666666666666,\"#ed7953\"],[0.7777777777777778,\"#fb9f3a\"],[0.8888888888888888,\"#fdca26\"],[1.0,\"#f0f921\"]]}],\"surface\":[{\"type\":\"surface\",\"colorbar\":{\"outlinewidth\":0,\"ticks\":\"\"},\"colorscale\":[[0.0,\"#0d0887\"],[0.1111111111111111,\"#46039f\"],[0.2222222222222222,\"#7201a8\"],[0.3333333333333333,\"#9c179e\"],[0.4444444444444444,\"#bd3786\"],[0.5555555555555556,\"#d8576b\"],[0.6666666666666666,\"#ed7953\"],[0.7777777777777778,\"#fb9f3a\"],[0.8888888888888888,\"#fdca26\"],[1.0,\"#f0f921\"]]}],\"mesh3d\":[{\"type\":\"mesh3d\",\"colorbar\":{\"outlinewidth\":0,\"ticks\":\"\"}}],\"scatter\":[{\"fillpattern\":{\"fillmode\":\"overlay\",\"size\":10,\"solidity\":0.2},\"type\":\"scatter\"}],\"parcoords\":[{\"type\":\"parcoords\",\"line\":{\"colorbar\":{\"outlinewidth\":0,\"ticks\":\"\"}}}],\"scatterpolargl\":[{\"type\":\"scatterpolargl\",\"marker\":{\"colorbar\":{\"outlinewidth\":0,\"ticks\":\"\"}}}],\"bar\":[{\"error_x\":{\"color\":\"#2a3f5f\"},\"error_y\":{\"color\":\"#2a3f5f\"},\"marker\":{\"line\":{\"color\":\"#E5ECF6\",\"width\":0.5},\"pattern\":{\"fillmode\":\"overlay\",\"size\":10,\"solidity\":0.2}},\"type\":\"bar\"}],\"scattergeo\":[{\"type\":\"scattergeo\",\"marker\":{\"colorbar\":{\"outlinewidth\":0,\"ticks\":\"\"}}}],\"scatterpolar\":[{\"type\":\"scatterpolar\",\"marker\":{\"colorbar\":{\"outlinewidth\":0,\"ticks\":\"\"}}}],\"histogram\":[{\"marker\":{\"pattern\":{\"fillmode\":\"overlay\",\"size\":10,\"solidity\":0.2}},\"type\":\"histogram\"}],\"scattergl\":[{\"type\":\"scattergl\",\"marker\":{\"colorbar\":{\"outlinewidth\":0,\"ticks\":\"\"}}}],\"scatter3d\":[{\"type\":\"scatter3d\",\"line\":{\"colorbar\":{\"outlinewidth\":0,\"ticks\":\"\"}},\"marker\":{\"colorbar\":{\"outlinewidth\":0,\"ticks\":\"\"}}}],\"scattermapbox\":[{\"type\":\"scattermapbox\",\"marker\":{\"colorbar\":{\"outlinewidth\":0,\"ticks\":\"\"}}}],\"scatterternary\":[{\"type\":\"scatterternary\",\"marker\":{\"colorbar\":{\"outlinewidth\":0,\"ticks\":\"\"}}}],\"scattercarpet\":[{\"type\":\"scattercarpet\",\"marker\":{\"colorbar\":{\"outlinewidth\":0,\"ticks\":\"\"}}}],\"carpet\":[{\"aaxis\":{\"endlinecolor\":\"#2a3f5f\",\"gridcolor\":\"white\",\"linecolor\":\"white\",\"minorgridcolor\":\"white\",\"startlinecolor\":\"#2a3f5f\"},\"baxis\":{\"endlinecolor\":\"#2a3f5f\",\"gridcolor\":\"white\",\"linecolor\":\"white\",\"minorgridcolor\":\"white\",\"startlinecolor\":\"#2a3f5f\"},\"type\":\"carpet\"}],\"table\":[{\"cells\":{\"fill\":{\"color\":\"#EBF0F8\"},\"line\":{\"color\":\"white\"}},\"header\":{\"fill\":{\"color\":\"#C8D4E3\"},\"line\":{\"color\":\"white\"}},\"type\":\"table\"}],\"barpolar\":[{\"marker\":{\"line\":{\"color\":\"#E5ECF6\",\"width\":0.5},\"pattern\":{\"fillmode\":\"overlay\",\"size\":10,\"solidity\":0.2}},\"type\":\"barpolar\"}],\"pie\":[{\"automargin\":true,\"type\":\"pie\"}]},\"layout\":{\"autotypenumbers\":\"strict\",\"colorway\":[\"#636efa\",\"#EF553B\",\"#00cc96\",\"#ab63fa\",\"#FFA15A\",\"#19d3f3\",\"#FF6692\",\"#B6E880\",\"#FF97FF\",\"#FECB52\"],\"font\":{\"color\":\"#2a3f5f\"},\"hovermode\":\"closest\",\"hoverlabel\":{\"align\":\"left\"},\"paper_bgcolor\":\"white\",\"plot_bgcolor\":\"#E5ECF6\",\"polar\":{\"bgcolor\":\"#E5ECF6\",\"angularaxis\":{\"gridcolor\":\"white\",\"linecolor\":\"white\",\"ticks\":\"\"},\"radialaxis\":{\"gridcolor\":\"white\",\"linecolor\":\"white\",\"ticks\":\"\"}},\"ternary\":{\"bgcolor\":\"#E5ECF6\",\"aaxis\":{\"gridcolor\":\"white\",\"linecolor\":\"white\",\"ticks\":\"\"},\"baxis\":{\"gridcolor\":\"white\",\"linecolor\":\"white\",\"ticks\":\"\"},\"caxis\":{\"gridcolor\":\"white\",\"linecolor\":\"white\",\"ticks\":\"\"}},\"coloraxis\":{\"colorbar\":{\"outlinewidth\":0,\"ticks\":\"\"}},\"colorscale\":{\"sequential\":[[0.0,\"#0d0887\"],[0.1111111111111111,\"#46039f\"],[0.2222222222222222,\"#7201a8\"],[0.3333333333333333,\"#9c179e\"],[0.4444444444444444,\"#bd3786\"],[0.5555555555555556,\"#d8576b\"],[0.6666666666666666,\"#ed7953\"],[0.7777777777777778,\"#fb9f3a\"],[0.8888888888888888,\"#fdca26\"],[1.0,\"#f0f921\"]],\"sequentialminus\":[[0.0,\"#0d0887\"],[0.1111111111111111,\"#46039f\"],[0.2222222222222222,\"#7201a8\"],[0.3333333333333333,\"#9c179e\"],[0.4444444444444444,\"#bd3786\"],[0.5555555555555556,\"#d8576b\"],[0.6666666666666666,\"#ed7953\"],[0.7777777777777778,\"#fb9f3a\"],[0.8888888888888888,\"#fdca26\"],[1.0,\"#f0f921\"]],\"diverging\":[[0,\"#8e0152\"],[0.1,\"#c51b7d\"],[0.2,\"#de77ae\"],[0.3,\"#f1b6da\"],[0.4,\"#fde0ef\"],[0.5,\"#f7f7f7\"],[0.6,\"#e6f5d0\"],[0.7,\"#b8e186\"],[0.8,\"#7fbc41\"],[0.9,\"#4d9221\"],[1,\"#276419\"]]},\"xaxis\":{\"gridcolor\":\"white\",\"linecolor\":\"white\",\"ticks\":\"\",\"title\":{\"standoff\":15},\"zerolinecolor\":\"white\",\"automargin\":true,\"zerolinewidth\":2},\"yaxis\":{\"gridcolor\":\"white\",\"linecolor\":\"white\",\"ticks\":\"\",\"title\":{\"standoff\":15},\"zerolinecolor\":\"white\",\"automargin\":true,\"zerolinewidth\":2},\"scene\":{\"xaxis\":{\"backgroundcolor\":\"#E5ECF6\",\"gridcolor\":\"white\",\"linecolor\":\"white\",\"showbackground\":true,\"ticks\":\"\",\"zerolinecolor\":\"white\",\"gridwidth\":2},\"yaxis\":{\"backgroundcolor\":\"#E5ECF6\",\"gridcolor\":\"white\",\"linecolor\":\"white\",\"showbackground\":true,\"ticks\":\"\",\"zerolinecolor\":\"white\",\"gridwidth\":2},\"zaxis\":{\"backgroundcolor\":\"#E5ECF6\",\"gridcolor\":\"white\",\"linecolor\":\"white\",\"showbackground\":true,\"ticks\":\"\",\"zerolinecolor\":\"white\",\"gridwidth\":2}},\"shapedefaults\":{\"line\":{\"color\":\"#2a3f5f\"}},\"annotationdefaults\":{\"arrowcolor\":\"#2a3f5f\",\"arrowhead\":0,\"arrowwidth\":1},\"geo\":{\"bgcolor\":\"white\",\"landcolor\":\"#E5ECF6\",\"subunitcolor\":\"white\",\"showland\":true,\"showlakes\":true,\"lakecolor\":\"white\"},\"title\":{\"x\":0.05},\"mapbox\":{\"style\":\"light\"}}},\"legend\":{\"tracegroupgap\":0},\"title\":{\"text\":\"Revenue by Product Categories and Sub-Categories\",\"font\":{\"size\":18,\"family\":\"Arial\",\"color\":\"white\"}},\"margin\":{\"t\":50,\"l\":25,\"r\":25,\"b\":25},\"font\":{\"size\":15,\"family\":\"Arial\"},\"paper_bgcolor\":\"black\"},                        {\"responsive\": true}                    ).then(function(){\n",
       "                            \n",
       "var gd = document.getElementById('17fd6a32-efaa-4bc7-8da1-0c8665ae933e');\n",
       "var x = new MutationObserver(function (mutations, observer) {{\n",
       "        var display = window.getComputedStyle(gd).display;\n",
       "        if (!display || display === 'none') {{\n",
       "            console.log([gd, 'removed!']);\n",
       "            Plotly.purge(gd);\n",
       "            observer.disconnect();\n",
       "        }}\n",
       "}});\n",
       "\n",
       "// Listen for the removal of the full notebook cells\n",
       "var notebookContainer = gd.closest('#notebook-container');\n",
       "if (notebookContainer) {{\n",
       "    x.observe(notebookContainer, {childList: true});\n",
       "}}\n",
       "\n",
       "// Listen for the clearing of the current output cell\n",
       "var outputEl = gd.closest('.output');\n",
       "if (outputEl) {{\n",
       "    x.observe(outputEl, {childList: true});\n",
       "}}\n",
       "\n",
       "                        })                };                });            </script>        </div>"
      ]
     },
     "metadata": {},
     "output_type": "display_data"
    }
   ],
   "source": [
    "fig = px.treemap(data_frame = all_data, values = \"Revenue\", path = [\"CategoryName\", \"SubcategoryName\"], color = \"CategoryName\",\n",
    "                  color_continuous_scale='Viridis', hover_name =  \"SubcategoryName\",  hover_data={\"Revenue\": True,\"CategoryName\": True, \n",
    "                                                                                                  \"SubcategoryName\": True},                                                                               \n",
    "                  title=\"Revenue by Product Categories and Sub-Categories\")\n",
    "fig.update_traces(\n",
    "    hovertemplate=\"<b>Category:</b> %{customdata[1]}<br>\" +  \n",
    "                  \"<b>Subcategory:</b> %{label}<br>\" +    \n",
    "                  \"<b>Revenue:</b> %{value}<br>\"           \n",
    ")\n",
    "fig.update_layout(\n",
    "    margin=dict(t=50, l=25, r=25, b=25),  \n",
    "    title_font=dict(size=18, family='Arial', color='white'),  \n",
    "    paper_bgcolor='black',\n",
    "    font = dict(size = 15, family = 'Arial')\n",
    ")\n",
    "fig.show()"
   ]
  },
  {
   "cell_type": "code",
   "execution_count": null,
   "id": "3ed98a4c-0964-4c73-86fa-defd4225d112",
   "metadata": {},
   "outputs": [],
   "source": []
  },
  {
   "cell_type": "code",
   "execution_count": null,
   "id": "e9284659-0b61-4058-bb35-800c69b0ef98",
   "metadata": {},
   "outputs": [],
   "source": [
    "# Time Analysis Plot"
   ]
  },
  {
   "cell_type": "code",
   "execution_count": 104,
   "id": "34bd8098-dc95-4ebb-a055-af540cc6305b",
   "metadata": {},
   "outputs": [
    {
     "data": {
      "text/plain": [
       "<Figure size 640x480 with 0 Axes>"
      ]
     },
     "metadata": {},
     "output_type": "display_data"
    },
    {
     "data": {
      "image/png": "[encoded data removed]",
      "text/plain": [
       "<Figure size 1000x400 with 2 Axes>"
      ]
     },
     "metadata": {},
     "output_type": "display_data"
    }
   ],
   "source": [
    "fig = plt.figure()\n",
    "fig, ax = plt.subplots(nrows = 1, ncols = 2, figsize = (10,4))\n",
    "fig.suptitle(\"Revenue and Profit over Years\", fontsize=16, color=\"white\")\n",
    "fig.patch.set_facecolor(\"black\")\n",
    "ax[0].plot(reset_all_data_time_year[\"Year\"], reset_all_data_time_year[\"Revenue\"], linewidth = 4, linestyle = \"-\",\n",
    "        color = \"lime\", alpha = 0.7,marker = \"o\", markersize = 7, markeredgecolor = \"red\",\n",
    "        markerfacecolor = \"blue\")\n",
    "ax[0].set_xlabel(\"Year\", color = \"White\")\n",
    "ax[0].set_ylabel(\"Revenue(In Millions)\", color = \"white\")\n",
    "ax[0].set_facecolor(\"black\")\n",
    "\n",
    "ax[1].barh(reset_all_data_time_year[\"Year\"], reset_all_data_time_year[\"Profit\"], color = [\"lightblue\", \"blue\",  \"skyblue\",])\n",
    "ax[1].set_xlabel(\"Profit(In Millions)\", color = \"white\")\n",
    "ax[1].set_ylabel(\"Year\", color = \"White\")\n",
    "ax[0].set_facecolor(\"black\")\n",
    "\n",
    "for axis in ax:\n",
    "    axis.tick_params(colors=\"white\")  # Set tick color to white\n",
    "\n",
    "# Display the plot\n",
    "plt.tight_layout(rect=[0, 0, 1, 0.95])"
   ]
  },
  {
   "cell_type": "code",
   "execution_count": 277,
   "id": "d9829ea2-d283-42ca-a14e-13da86b3ae4e",
   "metadata": {},
   "outputs": [
    {
     "data": {
      "application/vnd.plotly.v1+json": {
       "config": {
        "plotlyServerURL": "https://plot.ly"
       },
       "data": [
        {
         "marker": {
          "color": "green"
         },
         "name": "Revenue",
         "type": "bar",
         "x": [
          "2020-01-31T00:00:00",
          "2020-02-29T00:00:00",
          "2020-03-31T00:00:00",
          "2020-04-30T00:00:00",
          "2020-05-31T00:00:00",
          "2020-06-30T00:00:00",
          "2020-07-31T00:00:00",
          "2020-08-31T00:00:00",
          "2020-09-30T00:00:00",
          "2020-10-31T00:00:00",
          "2020-11-30T00:00:00",
          "2020-12-31T00:00:00",
          "2021-01-31T00:00:00",
          "2021-02-28T00:00:00",
          "2021-03-31T00:00:00",
          "2021-04-30T00:00:00",
          "2021-05-31T00:00:00",
          "2021-06-30T00:00:00",
          "2021-07-31T00:00:00",
          "2021-08-31T00:00:00",
          "2021-09-30T00:00:00",
          "2021-10-31T00:00:00",
          "2021-11-30T00:00:00",
          "2021-12-31T00:00:00",
          "2022-01-31T00:00:00",
          "2022-02-28T00:00:00",
          "2022-03-31T00:00:00",
          "2022-04-30T00:00:00",
          "2022-05-31T00:00:00",
          "2022-06-30T00:00:00"
         ],
         "y": [
          585312.69,
          532226.28,
          643436.14,
          653364.08,
          659325.94,
          669988.72,
          486114.93,
          536452.77,
          344062.89,
          404276.64999999997,
          326611.22,
          563761.67,
          432425.86,
          474162.94,
          471962.02,
          494957.58,
          545535.02,
          533825.21,
          815356.33,
          804192.89,
          952743.1,
          1029820.5,
          1133912.58,
          1635308.36,
          1274378.36,
          1339240.95,
          1448595.71,
          1527813.28,
          1768432.18,
          1826986.81
         ]
        },
        {
         "line": {
          "color": "lightblue",
          "width": 2.5
         },
         "mode": "lines+markers",
         "name": "Profit",
         "type": "scatter",
         "x": [
          "2020-01-31T00:00:00",
          "2020-02-29T00:00:00",
          "2020-03-31T00:00:00",
          "2020-04-30T00:00:00",
          "2020-05-31T00:00:00",
          "2020-06-30T00:00:00",
          "2020-07-31T00:00:00",
          "2020-08-31T00:00:00",
          "2020-09-30T00:00:00",
          "2020-10-31T00:00:00",
          "2020-11-30T00:00:00",
          "2020-12-31T00:00:00",
          "2021-01-31T00:00:00",
          "2021-02-28T00:00:00",
          "2021-03-31T00:00:00",
          "2021-04-30T00:00:00",
          "2021-05-31T00:00:00",
          "2021-06-30T00:00:00",
          "2021-07-31T00:00:00",
          "2021-08-31T00:00:00",
          "2021-09-30T00:00:00",
          "2021-10-31T00:00:00",
          "2021-11-30T00:00:00",
          "2021-12-31T00:00:00",
          "2022-01-31T00:00:00",
          "2022-02-28T00:00:00",
          "2022-03-31T00:00:00",
          "2022-04-30T00:00:00",
          "2022-05-31T00:00:00",
          "2022-06-30T00:00:00"
         ],
         "y": [
          235814.67,
          212187.27,
          259085.24,
          263032.06,
          266276.48,
          270068.24,
          196682.65,
          218355.33,
          140516.01,
          168581.63,
          134175.83,
          236830.22,
          182044.22,
          200044.16999999998,
          199610.83,
          209521.50999999998,
          233012.91999999998,
          227744.75,
          342624.55,
          348097.43,
          410593.63,
          441169.72,
          482941.87,
          689685.9299999999,
          541845.88,
          567575.51,
          613454.6,
          643828.64,
          750755.61,
          771579.13
         ]
        }
       ],
       "layout": {
        "autosize": true,
        "barmode": "group",
        "legend": {
         "title": {
          "text": "Legend"
         }
        },
        "template": {
         "data": {
          "bar": [
           {
            "error_x": {
             "color": "#f2f5fa"
            },
            "error_y": {
             "color": "#f2f5fa"
            },
            "marker": {
             "line": {
              "color": "rgb(17,17,17)",
              "width": 0.5
             },
             "pattern": {
              "fillmode": "overlay",
              "size": 10,
              "solidity": 0.2
             }
            },
            "type": "bar"
           }
          ],
          "barpolar": [
           {
            "marker": {
             "line": {
              "color": "rgb(17,17,17)",
              "width": 0.5
             },
             "pattern": {
              "fillmode": "overlay",
              "size": 10,
              "solidity": 0.2
             }
            },
            "type": "barpolar"
           }
          ],
          "carpet": [
           {
            "aaxis": {
             "endlinecolor": "#A2B1C6",
             "gridcolor": "#506784",
             "linecolor": "#506784",
             "minorgridcolor": "#506784",
             "startlinecolor": "#A2B1C6"
            },
            "baxis": {
             "endlinecolor": "#A2B1C6",
             "gridcolor": "#506784",
             "linecolor": "#506784",
             "minorgridcolor": "#506784",
             "startlinecolor": "#A2B1C6"
            },
            "type": "carpet"
           }
          ],
          "choropleth": [
           {
            "colorbar": {
             "outlinewidth": 0,
             "ticks": ""
            },
            "type": "choropleth"
           }
          ],
          "contour": [
           {
            "colorbar": {
             "outlinewidth": 0,
             "ticks": ""
            },
            "colorscale": [
             [
              0,
              "#0d0887"
             ],
             [
              0.1111111111111111,
              "#46039f"
             ],
             [
              0.2222222222222222,
              "#7201a8"
             ],
             [
              0.3333333333333333,
              "#9c179e"
             ],
             [
              0.4444444444444444,
              "#bd3786"
             ],
             [
              0.5555555555555556,
              "#d8576b"
             ],
             [
              0.6666666666666666,
              "#ed7953"
             ],
             [
              0.7777777777777778,
              "#fb9f3a"
             ],
             [
              0.8888888888888888,
              "#fdca26"
             ],
             [
              1,
              "#f0f921"
             ]
            ],
            "type": "contour"
           }
          ],
          "contourcarpet": [
           {
            "colorbar": {
             "outlinewidth": 0,
             "ticks": ""
            },
            "type": "contourcarpet"
           }
          ],
          "heatmap": [
           {
            "colorbar": {
             "outlinewidth": 0,
             "ticks": ""
            },
            "colorscale": [
             [
              0,
              "#0d0887"
             ],
             [
              0.1111111111111111,
              "#46039f"
             ],
             [
              0.2222222222222222,
              "#7201a8"
             ],
             [
              0.3333333333333333,
              "#9c179e"
             ],
             [
              0.4444444444444444,
              "#bd3786"
             ],
             [
              0.5555555555555556,
              "#d8576b"
             ],
             [
              0.6666666666666666,
              "#ed7953"
             ],
             [
              0.7777777777777778,
              "#fb9f3a"
             ],
             [
              0.8888888888888888,
              "#fdca26"
             ],
             [
              1,
              "#f0f921"
             ]
            ],
            "type": "heatmap"
           }
          ],
          "heatmapgl": [
           {
            "colorbar": {
             "outlinewidth": 0,
             "ticks": ""
            },
            "colorscale": [
             [
              0,
              "#0d0887"
             ],
             [
              0.1111111111111111,
              "#46039f"
             ],
             [
              0.2222222222222222,
              "#7201a8"
             ],
             [
              0.3333333333333333,
              "#9c179e"
             ],
             [
              0.4444444444444444,
              "#bd3786"
             ],
             [
              0.5555555555555556,
              "#d8576b"
             ],
             [
              0.6666666666666666,
              "#ed7953"
             ],
             [
              0.7777777777777778,
              "#fb9f3a"
             ],
             [
              0.8888888888888888,
              "#fdca26"
             ],
             [
              1,
              "#f0f921"
             ]
            ],
            "type": "heatmapgl"
           }
          ],
          "histogram": [
           {
            "marker": {
             "pattern": {
              "fillmode": "overlay",
              "size": 10,
              "solidity": 0.2
             }
            },
            "type": "histogram"
           }
          ],
          "histogram2d": [
           {
            "colorbar": {
             "outlinewidth": 0,
             "ticks": ""
            },
            "colorscale": [
             [
              0,
              "#0d0887"
             ],
             [
              0.1111111111111111,
              "#46039f"
             ],
             [
              0.2222222222222222,
              "#7201a8"
             ],
             [
              0.3333333333333333,
              "#9c179e"
             ],
             [
              0.4444444444444444,
              "#bd3786"
             ],
             [
              0.5555555555555556,
              "#d8576b"
             ],
             [
              0.6666666666666666,
              "#ed7953"
             ],
             [
              0.7777777777777778,
              "#fb9f3a"
             ],
             [
              0.8888888888888888,
              "#fdca26"
             ],
             [
              1,
              "#f0f921"
             ]
            ],
            "type": "histogram2d"
           }
          ],
          "histogram2dcontour": [
           {
            "colorbar": {
             "outlinewidth": 0,
             "ticks": ""
            },
            "colorscale": [
             [
              0,
              "#0d0887"
             ],
             [
              0.1111111111111111,
              "#46039f"
             ],
             [
              0.2222222222222222,
              "#7201a8"
             ],
             [
              0.3333333333333333,
              "#9c179e"
             ],
             [
              0.4444444444444444,
              "#bd3786"
             ],
             [
              0.5555555555555556,
              "#d8576b"
             ],
             [
              0.6666666666666666,
              "#ed7953"
             ],
             [
              0.7777777777777778,
              "#fb9f3a"
             ],
             [
              0.8888888888888888,
              "#fdca26"
             ],
             [
              1,
              "#f0f921"
             ]
            ],
            "type": "histogram2dcontour"
           }
          ],
          "mesh3d": [
           {
            "colorbar": {
             "outlinewidth": 0,
             "ticks": ""
            },
            "type": "mesh3d"
           }
          ],
          "parcoords": [
           {
            "line": {
             "colorbar": {
              "outlinewidth": 0,
              "ticks": ""
             }
            },
            "type": "parcoords"
           }
          ],
          "pie": [
           {
            "automargin": true,
            "type": "pie"
           }
          ],
          "scatter": [
           {
            "marker": {
             "line": {
              "color": "#283442"
             }
            },
            "type": "scatter"
           }
          ],
          "scatter3d": [
           {
            "line": {
             "colorbar": {
              "outlinewidth": 0,
              "ticks": ""
             }
            },
            "marker": {
             "colorbar": {
              "outlinewidth": 0,
              "ticks": ""
             }
            },
            "type": "scatter3d"
           }
          ],
          "scattercarpet": [
           {
            "marker": {
             "colorbar": {
              "outlinewidth": 0,
              "ticks": ""
             }
            },
            "type": "scattercarpet"
           }
          ],
          "scattergeo": [
           {
            "marker": {
             "colorbar": {
              "outlinewidth": 0,
              "ticks": ""
             }
            },
            "type": "scattergeo"
           }
          ],
          "scattergl": [
           {
            "marker": {
             "line": {
              "color": "#283442"
             }
            },
            "type": "scattergl"
           }
          ],
          "scattermapbox": [
           {
            "marker": {
             "colorbar": {
              "outlinewidth": 0,
              "ticks": ""
             }
            },
            "type": "scattermapbox"
           }
          ],
          "scatterpolar": [
           {
            "marker": {
             "colorbar": {
              "outlinewidth": 0,
              "ticks": ""
             }
            },
            "type": "scatterpolar"
           }
          ],
          "scatterpolargl": [
           {
            "marker": {
             "colorbar": {
              "outlinewidth": 0,
              "ticks": ""
             }
            },
            "type": "scatterpolargl"
           }
          ],
          "scatterternary": [
           {
            "marker": {
             "colorbar": {
              "outlinewidth": 0,
              "ticks": ""
             }
            },
            "type": "scatterternary"
           }
          ],
          "surface": [
           {
            "colorbar": {
             "outlinewidth": 0,
             "ticks": ""
            },
            "colorscale": [
             [
              0,
              "#0d0887"
             ],
             [
              0.1111111111111111,
              "#46039f"
             ],
             [
              0.2222222222222222,
              "#7201a8"
             ],
             [
              0.3333333333333333,
              "#9c179e"
             ],
             [
              0.4444444444444444,
              "#bd3786"
             ],
             [
              0.5555555555555556,
              "#d8576b"
             ],
             [
              0.6666666666666666,
              "#ed7953"
             ],
             [
              0.7777777777777778,
              "#fb9f3a"
             ],
             [
              0.8888888888888888,
              "#fdca26"
             ],
             [
              1,
              "#f0f921"
             ]
            ],
            "type": "surface"
           }
          ],
          "table": [
           {
            "cells": {
             "fill": {
              "color": "#506784"
             },
             "line": {
              "color": "rgb(17,17,17)"
             }
            },
            "header": {
             "fill": {
              "color": "#2a3f5f"
             },
             "line": {
              "color": "rgb(17,17,17)"
             }
            },
            "type": "table"
           }
          ]
         },
         "layout": {
          "annotationdefaults": {
           "arrowcolor": "#f2f5fa",
           "arrowhead": 0,
           "arrowwidth": 1
          },
          "autotypenumbers": "strict",
          "coloraxis": {
           "colorbar": {
            "outlinewidth": 0,
            "ticks": ""
           }
          },
          "colorscale": {
           "diverging": [
            [
             0,
             "#8e0152"
            ],
            [
             0.1,
             "#c51b7d"
            ],
            [
             0.2,
             "#de77ae"
            ],
            [
             0.3,
             "#f1b6da"
            ],
            [
             0.4,
             "#fde0ef"
            ],
            [
             0.5,
             "#f7f7f7"
            ],
            [
             0.6,
             "#e6f5d0"
            ],
            [
             0.7,
             "#b8e186"
            ],
            [
             0.8,
             "#7fbc41"
            ],
            [
             0.9,
             "#4d9221"
            ],
            [
             1,
             "#276419"
            ]
           ],
           "sequential": [
            [
             0,
             "#0d0887"
            ],
            [
             0.1111111111111111,
             "#46039f"
            ],
            [
             0.2222222222222222,
             "#7201a8"
            ],
            [
             0.3333333333333333,
             "#9c179e"
            ],
            [
             0.4444444444444444,
             "#bd3786"
            ],
            [
             0.5555555555555556,
             "#d8576b"
            ],
            [
             0.6666666666666666,
             "#ed7953"
            ],
            [
             0.7777777777777778,
             "#fb9f3a"
            ],
            [
             0.8888888888888888,
             "#fdca26"
            ],
            [
             1,
             "#f0f921"
            ]
           ],
           "sequentialminus": [
            [
             0,
             "#0d0887"
            ],
            [
             0.1111111111111111,
             "#46039f"
            ],
            [
             0.2222222222222222,
             "#7201a8"
            ],
            [
             0.3333333333333333,
             "#9c179e"
            ],
            [
             0.4444444444444444,
             "#bd3786"
            ],
            [
             0.5555555555555556,
             "#d8576b"
            ],
            [
             0.6666666666666666,
             "#ed7953"
            ],
            [
             0.7777777777777778,
             "#fb9f3a"
            ],
            [
             0.8888888888888888,
             "#fdca26"
            ],
            [
             1,
             "#f0f921"
            ]
           ]
          },
          "colorway": [
           "#636efa",
           "#EF553B",
           "#00cc96",
           "#ab63fa",
           "#FFA15A",
           "#19d3f3",
           "#FF6692",
           "#B6E880",
           "#FF97FF",
           "#FECB52"
          ],
          "font": {
           "color": "#f2f5fa"
          },
          "geo": {
           "bgcolor": "rgb(17,17,17)",
           "lakecolor": "rgb(17,17,17)",
           "landcolor": "rgb(17,17,17)",
           "showlakes": true,
           "showland": true,
           "subunitcolor": "#506784"
          },
          "hoverlabel": {
           "align": "left"
          },
          "hovermode": "closest",
          "mapbox": {
           "style": "dark"
          },
          "paper_bgcolor": "rgb(17,17,17)",
          "plot_bgcolor": "rgb(17,17,17)",
          "polar": {
           "angularaxis": {
            "gridcolor": "#506784",
            "linecolor": "#506784",
            "ticks": ""
           },
           "bgcolor": "rgb(17,17,17)",
           "radialaxis": {
            "gridcolor": "#506784",
            "linecolor": "#506784",
            "ticks": ""
           }
          },
          "scene": {
           "xaxis": {
            "backgroundcolor": "rgb(17,17,17)",
            "gridcolor": "#506784",
            "gridwidth": 2,
            "linecolor": "#506784",
            "showbackground": true,
            "ticks": "",
            "zerolinecolor": "#C8D4E3"
           },
           "yaxis": {
            "backgroundcolor": "rgb(17,17,17)",
            "gridcolor": "#506784",
            "gridwidth": 2,
            "linecolor": "#506784",
            "showbackground": true,
            "ticks": "",
            "zerolinecolor": "#C8D4E3"
           },
           "zaxis": {
            "backgroundcolor": "rgb(17,17,17)",
            "gridcolor": "#506784",
            "gridwidth": 2,
            "linecolor": "#506784",
            "showbackground": true,
            "ticks": "",
            "zerolinecolor": "#C8D4E3"
           }
          },
          "shapedefaults": {
           "line": {
            "color": "#f2f5fa"
           }
          },
          "sliderdefaults": {
           "bgcolor": "#C8D4E3",
           "bordercolor": "rgb(17,17,17)",
           "borderwidth": 1,
           "tickwidth": 0
          },
          "ternary": {
           "aaxis": {
            "gridcolor": "#506784",
            "linecolor": "#506784",
            "ticks": ""
           },
           "baxis": {
            "gridcolor": "#506784",
            "linecolor": "#506784",
            "ticks": ""
           },
           "bgcolor": "rgb(17,17,17)",
           "caxis": {
            "gridcolor": "#506784",
            "linecolor": "#506784",
            "ticks": ""
           }
          },
          "title": {
           "x": 0.05
          },
          "updatemenudefaults": {
           "bgcolor": "#506784",
           "borderwidth": 0
          },
          "xaxis": {
           "automargin": true,
           "gridcolor": "#283442",
           "linecolor": "#506784",
           "ticks": "",
           "title": {
            "standoff": 15
           },
           "zerolinecolor": "#283442",
           "zerolinewidth": 2
          },
          "yaxis": {
           "automargin": true,
           "gridcolor": "#283442",
           "linecolor": "#506784",
           "ticks": "",
           "title": {
            "standoff": 15
           },
           "zerolinecolor": "#283442",
           "zerolinewidth": 2
          }
         }
        },
        "title": {
         "text": "Monthly Revenue and Profit"
        },
        "xaxis": {
         "autorange": true,
         "range": [
          "2019-12-08 10:40:57.8749",
          "2022-08-22 13:19:02.1251"
         ],
         "title": {
          "text": "Month"
         },
         "type": "date"
        },
        "yaxis": {
         "autorange": true,
         "range": [
          -2211.784502369672,
          1923260.4202369668
         ],
         "title": {
          "text": "Amount (in USD)"
         },
         "type": "linear"
        }
       }
      },
      "image/png": "[encoded data removed]",
      "text/html": [
       "<div>                            <div id=\"3d8bfc2e-7f32-488e-8531-dfeded3ea094\" class=\"plotly-graph-div\" style=\"height:525px; width:100%;\"></div>            <script type=\"text/javascript\">                require([\"plotly\"], function(Plotly) {                    window.PLOTLYENV=window.PLOTLYENV || {};                                    if (document.getElementById(\"3d8bfc2e-7f32-488e-8531-dfeded3ea094\")) {                    Plotly.newPlot(                        \"3d8bfc2e-7f32-488e-8531-dfeded3ea094\",                        [{\"marker\":{\"color\":\"green\"},\"name\":\"Revenue\",\"x\":[\"2020-01-31T00:00:00\",\"2020-02-29T00:00:00\",\"2020-03-31T00:00:00\",\"2020-04-30T00:00:00\",\"2020-05-31T00:00:00\",\"2020-06-30T00:00:00\",\"2020-07-31T00:00:00\",\"2020-08-31T00:00:00\",\"2020-09-30T00:00:00\",\"2020-10-31T00:00:00\",\"2020-11-30T00:00:00\",\"2020-12-31T00:00:00\",\"2021-01-31T00:00:00\",\"2021-02-28T00:00:00\",\"2021-03-31T00:00:00\",\"2021-04-30T00:00:00\",\"2021-05-31T00:00:00\",\"2021-06-30T00:00:00\",\"2021-07-31T00:00:00\",\"2021-08-31T00:00:00\",\"2021-09-30T00:00:00\",\"2021-10-31T00:00:00\",\"2021-11-30T00:00:00\",\"2021-12-31T00:00:00\",\"2022-01-31T00:00:00\",\"2022-02-28T00:00:00\",\"2022-03-31T00:00:00\",\"2022-04-30T00:00:00\",\"2022-05-31T00:00:00\",\"2022-06-30T00:00:00\"],\"y\":[585312.69,532226.28,643436.14,653364.08,659325.94,669988.72,486114.93,536452.77,344062.89,404276.64999999997,326611.22,563761.67,432425.86,474162.94,471962.02,494957.58,545535.02,533825.21,815356.33,804192.89,952743.1,1029820.5,1133912.58,1635308.36,1274378.36,1339240.95,1448595.71,1527813.28,1768432.18,1826986.81],\"type\":\"bar\"},{\"line\":{\"color\":\"lightblue\",\"width\":2.5},\"mode\":\"lines+markers\",\"name\":\"Profit\",\"x\":[\"2020-01-31T00:00:00\",\"2020-02-29T00:00:00\",\"2020-03-31T00:00:00\",\"2020-04-30T00:00:00\",\"2020-05-31T00:00:00\",\"2020-06-30T00:00:00\",\"2020-07-31T00:00:00\",\"2020-08-31T00:00:00\",\"2020-09-30T00:00:00\",\"2020-10-31T00:00:00\",\"2020-11-30T00:00:00\",\"2020-12-31T00:00:00\",\"2021-01-31T00:00:00\",\"2021-02-28T00:00:00\",\"2021-03-31T00:00:00\",\"2021-04-30T00:00:00\",\"2021-05-31T00:00:00\",\"2021-06-30T00:00:00\",\"2021-07-31T00:00:00\",\"2021-08-31T00:00:00\",\"2021-09-30T00:00:00\",\"2021-10-31T00:00:00\",\"2021-11-30T00:00:00\",\"2021-12-31T00:00:00\",\"2022-01-31T00:00:00\",\"2022-02-28T00:00:00\",\"2022-03-31T00:00:00\",\"2022-04-30T00:00:00\",\"2022-05-31T00:00:00\",\"2022-06-30T00:00:00\"],\"y\":[235814.67,212187.27,259085.24,263032.06,266276.48,270068.24,196682.65,218355.33,140516.01,168581.63,134175.83,236830.22,182044.22,200044.16999999998,199610.83,209521.50999999998,233012.91999999998,227744.75,342624.55,348097.43,410593.63,441169.72,482941.87,689685.9299999999,541845.88,567575.51,613454.6,643828.64,750755.61,771579.13],\"type\":\"scatter\"}],                        {\"template\":{\"data\":{\"barpolar\":[{\"marker\":{\"line\":{\"color\":\"rgb(17,17,17)\",\"width\":0.5},\"pattern\":{\"fillmode\":\"overlay\",\"size\":10,\"solidity\":0.2}},\"type\":\"barpolar\"}],\"bar\":[{\"error_x\":{\"color\":\"#f2f5fa\"},\"error_y\":{\"color\":\"#f2f5fa\"},\"marker\":{\"line\":{\"color\":\"rgb(17,17,17)\",\"width\":0.5},\"pattern\":{\"fillmode\":\"overlay\",\"size\":10,\"solidity\":0.2}},\"type\":\"bar\"}],\"carpet\":[{\"aaxis\":{\"endlinecolor\":\"#A2B1C6\",\"gridcolor\":\"#506784\",\"linecolor\":\"#506784\",\"minorgridcolor\":\"#506784\",\"startlinecolor\":\"#A2B1C6\"},\"baxis\":{\"endlinecolor\":\"#A2B1C6\",\"gridcolor\":\"#506784\",\"linecolor\":\"#506784\",\"minorgridcolor\":\"#506784\",\"startlinecolor\":\"#A2B1C6\"},\"type\":\"carpet\"}],\"choropleth\":[{\"colorbar\":{\"outlinewidth\":0,\"ticks\":\"\"},\"type\":\"choropleth\"}],\"contourcarpet\":[{\"colorbar\":{\"outlinewidth\":0,\"ticks\":\"\"},\"type\":\"contourcarpet\"}],\"contour\":[{\"colorbar\":{\"outlinewidth\":0,\"ticks\":\"\"},\"colorscale\":[[0.0,\"#0d0887\"],[0.1111111111111111,\"#46039f\"],[0.2222222222222222,\"#7201a8\"],[0.3333333333333333,\"#9c179e\"],[0.4444444444444444,\"#bd3786\"],[0.5555555555555556,\"#d8576b\"],[0.6666666666666666,\"#ed7953\"],[0.7777777777777778,\"#fb9f3a\"],[0.8888888888888888,\"#fdca26\"],[1.0,\"#f0f921\"]],\"type\":\"contour\"}],\"heatmapgl\":[{\"colorbar\":{\"outlinewidth\":0,\"ticks\":\"\"},\"colorscale\":[[0.0,\"#0d0887\"],[0.1111111111111111,\"#46039f\"],[0.2222222222222222,\"#7201a8\"],[0.3333333333333333,\"#9c179e\"],[0.4444444444444444,\"#bd3786\"],[0.5555555555555556,\"#d8576b\"],[0.6666666666666666,\"#ed7953\"],[0.7777777777777778,\"#fb9f3a\"],[0.8888888888888888,\"#fdca26\"],[1.0,\"#f0f921\"]],\"type\":\"heatmapgl\"}],\"heatmap\":[{\"colorbar\":{\"outlinewidth\":0,\"ticks\":\"\"},\"colorscale\":[[0.0,\"#0d0887\"],[0.1111111111111111,\"#46039f\"],[0.2222222222222222,\"#7201a8\"],[0.3333333333333333,\"#9c179e\"],[0.4444444444444444,\"#bd3786\"],[0.5555555555555556,\"#d8576b\"],[0.6666666666666666,\"#ed7953\"],[0.7777777777777778,\"#fb9f3a\"],[0.8888888888888888,\"#fdca26\"],[1.0,\"#f0f921\"]],\"type\":\"heatmap\"}],\"histogram2dcontour\":[{\"colorbar\":{\"outlinewidth\":0,\"ticks\":\"\"},\"colorscale\":[[0.0,\"#0d0887\"],[0.1111111111111111,\"#46039f\"],[0.2222222222222222,\"#7201a8\"],[0.3333333333333333,\"#9c179e\"],[0.4444444444444444,\"#bd3786\"],[0.5555555555555556,\"#d8576b\"],[0.6666666666666666,\"#ed7953\"],[0.7777777777777778,\"#fb9f3a\"],[0.8888888888888888,\"#fdca26\"],[1.0,\"#f0f921\"]],\"type\":\"histogram2dcontour\"}],\"histogram2d\":[{\"colorbar\":{\"outlinewidth\":0,\"ticks\":\"\"},\"colorscale\":[[0.0,\"#0d0887\"],[0.1111111111111111,\"#46039f\"],[0.2222222222222222,\"#7201a8\"],[0.3333333333333333,\"#9c179e\"],[0.4444444444444444,\"#bd3786\"],[0.5555555555555556,\"#d8576b\"],[0.6666666666666666,\"#ed7953\"],[0.7777777777777778,\"#fb9f3a\"],[0.8888888888888888,\"#fdca26\"],[1.0,\"#f0f921\"]],\"type\":\"histogram2d\"}],\"histogram\":[{\"marker\":{\"pattern\":{\"fillmode\":\"overlay\",\"size\":10,\"solidity\":0.2}},\"type\":\"histogram\"}],\"mesh3d\":[{\"colorbar\":{\"outlinewidth\":0,\"ticks\":\"\"},\"type\":\"mesh3d\"}],\"parcoords\":[{\"line\":{\"colorbar\":{\"outlinewidth\":0,\"ticks\":\"\"}},\"type\":\"parcoords\"}],\"pie\":[{\"automargin\":true,\"type\":\"pie\"}],\"scatter3d\":[{\"line\":{\"colorbar\":{\"outlinewidth\":0,\"ticks\":\"\"}},\"marker\":{\"colorbar\":{\"outlinewidth\":0,\"ticks\":\"\"}},\"type\":\"scatter3d\"}],\"scattercarpet\":[{\"marker\":{\"colorbar\":{\"outlinewidth\":0,\"ticks\":\"\"}},\"type\":\"scattercarpet\"}],\"scattergeo\":[{\"marker\":{\"colorbar\":{\"outlinewidth\":0,\"ticks\":\"\"}},\"type\":\"scattergeo\"}],\"scattergl\":[{\"marker\":{\"line\":{\"color\":\"#283442\"}},\"type\":\"scattergl\"}],\"scattermapbox\":[{\"marker\":{\"colorbar\":{\"outlinewidth\":0,\"ticks\":\"\"}},\"type\":\"scattermapbox\"}],\"scatterpolargl\":[{\"marker\":{\"colorbar\":{\"outlinewidth\":0,\"ticks\":\"\"}},\"type\":\"scatterpolargl\"}],\"scatterpolar\":[{\"marker\":{\"colorbar\":{\"outlinewidth\":0,\"ticks\":\"\"}},\"type\":\"scatterpolar\"}],\"scatter\":[{\"marker\":{\"line\":{\"color\":\"#283442\"}},\"type\":\"scatter\"}],\"scatterternary\":[{\"marker\":{\"colorbar\":{\"outlinewidth\":0,\"ticks\":\"\"}},\"type\":\"scatterternary\"}],\"surface\":[{\"colorbar\":{\"outlinewidth\":0,\"ticks\":\"\"},\"colorscale\":[[0.0,\"#0d0887\"],[0.1111111111111111,\"#46039f\"],[0.2222222222222222,\"#7201a8\"],[0.3333333333333333,\"#9c179e\"],[0.4444444444444444,\"#bd3786\"],[0.5555555555555556,\"#d8576b\"],[0.6666666666666666,\"#ed7953\"],[0.7777777777777778,\"#fb9f3a\"],[0.8888888888888888,\"#fdca26\"],[1.0,\"#f0f921\"]],\"type\":\"surface\"}],\"table\":[{\"cells\":{\"fill\":{\"color\":\"#506784\"},\"line\":{\"color\":\"rgb(17,17,17)\"}},\"header\":{\"fill\":{\"color\":\"#2a3f5f\"},\"line\":{\"color\":\"rgb(17,17,17)\"}},\"type\":\"table\"}]},\"layout\":{\"annotationdefaults\":{\"arrowcolor\":\"#f2f5fa\",\"arrowhead\":0,\"arrowwidth\":1},\"autotypenumbers\":\"strict\",\"coloraxis\":{\"colorbar\":{\"outlinewidth\":0,\"ticks\":\"\"}},\"colorscale\":{\"diverging\":[[0,\"#8e0152\"],[0.1,\"#c51b7d\"],[0.2,\"#de77ae\"],[0.3,\"#f1b6da\"],[0.4,\"#fde0ef\"],[0.5,\"#f7f7f7\"],[0.6,\"#e6f5d0\"],[0.7,\"#b8e186\"],[0.8,\"#7fbc41\"],[0.9,\"#4d9221\"],[1,\"#276419\"]],\"sequential\":[[0.0,\"#0d0887\"],[0.1111111111111111,\"#46039f\"],[0.2222222222222222,\"#7201a8\"],[0.3333333333333333,\"#9c179e\"],[0.4444444444444444,\"#bd3786\"],[0.5555555555555556,\"#d8576b\"],[0.6666666666666666,\"#ed7953\"],[0.7777777777777778,\"#fb9f3a\"],[0.8888888888888888,\"#fdca26\"],[1.0,\"#f0f921\"]],\"sequentialminus\":[[0.0,\"#0d0887\"],[0.1111111111111111,\"#46039f\"],[0.2222222222222222,\"#7201a8\"],[0.3333333333333333,\"#9c179e\"],[0.4444444444444444,\"#bd3786\"],[0.5555555555555556,\"#d8576b\"],[0.6666666666666666,\"#ed7953\"],[0.7777777777777778,\"#fb9f3a\"],[0.8888888888888888,\"#fdca26\"],[1.0,\"#f0f921\"]]},\"colorway\":[\"#636efa\",\"#EF553B\",\"#00cc96\",\"#ab63fa\",\"#FFA15A\",\"#19d3f3\",\"#FF6692\",\"#B6E880\",\"#FF97FF\",\"#FECB52\"],\"font\":{\"color\":\"#f2f5fa\"},\"geo\":{\"bgcolor\":\"rgb(17,17,17)\",\"lakecolor\":\"rgb(17,17,17)\",\"landcolor\":\"rgb(17,17,17)\",\"showlakes\":true,\"showland\":true,\"subunitcolor\":\"#506784\"},\"hoverlabel\":{\"align\":\"left\"},\"hovermode\":\"closest\",\"mapbox\":{\"style\":\"dark\"},\"paper_bgcolor\":\"rgb(17,17,17)\",\"plot_bgcolor\":\"rgb(17,17,17)\",\"polar\":{\"angularaxis\":{\"gridcolor\":\"#506784\",\"linecolor\":\"#506784\",\"ticks\":\"\"},\"bgcolor\":\"rgb(17,17,17)\",\"radialaxis\":{\"gridcolor\":\"#506784\",\"linecolor\":\"#506784\",\"ticks\":\"\"}},\"scene\":{\"xaxis\":{\"backgroundcolor\":\"rgb(17,17,17)\",\"gridcolor\":\"#506784\",\"gridwidth\":2,\"linecolor\":\"#506784\",\"showbackground\":true,\"ticks\":\"\",\"zerolinecolor\":\"#C8D4E3\"},\"yaxis\":{\"backgroundcolor\":\"rgb(17,17,17)\",\"gridcolor\":\"#506784\",\"gridwidth\":2,\"linecolor\":\"#506784\",\"showbackground\":true,\"ticks\":\"\",\"zerolinecolor\":\"#C8D4E3\"},\"zaxis\":{\"backgroundcolor\":\"rgb(17,17,17)\",\"gridcolor\":\"#506784\",\"gridwidth\":2,\"linecolor\":\"#506784\",\"showbackground\":true,\"ticks\":\"\",\"zerolinecolor\":\"#C8D4E3\"}},\"shapedefaults\":{\"line\":{\"color\":\"#f2f5fa\"}},\"sliderdefaults\":{\"bgcolor\":\"#C8D4E3\",\"bordercolor\":\"rgb(17,17,17)\",\"borderwidth\":1,\"tickwidth\":0},\"ternary\":{\"aaxis\":{\"gridcolor\":\"#506784\",\"linecolor\":\"#506784\",\"ticks\":\"\"},\"baxis\":{\"gridcolor\":\"#506784\",\"linecolor\":\"#506784\",\"ticks\":\"\"},\"bgcolor\":\"rgb(17,17,17)\",\"caxis\":{\"gridcolor\":\"#506784\",\"linecolor\":\"#506784\",\"ticks\":\"\"}},\"title\":{\"x\":0.05},\"updatemenudefaults\":{\"bgcolor\":\"#506784\",\"borderwidth\":0},\"xaxis\":{\"automargin\":true,\"gridcolor\":\"#283442\",\"linecolor\":\"#506784\",\"ticks\":\"\",\"title\":{\"standoff\":15},\"zerolinecolor\":\"#283442\",\"zerolinewidth\":2},\"yaxis\":{\"automargin\":true,\"gridcolor\":\"#283442\",\"linecolor\":\"#506784\",\"ticks\":\"\",\"title\":{\"standoff\":15},\"zerolinecolor\":\"#283442\",\"zerolinewidth\":2}}},\"title\":{\"text\":\"Monthly Revenue and Profit\"},\"xaxis\":{\"title\":{\"text\":\"Month\"}},\"yaxis\":{\"title\":{\"text\":\"Amount (in USD)\"}},\"legend\":{\"title\":{\"text\":\"Legend\"}},\"barmode\":\"group\"},                        {\"responsive\": true}                    ).then(function(){\n",
       "                            \n",
       "var gd = document.getElementById('3d8bfc2e-7f32-488e-8531-dfeded3ea094');\n",
       "var x = new MutationObserver(function (mutations, observer) {{\n",
       "        var display = window.getComputedStyle(gd).display;\n",
       "        if (!display || display === 'none') {{\n",
       "            console.log([gd, 'removed!']);\n",
       "            Plotly.purge(gd);\n",
       "            observer.disconnect();\n",
       "        }}\n",
       "}});\n",
       "\n",
       "// Listen for the removal of the full notebook cells\n",
       "var notebookContainer = gd.closest('#notebook-container');\n",
       "if (notebookContainer) {{\n",
       "    x.observe(notebookContainer, {childList: true});\n",
       "}}\n",
       "\n",
       "// Listen for the clearing of the current output cell\n",
       "var outputEl = gd.closest('.output');\n",
       "if (outputEl) {{\n",
       "    x.observe(outputEl, {childList: true});\n",
       "}}\n",
       "\n",
       "                        })                };                });            </script>        </div>"
      ]
     },
     "metadata": {},
     "output_type": "display_data"
    }
   ],
   "source": [
    "fig = go.Figure()\n",
    "col1_name = \"Revenue\"\n",
    "col2_name = \"Profit\"\n",
    "trace1 = go.Bar(x = reset_all_data_overtime[\"date\"], y = reset_all_data_overtime[\"Revenue\"], name= col1_name, marker_color = \"green\")\n",
    "\n",
    "trace2 = go.Scatter(x =  reset_all_data_overtime[\"date\"], y = reset_all_data_overtime[\"Profit\"],\n",
    "                       name = col2_name, mode = \"lines+markers\", line = dict(color = \"lightblue\", width = 2.5))\n",
    "fig.add_trace(trace1)\n",
    "fig.add_trace(trace2)\n",
    "fig.update_layout(\n",
    "    title=\"Monthly Revenue and Profit\",\n",
    "    xaxis_title=\"Month\",\n",
    "    yaxis_title=\"Amount (in USD)\",\n",
    "    legend=dict(title=\"Legend\"),\n",
    "    barmode=\"group\",  \n",
    "    template=\"plotly_dark\"\n",
    ")\n",
    "fig.show()"
   ]
  },
  {
   "cell_type": "code",
   "execution_count": 169,
   "id": "072f099f-fd86-420d-9a88-0b979d39b0cd",
   "metadata": {},
   "outputs": [
    {
     "data": {
      "application/vnd.plotly.v1+json": {
       "config": {
        "plotlyServerURL": "https://plot.ly"
       },
       "data": [
        {
         "hovertemplate": "Start of Quater=%{x}<br>OrderNumber=%{y}<extra></extra>",
         "legendgroup": "",
         "line": {
          "color": "purple",
          "dash": "solid",
          "width": 3
         },
         "marker": {
          "color": "lightblue",
          "size": 8,
          "symbol": "circle"
         },
         "mode": "lines+markers",
         "name": "",
         "orientation": "v",
         "showlegend": false,
         "type": "scatter",
         "x": [
          "Jan-2020",
          "Apr-2020",
          "Jul-2020",
          "Oct-2020",
          "Jan-2021",
          "Apr-2021",
          "Jul-2021",
          "Oct-2021",
          "Jan-2022",
          "Apr-2022"
         ],
         "xaxis": "x",
         "y": [
          547,
          622,
          721,
          740,
          775,
          931,
          8923,
          13306,
          13649,
          15832
         ],
         "yaxis": "y"
        }
       ],
       "layout": {
        "autosize": true,
        "legend": {
         "tracegroupgap": 0
        },
        "template": {
         "data": {
          "bar": [
           {
            "error_x": {
             "color": "#f2f5fa"
            },
            "error_y": {
             "color": "#f2f5fa"
            },
            "marker": {
             "line": {
              "color": "rgb(17,17,17)",
              "width": 0.5
             },
             "pattern": {
              "fillmode": "overlay",
              "size": 10,
              "solidity": 0.2
             }
            },
            "type": "bar"
           }
          ],
          "barpolar": [
           {
            "marker": {
             "line": {
              "color": "rgb(17,17,17)",
              "width": 0.5
             },
             "pattern": {
              "fillmode": "overlay",
              "size": 10,
              "solidity": 0.2
             }
            },
            "type": "barpolar"
           }
          ],
          "carpet": [
           {
            "aaxis": {
             "endlinecolor": "#A2B1C6",
             "gridcolor": "#506784",
             "linecolor": "#506784",
             "minorgridcolor": "#506784",
             "startlinecolor": "#A2B1C6"
            },
            "baxis": {
             "endlinecolor": "#A2B1C6",
             "gridcolor": "#506784",
             "linecolor": "#506784",
             "minorgridcolor": "#506784",
             "startlinecolor": "#A2B1C6"
            },
            "type": "carpet"
           }
          ],
          "choropleth": [
           {
            "colorbar": {
             "outlinewidth": 0,
             "ticks": ""
            },
            "type": "choropleth"
           }
          ],
          "contour": [
           {
            "colorbar": {
             "outlinewidth": 0,
             "ticks": ""
            },
            "colorscale": [
             [
              0,
              "#0d0887"
             ],
             [
              0.1111111111111111,
              "#46039f"
             ],
             [
              0.2222222222222222,
              "#7201a8"
             ],
             [
              0.3333333333333333,
              "#9c179e"
             ],
             [
              0.4444444444444444,
              "#bd3786"
             ],
             [
              0.5555555555555556,
              "#d8576b"
             ],
             [
              0.6666666666666666,
              "#ed7953"
             ],
             [
              0.7777777777777778,
              "#fb9f3a"
             ],
             [
              0.8888888888888888,
              "#fdca26"
             ],
             [
              1,
              "#f0f921"
             ]
            ],
            "type": "contour"
           }
          ],
          "contourcarpet": [
           {
            "colorbar": {
             "outlinewidth": 0,
             "ticks": ""
            },
            "type": "contourcarpet"
           }
          ],
          "heatmap": [
           {
            "colorbar": {
             "outlinewidth": 0,
             "ticks": ""
            },
            "colorscale": [
             [
              0,
              "#0d0887"
             ],
             [
              0.1111111111111111,
              "#46039f"
             ],
             [
              0.2222222222222222,
              "#7201a8"
             ],
             [
              0.3333333333333333,
              "#9c179e"
             ],
             [
              0.4444444444444444,
              "#bd3786"
             ],
             [
              0.5555555555555556,
              "#d8576b"
             ],
             [
              0.6666666666666666,
              "#ed7953"
             ],
             [
              0.7777777777777778,
              "#fb9f3a"
             ],
             [
              0.8888888888888888,
              "#fdca26"
             ],
             [
              1,
              "#f0f921"
             ]
            ],
            "type": "heatmap"
           }
          ],
          "heatmapgl": [
           {
            "colorbar": {
             "outlinewidth": 0,
             "ticks": ""
            },
            "colorscale": [
             [
              0,
              "#0d0887"
             ],
             [
              0.1111111111111111,
              "#46039f"
             ],
             [
              0.2222222222222222,
              "#7201a8"
             ],
             [
              0.3333333333333333,
              "#9c179e"
             ],
             [
              0.4444444444444444,
              "#bd3786"
             ],
             [
              0.5555555555555556,
              "#d8576b"
             ],
             [
              0.6666666666666666,
              "#ed7953"
             ],
             [
              0.7777777777777778,
              "#fb9f3a"
             ],
             [
              0.8888888888888888,
              "#fdca26"
             ],
             [
              1,
              "#f0f921"
             ]
            ],
            "type": "heatmapgl"
           }
          ],
          "histogram": [
           {
            "marker": {
             "pattern": {
              "fillmode": "overlay",
              "size": 10,
              "solidity": 0.2
             }
            },
            "type": "histogram"
           }
          ],
          "histogram2d": [
           {
            "colorbar": {
             "outlinewidth": 0,
             "ticks": ""
            },
            "colorscale": [
             [
              0,
              "#0d0887"
             ],
             [
              0.1111111111111111,
              "#46039f"
             ],
             [
              0.2222222222222222,
              "#7201a8"
             ],
             [
              0.3333333333333333,
              "#9c179e"
             ],
             [
              0.4444444444444444,
              "#bd3786"
             ],
             [
              0.5555555555555556,
              "#d8576b"
             ],
             [
              0.6666666666666666,
              "#ed7953"
             ],
             [
              0.7777777777777778,
              "#fb9f3a"
             ],
             [
              0.8888888888888888,
              "#fdca26"
             ],
             [
              1,
              "#f0f921"
             ]
            ],
            "type": "histogram2d"
           }
          ],
          "histogram2dcontour": [
           {
            "colorbar": {
             "outlinewidth": 0,
             "ticks": ""
            },
            "colorscale": [
             [
              0,
              "#0d0887"
             ],
             [
              0.1111111111111111,
              "#46039f"
             ],
             [
              0.2222222222222222,
              "#7201a8"
             ],
             [
              0.3333333333333333,
              "#9c179e"
             ],
             [
              0.4444444444444444,
              "#bd3786"
             ],
             [
              0.5555555555555556,
              "#d8576b"
             ],
             [
              0.6666666666666666,
              "#ed7953"
             ],
             [
              0.7777777777777778,
              "#fb9f3a"
             ],
             [
              0.8888888888888888,
              "#fdca26"
             ],
             [
              1,
              "#f0f921"
             ]
            ],
            "type": "histogram2dcontour"
           }
          ],
          "mesh3d": [
           {
            "colorbar": {
             "outlinewidth": 0,
             "ticks": ""
            },
            "type": "mesh3d"
           }
          ],
          "parcoords": [
           {
            "line": {
             "colorbar": {
              "outlinewidth": 0,
              "ticks": ""
             }
            },
            "type": "parcoords"
           }
          ],
          "pie": [
           {
            "automargin": true,
            "type": "pie"
           }
          ],
          "scatter": [
           {
            "marker": {
             "line": {
              "color": "#283442"
             }
            },
            "type": "scatter"
           }
          ],
          "scatter3d": [
           {
            "line": {
             "colorbar": {
              "outlinewidth": 0,
              "ticks": ""
             }
            },
            "marker": {
             "colorbar": {
              "outlinewidth": 0,
              "ticks": ""
             }
            },
            "type": "scatter3d"
           }
          ],
          "scattercarpet": [
           {
            "marker": {
             "colorbar": {
              "outlinewidth": 0,
              "ticks": ""
             }
            },
            "type": "scattercarpet"
           }
          ],
          "scattergeo": [
           {
            "marker": {
             "colorbar": {
              "outlinewidth": 0,
              "ticks": ""
             }
            },
            "type": "scattergeo"
           }
          ],
          "scattergl": [
           {
            "marker": {
             "line": {
              "color": "#283442"
             }
            },
            "type": "scattergl"
           }
          ],
          "scattermapbox": [
           {
            "marker": {
             "colorbar": {
              "outlinewidth": 0,
              "ticks": ""
             }
            },
            "type": "scattermapbox"
           }
          ],
          "scatterpolar": [
           {
            "marker": {
             "colorbar": {
              "outlinewidth": 0,
              "ticks": ""
             }
            },
            "type": "scatterpolar"
           }
          ],
          "scatterpolargl": [
           {
            "marker": {
             "colorbar": {
              "outlinewidth": 0,
              "ticks": ""
             }
            },
            "type": "scatterpolargl"
           }
          ],
          "scatterternary": [
           {
            "marker": {
             "colorbar": {
              "outlinewidth": 0,
              "ticks": ""
             }
            },
            "type": "scatterternary"
           }
          ],
          "surface": [
           {
            "colorbar": {
             "outlinewidth": 0,
             "ticks": ""
            },
            "colorscale": [
             [
              0,
              "#0d0887"
             ],
             [
              0.1111111111111111,
              "#46039f"
             ],
             [
              0.2222222222222222,
              "#7201a8"
             ],
             [
              0.3333333333333333,
              "#9c179e"
             ],
             [
              0.4444444444444444,
              "#bd3786"
             ],
             [
              0.5555555555555556,
              "#d8576b"
             ],
             [
              0.6666666666666666,
              "#ed7953"
             ],
             [
              0.7777777777777778,
              "#fb9f3a"
             ],
             [
              0.8888888888888888,
              "#fdca26"
             ],
             [
              1,
              "#f0f921"
             ]
            ],
            "type": "surface"
           }
          ],
          "table": [
           {
            "cells": {
             "fill": {
              "color": "#506784"
             },
             "line": {
              "color": "rgb(17,17,17)"
             }
            },
            "header": {
             "fill": {
              "color": "#2a3f5f"
             },
             "line": {
              "color": "rgb(17,17,17)"
             }
            },
            "type": "table"
           }
          ]
         },
         "layout": {
          "annotationdefaults": {
           "arrowcolor": "#f2f5fa",
           "arrowhead": 0,
           "arrowwidth": 1
          },
          "autotypenumbers": "strict",
          "coloraxis": {
           "colorbar": {
            "outlinewidth": 0,
            "ticks": ""
           }
          },
          "colorscale": {
           "diverging": [
            [
             0,
             "#8e0152"
            ],
            [
             0.1,
             "#c51b7d"
            ],
            [
             0.2,
             "#de77ae"
            ],
            [
             0.3,
             "#f1b6da"
            ],
            [
             0.4,
             "#fde0ef"
            ],
            [
             0.5,
             "#f7f7f7"
            ],
            [
             0.6,
             "#e6f5d0"
            ],
            [
             0.7,
             "#b8e186"
            ],
            [
             0.8,
             "#7fbc41"
            ],
            [
             0.9,
             "#4d9221"
            ],
            [
             1,
             "#276419"
            ]
           ],
           "sequential": [
            [
             0,
             "#0d0887"
            ],
            [
             0.1111111111111111,
             "#46039f"
            ],
            [
             0.2222222222222222,
             "#7201a8"
            ],
            [
             0.3333333333333333,
             "#9c179e"
            ],
            [
             0.4444444444444444,
             "#bd3786"
            ],
            [
             0.5555555555555556,
             "#d8576b"
            ],
            [
             0.6666666666666666,
             "#ed7953"
            ],
            [
             0.7777777777777778,
             "#fb9f3a"
            ],
            [
             0.8888888888888888,
             "#fdca26"
            ],
            [
             1,
             "#f0f921"
            ]
           ],
           "sequentialminus": [
            [
             0,
             "#0d0887"
            ],
            [
             0.1111111111111111,
             "#46039f"
            ],
            [
             0.2222222222222222,
             "#7201a8"
            ],
            [
             0.3333333333333333,
             "#9c179e"
            ],
            [
             0.4444444444444444,
             "#bd3786"
            ],
            [
             0.5555555555555556,
             "#d8576b"
            ],
            [
             0.6666666666666666,
             "#ed7953"
            ],
            [
             0.7777777777777778,
             "#fb9f3a"
            ],
            [
             0.8888888888888888,
             "#fdca26"
            ],
            [
             1,
             "#f0f921"
            ]
           ]
          },
          "colorway": [
           "#636efa",
           "#EF553B",
           "#00cc96",
           "#ab63fa",
           "#FFA15A",
           "#19d3f3",
           "#FF6692",
           "#B6E880",
           "#FF97FF",
           "#FECB52"
          ],
          "font": {
           "color": "#f2f5fa"
          },
          "geo": {
           "bgcolor": "rgb(17,17,17)",
           "lakecolor": "rgb(17,17,17)",
           "landcolor": "rgb(17,17,17)",
           "showlakes": true,
           "showland": true,
           "subunitcolor": "#506784"
          },
          "hoverlabel": {
           "align": "left"
          },
          "hovermode": "closest",
          "mapbox": {
           "style": "dark"
          },
          "paper_bgcolor": "rgb(17,17,17)",
          "plot_bgcolor": "rgb(17,17,17)",
          "polar": {
           "angularaxis": {
            "gridcolor": "#506784",
            "linecolor": "#506784",
            "ticks": ""
           },
           "bgcolor": "rgb(17,17,17)",
           "radialaxis": {
            "gridcolor": "#506784",
            "linecolor": "#506784",
            "ticks": ""
           }
          },
          "scene": {
           "xaxis": {
            "backgroundcolor": "rgb(17,17,17)",
            "gridcolor": "#506784",
            "gridwidth": 2,
            "linecolor": "#506784",
            "showbackground": true,
            "ticks": "",
            "zerolinecolor": "#C8D4E3"
           },
           "yaxis": {
            "backgroundcolor": "rgb(17,17,17)",
            "gridcolor": "#506784",
            "gridwidth": 2,
            "linecolor": "#506784",
            "showbackground": true,
            "ticks": "",
            "zerolinecolor": "#C8D4E3"
           },
           "zaxis": {
            "backgroundcolor": "rgb(17,17,17)",
            "gridcolor": "#506784",
            "gridwidth": 2,
            "linecolor": "#506784",
            "showbackground": true,
            "ticks": "",
            "zerolinecolor": "#C8D4E3"
           }
          },
          "shapedefaults": {
           "line": {
            "color": "#f2f5fa"
           }
          },
          "sliderdefaults": {
           "bgcolor": "#C8D4E3",
           "bordercolor": "rgb(17,17,17)",
           "borderwidth": 1,
           "tickwidth": 0
          },
          "ternary": {
           "aaxis": {
            "gridcolor": "#506784",
            "linecolor": "#506784",
            "ticks": ""
           },
           "baxis": {
            "gridcolor": "#506784",
            "linecolor": "#506784",
            "ticks": ""
           },
           "bgcolor": "rgb(17,17,17)",
           "caxis": {
            "gridcolor": "#506784",
            "linecolor": "#506784",
            "ticks": ""
           }
          },
          "title": {
           "x": 0.05
          },
          "updatemenudefaults": {
           "bgcolor": "#506784",
           "borderwidth": 0
          },
          "xaxis": {
           "automargin": true,
           "gridcolor": "#283442",
           "linecolor": "#506784",
           "ticks": "",
           "title": {
            "standoff": 15
           },
           "zerolinecolor": "#283442",
           "zerolinewidth": 2
          },
          "yaxis": {
           "automargin": true,
           "gridcolor": "#283442",
           "linecolor": "#506784",
           "ticks": "",
           "title": {
            "standoff": 15
           },
           "zerolinecolor": "#283442",
           "zerolinewidth": 2
          }
         }
        },
        "title": {
         "text": "Order Over Time"
        },
        "xaxis": {
         "anchor": "y",
         "autorange": true,
         "domain": [
          0,
          1
         ],
         "range": [
          -0.5598086124401914,
          9.559808612440191
         ],
         "title": {
          "text": "Start of Quater"
         },
         "type": "category"
        },
        "yaxis": {
         "anchor": "x",
         "autorange": true,
         "domain": [
          0,
          1
         ],
         "range": [
          -860.828947368421,
          17239.82894736842
         ],
         "title": {
          "text": "OrderNumber"
         },
         "type": "linear"
        }
       }
      },
      "image/png": "[encoded data removed]",
      "text/html": [
       "<div>                            <div id=\"a5e93972-102b-4498-b872-2e52f0623aa8\" class=\"plotly-graph-div\" style=\"height:525px; width:100%;\"></div>            <script type=\"text/javascript\">                require([\"plotly\"], function(Plotly) {                    window.PLOTLYENV=window.PLOTLYENV || {};                                    if (document.getElementById(\"a5e93972-102b-4498-b872-2e52f0623aa8\")) {                    Plotly.newPlot(                        \"a5e93972-102b-4498-b872-2e52f0623aa8\",                        [{\"hovertemplate\":\"Start of Quater=%{x}\\u003cbr\\u003eOrderNumber=%{y}\\u003cextra\\u003e\\u003c\\u002fextra\\u003e\",\"legendgroup\":\"\",\"line\":{\"color\":\"purple\",\"dash\":\"solid\",\"width\":3},\"marker\":{\"symbol\":\"circle\",\"color\":\"lightblue\",\"size\":8},\"mode\":\"lines+markers\",\"name\":\"\",\"orientation\":\"v\",\"showlegend\":false,\"x\":[\"Jan-2020\",\"Apr-2020\",\"Jul-2020\",\"Oct-2020\",\"Jan-2021\",\"Apr-2021\",\"Jul-2021\",\"Oct-2021\",\"Jan-2022\",\"Apr-2022\"],\"xaxis\":\"x\",\"y\":[547,622,721,740,775,931,8923,13306,13649,15832],\"yaxis\":\"y\",\"type\":\"scatter\"}],                        {\"template\":{\"data\":{\"barpolar\":[{\"marker\":{\"line\":{\"color\":\"rgb(17,17,17)\",\"width\":0.5},\"pattern\":{\"fillmode\":\"overlay\",\"size\":10,\"solidity\":0.2}},\"type\":\"barpolar\"}],\"bar\":[{\"error_x\":{\"color\":\"#f2f5fa\"},\"error_y\":{\"color\":\"#f2f5fa\"},\"marker\":{\"line\":{\"color\":\"rgb(17,17,17)\",\"width\":0.5},\"pattern\":{\"fillmode\":\"overlay\",\"size\":10,\"solidity\":0.2}},\"type\":\"bar\"}],\"carpet\":[{\"aaxis\":{\"endlinecolor\":\"#A2B1C6\",\"gridcolor\":\"#506784\",\"linecolor\":\"#506784\",\"minorgridcolor\":\"#506784\",\"startlinecolor\":\"#A2B1C6\"},\"baxis\":{\"endlinecolor\":\"#A2B1C6\",\"gridcolor\":\"#506784\",\"linecolor\":\"#506784\",\"minorgridcolor\":\"#506784\",\"startlinecolor\":\"#A2B1C6\"},\"type\":\"carpet\"}],\"choropleth\":[{\"colorbar\":{\"outlinewidth\":0,\"ticks\":\"\"},\"type\":\"choropleth\"}],\"contourcarpet\":[{\"colorbar\":{\"outlinewidth\":0,\"ticks\":\"\"},\"type\":\"contourcarpet\"}],\"contour\":[{\"colorbar\":{\"outlinewidth\":0,\"ticks\":\"\"},\"colorscale\":[[0.0,\"#0d0887\"],[0.1111111111111111,\"#46039f\"],[0.2222222222222222,\"#7201a8\"],[0.3333333333333333,\"#9c179e\"],[0.4444444444444444,\"#bd3786\"],[0.5555555555555556,\"#d8576b\"],[0.6666666666666666,\"#ed7953\"],[0.7777777777777778,\"#fb9f3a\"],[0.8888888888888888,\"#fdca26\"],[1.0,\"#f0f921\"]],\"type\":\"contour\"}],\"heatmapgl\":[{\"colorbar\":{\"outlinewidth\":0,\"ticks\":\"\"},\"colorscale\":[[0.0,\"#0d0887\"],[0.1111111111111111,\"#46039f\"],[0.2222222222222222,\"#7201a8\"],[0.3333333333333333,\"#9c179e\"],[0.4444444444444444,\"#bd3786\"],[0.5555555555555556,\"#d8576b\"],[0.6666666666666666,\"#ed7953\"],[0.7777777777777778,\"#fb9f3a\"],[0.8888888888888888,\"#fdca26\"],[1.0,\"#f0f921\"]],\"type\":\"heatmapgl\"}],\"heatmap\":[{\"colorbar\":{\"outlinewidth\":0,\"ticks\":\"\"},\"colorscale\":[[0.0,\"#0d0887\"],[0.1111111111111111,\"#46039f\"],[0.2222222222222222,\"#7201a8\"],[0.3333333333333333,\"#9c179e\"],[0.4444444444444444,\"#bd3786\"],[0.5555555555555556,\"#d8576b\"],[0.6666666666666666,\"#ed7953\"],[0.7777777777777778,\"#fb9f3a\"],[0.8888888888888888,\"#fdca26\"],[1.0,\"#f0f921\"]],\"type\":\"heatmap\"}],\"histogram2dcontour\":[{\"colorbar\":{\"outlinewidth\":0,\"ticks\":\"\"},\"colorscale\":[[0.0,\"#0d0887\"],[0.1111111111111111,\"#46039f\"],[0.2222222222222222,\"#7201a8\"],[0.3333333333333333,\"#9c179e\"],[0.4444444444444444,\"#bd3786\"],[0.5555555555555556,\"#d8576b\"],[0.6666666666666666,\"#ed7953\"],[0.7777777777777778,\"#fb9f3a\"],[0.8888888888888888,\"#fdca26\"],[1.0,\"#f0f921\"]],\"type\":\"histogram2dcontour\"}],\"histogram2d\":[{\"colorbar\":{\"outlinewidth\":0,\"ticks\":\"\"},\"colorscale\":[[0.0,\"#0d0887\"],[0.1111111111111111,\"#46039f\"],[0.2222222222222222,\"#7201a8\"],[0.3333333333333333,\"#9c179e\"],[0.4444444444444444,\"#bd3786\"],[0.5555555555555556,\"#d8576b\"],[0.6666666666666666,\"#ed7953\"],[0.7777777777777778,\"#fb9f3a\"],[0.8888888888888888,\"#fdca26\"],[1.0,\"#f0f921\"]],\"type\":\"histogram2d\"}],\"histogram\":[{\"marker\":{\"pattern\":{\"fillmode\":\"overlay\",\"size\":10,\"solidity\":0.2}},\"type\":\"histogram\"}],\"mesh3d\":[{\"colorbar\":{\"outlinewidth\":0,\"ticks\":\"\"},\"type\":\"mesh3d\"}],\"parcoords\":[{\"line\":{\"colorbar\":{\"outlinewidth\":0,\"ticks\":\"\"}},\"type\":\"parcoords\"}],\"pie\":[{\"automargin\":true,\"type\":\"pie\"}],\"scatter3d\":[{\"line\":{\"colorbar\":{\"outlinewidth\":0,\"ticks\":\"\"}},\"marker\":{\"colorbar\":{\"outlinewidth\":0,\"ticks\":\"\"}},\"type\":\"scatter3d\"}],\"scattercarpet\":[{\"marker\":{\"colorbar\":{\"outlinewidth\":0,\"ticks\":\"\"}},\"type\":\"scattercarpet\"}],\"scattergeo\":[{\"marker\":{\"colorbar\":{\"outlinewidth\":0,\"ticks\":\"\"}},\"type\":\"scattergeo\"}],\"scattergl\":[{\"marker\":{\"line\":{\"color\":\"#283442\"}},\"type\":\"scattergl\"}],\"scattermapbox\":[{\"marker\":{\"colorbar\":{\"outlinewidth\":0,\"ticks\":\"\"}},\"type\":\"scattermapbox\"}],\"scatterpolargl\":[{\"marker\":{\"colorbar\":{\"outlinewidth\":0,\"ticks\":\"\"}},\"type\":\"scatterpolargl\"}],\"scatterpolar\":[{\"marker\":{\"colorbar\":{\"outlinewidth\":0,\"ticks\":\"\"}},\"type\":\"scatterpolar\"}],\"scatter\":[{\"marker\":{\"line\":{\"color\":\"#283442\"}},\"type\":\"scatter\"}],\"scatterternary\":[{\"marker\":{\"colorbar\":{\"outlinewidth\":0,\"ticks\":\"\"}},\"type\":\"scatterternary\"}],\"surface\":[{\"colorbar\":{\"outlinewidth\":0,\"ticks\":\"\"},\"colorscale\":[[0.0,\"#0d0887\"],[0.1111111111111111,\"#46039f\"],[0.2222222222222222,\"#7201a8\"],[0.3333333333333333,\"#9c179e\"],[0.4444444444444444,\"#bd3786\"],[0.5555555555555556,\"#d8576b\"],[0.6666666666666666,\"#ed7953\"],[0.7777777777777778,\"#fb9f3a\"],[0.8888888888888888,\"#fdca26\"],[1.0,\"#f0f921\"]],\"type\":\"surface\"}],\"table\":[{\"cells\":{\"fill\":{\"color\":\"#506784\"},\"line\":{\"color\":\"rgb(17,17,17)\"}},\"header\":{\"fill\":{\"color\":\"#2a3f5f\"},\"line\":{\"color\":\"rgb(17,17,17)\"}},\"type\":\"table\"}]},\"layout\":{\"annotationdefaults\":{\"arrowcolor\":\"#f2f5fa\",\"arrowhead\":0,\"arrowwidth\":1},\"autotypenumbers\":\"strict\",\"coloraxis\":{\"colorbar\":{\"outlinewidth\":0,\"ticks\":\"\"}},\"colorscale\":{\"diverging\":[[0,\"#8e0152\"],[0.1,\"#c51b7d\"],[0.2,\"#de77ae\"],[0.3,\"#f1b6da\"],[0.4,\"#fde0ef\"],[0.5,\"#f7f7f7\"],[0.6,\"#e6f5d0\"],[0.7,\"#b8e186\"],[0.8,\"#7fbc41\"],[0.9,\"#4d9221\"],[1,\"#276419\"]],\"sequential\":[[0.0,\"#0d0887\"],[0.1111111111111111,\"#46039f\"],[0.2222222222222222,\"#7201a8\"],[0.3333333333333333,\"#9c179e\"],[0.4444444444444444,\"#bd3786\"],[0.5555555555555556,\"#d8576b\"],[0.6666666666666666,\"#ed7953\"],[0.7777777777777778,\"#fb9f3a\"],[0.8888888888888888,\"#fdca26\"],[1.0,\"#f0f921\"]],\"sequentialminus\":[[0.0,\"#0d0887\"],[0.1111111111111111,\"#46039f\"],[0.2222222222222222,\"#7201a8\"],[0.3333333333333333,\"#9c179e\"],[0.4444444444444444,\"#bd3786\"],[0.5555555555555556,\"#d8576b\"],[0.6666666666666666,\"#ed7953\"],[0.7777777777777778,\"#fb9f3a\"],[0.8888888888888888,\"#fdca26\"],[1.0,\"#f0f921\"]]},\"colorway\":[\"#636efa\",\"#EF553B\",\"#00cc96\",\"#ab63fa\",\"#FFA15A\",\"#19d3f3\",\"#FF6692\",\"#B6E880\",\"#FF97FF\",\"#FECB52\"],\"font\":{\"color\":\"#f2f5fa\"},\"geo\":{\"bgcolor\":\"rgb(17,17,17)\",\"lakecolor\":\"rgb(17,17,17)\",\"landcolor\":\"rgb(17,17,17)\",\"showlakes\":true,\"showland\":true,\"subunitcolor\":\"#506784\"},\"hoverlabel\":{\"align\":\"left\"},\"hovermode\":\"closest\",\"mapbox\":{\"style\":\"dark\"},\"paper_bgcolor\":\"rgb(17,17,17)\",\"plot_bgcolor\":\"rgb(17,17,17)\",\"polar\":{\"angularaxis\":{\"gridcolor\":\"#506784\",\"linecolor\":\"#506784\",\"ticks\":\"\"},\"bgcolor\":\"rgb(17,17,17)\",\"radialaxis\":{\"gridcolor\":\"#506784\",\"linecolor\":\"#506784\",\"ticks\":\"\"}},\"scene\":{\"xaxis\":{\"backgroundcolor\":\"rgb(17,17,17)\",\"gridcolor\":\"#506784\",\"gridwidth\":2,\"linecolor\":\"#506784\",\"showbackground\":true,\"ticks\":\"\",\"zerolinecolor\":\"#C8D4E3\"},\"yaxis\":{\"backgroundcolor\":\"rgb(17,17,17)\",\"gridcolor\":\"#506784\",\"gridwidth\":2,\"linecolor\":\"#506784\",\"showbackground\":true,\"ticks\":\"\",\"zerolinecolor\":\"#C8D4E3\"},\"zaxis\":{\"backgroundcolor\":\"rgb(17,17,17)\",\"gridcolor\":\"#506784\",\"gridwidth\":2,\"linecolor\":\"#506784\",\"showbackground\":true,\"ticks\":\"\",\"zerolinecolor\":\"#C8D4E3\"}},\"shapedefaults\":{\"line\":{\"color\":\"#f2f5fa\"}},\"sliderdefaults\":{\"bgcolor\":\"#C8D4E3\",\"bordercolor\":\"rgb(17,17,17)\",\"borderwidth\":1,\"tickwidth\":0},\"ternary\":{\"aaxis\":{\"gridcolor\":\"#506784\",\"linecolor\":\"#506784\",\"ticks\":\"\"},\"baxis\":{\"gridcolor\":\"#506784\",\"linecolor\":\"#506784\",\"ticks\":\"\"},\"bgcolor\":\"rgb(17,17,17)\",\"caxis\":{\"gridcolor\":\"#506784\",\"linecolor\":\"#506784\",\"ticks\":\"\"}},\"title\":{\"x\":0.05},\"updatemenudefaults\":{\"bgcolor\":\"#506784\",\"borderwidth\":0},\"xaxis\":{\"automargin\":true,\"gridcolor\":\"#283442\",\"linecolor\":\"#506784\",\"ticks\":\"\",\"title\":{\"standoff\":15},\"zerolinecolor\":\"#283442\",\"zerolinewidth\":2},\"yaxis\":{\"automargin\":true,\"gridcolor\":\"#283442\",\"linecolor\":\"#506784\",\"ticks\":\"\",\"title\":{\"standoff\":15},\"zerolinecolor\":\"#283442\",\"zerolinewidth\":2}}},\"xaxis\":{\"anchor\":\"y\",\"domain\":[0.0,1.0],\"title\":{\"text\":\"Start of Quater\"}},\"yaxis\":{\"anchor\":\"x\",\"domain\":[0.0,1.0],\"title\":{\"text\":\"OrderNumber\"}},\"legend\":{\"tracegroupgap\":0},\"title\":{\"text\":\"Order Over Time\"}},                        {\"responsive\": true}                    ).then(function(){\n",
       "                            \n",
       "var gd = document.getElementById('a5e93972-102b-4498-b872-2e52f0623aa8');\n",
       "var x = new MutationObserver(function (mutations, observer) {{\n",
       "        var display = window.getComputedStyle(gd).display;\n",
       "        if (!display || display === 'none') {{\n",
       "            console.log([gd, 'removed!']);\n",
       "            Plotly.purge(gd);\n",
       "            observer.disconnect();\n",
       "        }}\n",
       "}});\n",
       "\n",
       "// Listen for the removal of the full notebook cells\n",
       "var notebookContainer = gd.closest('#notebook-container');\n",
       "if (notebookContainer) {{\n",
       "    x.observe(notebookContainer, {childList: true});\n",
       "}}\n",
       "\n",
       "// Listen for the clearing of the current output cell\n",
       "var outputEl = gd.closest('.output');\n",
       "if (outputEl) {{\n",
       "    x.observe(outputEl, {childList: true});\n",
       "}}\n",
       "\n",
       "                        })                };                });            </script>        </div>"
      ]
     },
     "metadata": {},
     "output_type": "display_data"
    }
   ],
   "source": [
    "fig = px.line(data_frame = reset_all_data_orders, x = reset_all_data_orders[\"Start of Quater\"], y = reset_all_data_orders[\"OrderNumber\"],\n",
    "                   title = \"Order Over Time\", template = \"plotly_dark\", markers = True)\n",
    "fig.update_traces(line=dict(width=3, color = \"purple\"))  \n",
    "fig.update_traces(marker=dict(size=8, color = \"lightblue\")) \n",
    "fig.show()"
   ]
  },
  {
   "cell_type": "code",
   "execution_count": 123,
   "id": "edd33a62-5592-4ed1-b0fe-4701af6a6e87",
   "metadata": {},
   "outputs": [
    {
     "data": {
      "application/vnd.plotly.v1+json": {
       "config": {
        "plotlyServerURL": "https://plot.ly"
       },
       "data": [
        {
         "hovertemplate": "Start of Quater=%{x}<br>CustomerKey=%{y}<extra></extra>",
         "legendgroup": "",
         "line": {
          "color": "yellow",
          "dash": "solid",
          "width": 3
         },
         "marker": {
          "color": "lightblue",
          "size": 8,
          "symbol": "circle"
         },
         "mode": "lines+markers",
         "name": "",
         "orientation": "v",
         "showlegend": false,
         "type": "scatter",
         "x": [
          "Jan-2020",
          "Apr-2020",
          "Jul-2020",
          "Oct-2020",
          "Jan-2021",
          "Apr-2021",
          "Jul-2021",
          "Oct-2021",
          "Jan-2022",
          "Apr-2022"
         ],
         "xaxis": "x",
         "y": [
          547,
          622,
          721,
          740,
          775,
          931,
          3416,
          4996,
          5140,
          5934
         ],
         "yaxis": "y"
        }
       ],
       "layout": {
        "autosize": true,
        "legend": {
         "tracegroupgap": 0
        },
        "template": {
         "data": {
          "bar": [
           {
            "error_x": {
             "color": "#f2f5fa"
            },
            "error_y": {
             "color": "#f2f5fa"
            },
            "marker": {
             "line": {
              "color": "rgb(17,17,17)",
              "width": 0.5
             },
             "pattern": {
              "fillmode": "overlay",
              "size": 10,
              "solidity": 0.2
             }
            },
            "type": "bar"
           }
          ],
          "barpolar": [
           {
            "marker": {
             "line": {
              "color": "rgb(17,17,17)",
              "width": 0.5
             },
             "pattern": {
              "fillmode": "overlay",
              "size": 10,
              "solidity": 0.2
             }
            },
            "type": "barpolar"
           }
          ],
          "carpet": [
           {
            "aaxis": {
             "endlinecolor": "#A2B1C6",
             "gridcolor": "#506784",
             "linecolor": "#506784",
             "minorgridcolor": "#506784",
             "startlinecolor": "#A2B1C6"
            },
            "baxis": {
             "endlinecolor": "#A2B1C6",
             "gridcolor": "#506784",
             "linecolor": "#506784",
             "minorgridcolor": "#506784",
             "startlinecolor": "#A2B1C6"
            },
            "type": "carpet"
           }
          ],
          "choropleth": [
           {
            "colorbar": {
             "outlinewidth": 0,
             "ticks": ""
            },
            "type": "choropleth"
           }
          ],
          "contour": [
           {
            "colorbar": {
             "outlinewidth": 0,
             "ticks": ""
            },
            "colorscale": [
             [
              0,
              "#0d0887"
             ],
             [
              0.1111111111111111,
              "#46039f"
             ],
             [
              0.2222222222222222,
              "#7201a8"
             ],
             [
              0.3333333333333333,
              "#9c179e"
             ],
             [
              0.4444444444444444,
              "#bd3786"
             ],
             [
              0.5555555555555556,
              "#d8576b"
             ],
             [
              0.6666666666666666,
              "#ed7953"
             ],
             [
              0.7777777777777778,
              "#fb9f3a"
             ],
             [
              0.8888888888888888,
              "#fdca26"
             ],
             [
              1,
              "#f0f921"
             ]
            ],
            "type": "contour"
           }
          ],
          "contourcarpet": [
           {
            "colorbar": {
             "outlinewidth": 0,
             "ticks": ""
            },
            "type": "contourcarpet"
           }
          ],
          "heatmap": [
           {
            "colorbar": {
             "outlinewidth": 0,
             "ticks": ""
            },
            "colorscale": [
             [
              0,
              "#0d0887"
             ],
             [
              0.1111111111111111,
              "#46039f"
             ],
             [
              0.2222222222222222,
              "#7201a8"
             ],
             [
              0.3333333333333333,
              "#9c179e"
             ],
             [
              0.4444444444444444,
              "#bd3786"
             ],
             [
              0.5555555555555556,
              "#d8576b"
             ],
             [
              0.6666666666666666,
              "#ed7953"
             ],
             [
              0.7777777777777778,
              "#fb9f3a"
             ],
             [
              0.8888888888888888,
              "#fdca26"
             ],
             [
              1,
              "#f0f921"
             ]
            ],
            "type": "heatmap"
           }
          ],
          "heatmapgl": [
           {
            "colorbar": {
             "outlinewidth": 0,
             "ticks": ""
            },
            "colorscale": [
             [
              0,
              "#0d0887"
             ],
             [
              0.1111111111111111,
              "#46039f"
             ],
             [
              0.2222222222222222,
              "#7201a8"
             ],
             [
              0.3333333333333333,
              "#9c179e"
             ],
             [
              0.4444444444444444,
              "#bd3786"
             ],
             [
              0.5555555555555556,
              "#d8576b"
             ],
             [
              0.6666666666666666,
              "#ed7953"
             ],
             [
              0.7777777777777778,
              "#fb9f3a"
             ],
             [
              0.8888888888888888,
              "#fdca26"
             ],
             [
              1,
              "#f0f921"
             ]
            ],
            "type": "heatmapgl"
           }
          ],
          "histogram": [
           {
            "marker": {
             "pattern": {
              "fillmode": "overlay",
              "size": 10,
              "solidity": 0.2
             }
            },
            "type": "histogram"
           }
          ],
          "histogram2d": [
           {
            "colorbar": {
             "outlinewidth": 0,
             "ticks": ""
            },
            "colorscale": [
             [
              0,
              "#0d0887"
             ],
             [
              0.1111111111111111,
              "#46039f"
             ],
             [
              0.2222222222222222,
              "#7201a8"
             ],
             [
              0.3333333333333333,
              "#9c179e"
             ],
             [
              0.4444444444444444,
              "#bd3786"
             ],
             [
              0.5555555555555556,
              "#d8576b"
             ],
             [
              0.6666666666666666,
              "#ed7953"
             ],
             [
              0.7777777777777778,
              "#fb9f3a"
             ],
             [
              0.8888888888888888,
              "#fdca26"
             ],
             [
              1,
              "#f0f921"
             ]
            ],
            "type": "histogram2d"
           }
          ],
          "histogram2dcontour": [
           {
            "colorbar": {
             "outlinewidth": 0,
             "ticks": ""
            },
            "colorscale": [
             [
              0,
              "#0d0887"
             ],
             [
              0.1111111111111111,
              "#46039f"
             ],
             [
              0.2222222222222222,
              "#7201a8"
             ],
             [
              0.3333333333333333,
              "#9c179e"
             ],
             [
              0.4444444444444444,
              "#bd3786"
             ],
             [
              0.5555555555555556,
              "#d8576b"
             ],
             [
              0.6666666666666666,
              "#ed7953"
             ],
             [
              0.7777777777777778,
              "#fb9f3a"
             ],
             [
              0.8888888888888888,
              "#fdca26"
             ],
             [
              1,
              "#f0f921"
             ]
            ],
            "type": "histogram2dcontour"
           }
          ],
          "mesh3d": [
           {
            "colorbar": {
             "outlinewidth": 0,
             "ticks": ""
            },
            "type": "mesh3d"
           }
          ],
          "parcoords": [
           {
            "line": {
             "colorbar": {
              "outlinewidth": 0,
              "ticks": ""
             }
            },
            "type": "parcoords"
           }
          ],
          "pie": [
           {
            "automargin": true,
            "type": "pie"
           }
          ],
          "scatter": [
           {
            "marker": {
             "line": {
              "color": "#283442"
             }
            },
            "type": "scatter"
           }
          ],
          "scatter3d": [
           {
            "line": {
             "colorbar": {
              "outlinewidth": 0,
              "ticks": ""
             }
            },
            "marker": {
             "colorbar": {
              "outlinewidth": 0,
              "ticks": ""
             }
            },
            "type": "scatter3d"
           }
          ],
          "scattercarpet": [
           {
            "marker": {
             "colorbar": {
              "outlinewidth": 0,
              "ticks": ""
             }
            },
            "type": "scattercarpet"
           }
          ],
          "scattergeo": [
           {
            "marker": {
             "colorbar": {
              "outlinewidth": 0,
              "ticks": ""
             }
            },
            "type": "scattergeo"
           }
          ],
          "scattergl": [
           {
            "marker": {
             "line": {
              "color": "#283442"
             }
            },
            "type": "scattergl"
           }
          ],
          "scattermapbox": [
           {
            "marker": {
             "colorbar": {
              "outlinewidth": 0,
              "ticks": ""
             }
            },
            "type": "scattermapbox"
           }
          ],
          "scatterpolar": [
           {
            "marker": {
             "colorbar": {
              "outlinewidth": 0,
              "ticks": ""
             }
            },
            "type": "scatterpolar"
           }
          ],
          "scatterpolargl": [
           {
            "marker": {
             "colorbar": {
              "outlinewidth": 0,
              "ticks": ""
             }
            },
            "type": "scatterpolargl"
           }
          ],
          "scatterternary": [
           {
            "marker": {
             "colorbar": {
              "outlinewidth": 0,
              "ticks": ""
             }
            },
            "type": "scatterternary"
           }
          ],
          "surface": [
           {
            "colorbar": {
             "outlinewidth": 0,
             "ticks": ""
            },
            "colorscale": [
             [
              0,
              "#0d0887"
             ],
             [
              0.1111111111111111,
              "#46039f"
             ],
             [
              0.2222222222222222,
              "#7201a8"
             ],
             [
              0.3333333333333333,
              "#9c179e"
             ],
             [
              0.4444444444444444,
              "#bd3786"
             ],
             [
              0.5555555555555556,
              "#d8576b"
             ],
             [
              0.6666666666666666,
              "#ed7953"
             ],
             [
              0.7777777777777778,
              "#fb9f3a"
             ],
             [
              0.8888888888888888,
              "#fdca26"
             ],
             [
              1,
              "#f0f921"
             ]
            ],
            "type": "surface"
           }
          ],
          "table": [
           {
            "cells": {
             "fill": {
              "color": "#506784"
             },
             "line": {
              "color": "rgb(17,17,17)"
             }
            },
            "header": {
             "fill": {
              "color": "#2a3f5f"
             },
             "line": {
              "color": "rgb(17,17,17)"
             }
            },
            "type": "table"
           }
          ]
         },
         "layout": {
          "annotationdefaults": {
           "arrowcolor": "#f2f5fa",
           "arrowhead": 0,
           "arrowwidth": 1
          },
          "autotypenumbers": "strict",
          "coloraxis": {
           "colorbar": {
            "outlinewidth": 0,
            "ticks": ""
           }
          },
          "colorscale": {
           "diverging": [
            [
             0,
             "#8e0152"
            ],
            [
             0.1,
             "#c51b7d"
            ],
            [
             0.2,
             "#de77ae"
            ],
            [
             0.3,
             "#f1b6da"
            ],
            [
             0.4,
             "#fde0ef"
            ],
            [
             0.5,
             "#f7f7f7"
            ],
            [
             0.6,
             "#e6f5d0"
            ],
            [
             0.7,
             "#b8e186"
            ],
            [
             0.8,
             "#7fbc41"
            ],
            [
             0.9,
             "#4d9221"
            ],
            [
             1,
             "#276419"
            ]
           ],
           "sequential": [
            [
             0,
             "#0d0887"
            ],
            [
             0.1111111111111111,
             "#46039f"
            ],
            [
             0.2222222222222222,
             "#7201a8"
            ],
            [
             0.3333333333333333,
             "#9c179e"
            ],
            [
             0.4444444444444444,
             "#bd3786"
            ],
            [
             0.5555555555555556,
             "#d8576b"
            ],
            [
             0.6666666666666666,
             "#ed7953"
            ],
            [
             0.7777777777777778,
             "#fb9f3a"
            ],
            [
             0.8888888888888888,
             "#fdca26"
            ],
            [
             1,
             "#f0f921"
            ]
           ],
           "sequentialminus": [
            [
             0,
             "#0d0887"
            ],
            [
             0.1111111111111111,
             "#46039f"
            ],
            [
             0.2222222222222222,
             "#7201a8"
            ],
            [
             0.3333333333333333,
             "#9c179e"
            ],
            [
             0.4444444444444444,
             "#bd3786"
            ],
            [
             0.5555555555555556,
             "#d8576b"
            ],
            [
             0.6666666666666666,
             "#ed7953"
            ],
            [
             0.7777777777777778,
             "#fb9f3a"
            ],
            [
             0.8888888888888888,
             "#fdca26"
            ],
            [
             1,
             "#f0f921"
            ]
           ]
          },
          "colorway": [
           "#636efa",
           "#EF553B",
           "#00cc96",
           "#ab63fa",
           "#FFA15A",
           "#19d3f3",
           "#FF6692",
           "#B6E880",
           "#FF97FF",
           "#FECB52"
          ],
          "font": {
           "color": "#f2f5fa"
          },
          "geo": {
           "bgcolor": "rgb(17,17,17)",
           "lakecolor": "rgb(17,17,17)",
           "landcolor": "rgb(17,17,17)",
           "showlakes": true,
           "showland": true,
           "subunitcolor": "#506784"
          },
          "hoverlabel": {
           "align": "left"
          },
          "hovermode": "closest",
          "mapbox": {
           "style": "dark"
          },
          "paper_bgcolor": "rgb(17,17,17)",
          "plot_bgcolor": "rgb(17,17,17)",
          "polar": {
           "angularaxis": {
            "gridcolor": "#506784",
            "linecolor": "#506784",
            "ticks": ""
           },
           "bgcolor": "rgb(17,17,17)",
           "radialaxis": {
            "gridcolor": "#506784",
            "linecolor": "#506784",
            "ticks": ""
           }
          },
          "scene": {
           "xaxis": {
            "backgroundcolor": "rgb(17,17,17)",
            "gridcolor": "#506784",
            "gridwidth": 2,
            "linecolor": "#506784",
            "showbackground": true,
            "ticks": "",
            "zerolinecolor": "#C8D4E3"
           },
           "yaxis": {
            "backgroundcolor": "rgb(17,17,17)",
            "gridcolor": "#506784",
            "gridwidth": 2,
            "linecolor": "#506784",
            "showbackground": true,
            "ticks": "",
            "zerolinecolor": "#C8D4E3"
           },
           "zaxis": {
            "backgroundcolor": "rgb(17,17,17)",
            "gridcolor": "#506784",
            "gridwidth": 2,
            "linecolor": "#506784",
            "showbackground": true,
            "ticks": "",
            "zerolinecolor": "#C8D4E3"
           }
          },
          "shapedefaults": {
           "line": {
            "color": "#f2f5fa"
           }
          },
          "sliderdefaults": {
           "bgcolor": "#C8D4E3",
           "bordercolor": "rgb(17,17,17)",
           "borderwidth": 1,
           "tickwidth": 0
          },
          "ternary": {
           "aaxis": {
            "gridcolor": "#506784",
            "linecolor": "#506784",
            "ticks": ""
           },
           "baxis": {
            "gridcolor": "#506784",
            "linecolor": "#506784",
            "ticks": ""
           },
           "bgcolor": "rgb(17,17,17)",
           "caxis": {
            "gridcolor": "#506784",
            "linecolor": "#506784",
            "ticks": ""
           }
          },
          "title": {
           "x": 0.05
          },
          "updatemenudefaults": {
           "bgcolor": "#506784",
           "borderwidth": 0
          },
          "xaxis": {
           "automargin": true,
           "gridcolor": "#283442",
           "linecolor": "#506784",
           "ticks": "",
           "title": {
            "standoff": 15
           },
           "zerolinecolor": "#283442",
           "zerolinewidth": 2
          },
          "yaxis": {
           "automargin": true,
           "gridcolor": "#283442",
           "linecolor": "#506784",
           "ticks": "",
           "title": {
            "standoff": 15
           },
           "zerolinecolor": "#283442",
           "zerolinewidth": 2
          }
         }
        },
        "title": {
         "text": "New Customers Over Time"
        },
        "xaxis": {
         "anchor": "y",
         "autorange": true,
         "domain": [
          0,
          1
         ],
         "range": [
          -0.5598086124401914,
          9.559808612440191
         ],
         "title": {
          "text": "Start of Quater"
         },
         "type": "category"
        },
        "yaxis": {
         "anchor": "x",
         "autorange": true,
         "domain": [
          0,
          1
         ],
         "range": [
          50.82894736842104,
          6430.171052631579
         ],
         "title": {
          "text": "CustomerKey"
         },
         "type": "linear"
        }
       }
      },
      "image/png": "[encoded data removed]",
      "text/html": [
       "<div>                            <div id=\"8031bc6d-3be4-476c-9bb9-92390adbd4fe\" class=\"plotly-graph-div\" style=\"height:525px; width:100%;\"></div>            <script type=\"text/javascript\">                require([\"plotly\"], function(Plotly) {                    window.PLOTLYENV=window.PLOTLYENV || {};                                    if (document.getElementById(\"8031bc6d-3be4-476c-9bb9-92390adbd4fe\")) {                    Plotly.newPlot(                        \"8031bc6d-3be4-476c-9bb9-92390adbd4fe\",                        [{\"hovertemplate\":\"Start of Quater=%{x}\\u003cbr\\u003eCustomerKey=%{y}\\u003cextra\\u003e\\u003c\\u002fextra\\u003e\",\"legendgroup\":\"\",\"line\":{\"color\":\"yellow\",\"dash\":\"solid\",\"width\":3},\"marker\":{\"symbol\":\"circle\",\"color\":\"lightblue\",\"size\":8},\"mode\":\"lines+markers\",\"name\":\"\",\"orientation\":\"v\",\"showlegend\":false,\"x\":[\"Jan-2020\",\"Apr-2020\",\"Jul-2020\",\"Oct-2020\",\"Jan-2021\",\"Apr-2021\",\"Jul-2021\",\"Oct-2021\",\"Jan-2022\",\"Apr-2022\"],\"xaxis\":\"x\",\"y\":[547,622,721,740,775,931,3416,4996,5140,5934],\"yaxis\":\"y\",\"type\":\"scatter\"}],                        {\"template\":{\"data\":{\"barpolar\":[{\"marker\":{\"line\":{\"color\":\"rgb(17,17,17)\",\"width\":0.5},\"pattern\":{\"fillmode\":\"overlay\",\"size\":10,\"solidity\":0.2}},\"type\":\"barpolar\"}],\"bar\":[{\"error_x\":{\"color\":\"#f2f5fa\"},\"error_y\":{\"color\":\"#f2f5fa\"},\"marker\":{\"line\":{\"color\":\"rgb(17,17,17)\",\"width\":0.5},\"pattern\":{\"fillmode\":\"overlay\",\"size\":10,\"solidity\":0.2}},\"type\":\"bar\"}],\"carpet\":[{\"aaxis\":{\"endlinecolor\":\"#A2B1C6\",\"gridcolor\":\"#506784\",\"linecolor\":\"#506784\",\"minorgridcolor\":\"#506784\",\"startlinecolor\":\"#A2B1C6\"},\"baxis\":{\"endlinecolor\":\"#A2B1C6\",\"gridcolor\":\"#506784\",\"linecolor\":\"#506784\",\"minorgridcolor\":\"#506784\",\"startlinecolor\":\"#A2B1C6\"},\"type\":\"carpet\"}],\"choropleth\":[{\"colorbar\":{\"outlinewidth\":0,\"ticks\":\"\"},\"type\":\"choropleth\"}],\"contourcarpet\":[{\"colorbar\":{\"outlinewidth\":0,\"ticks\":\"\"},\"type\":\"contourcarpet\"}],\"contour\":[{\"colorbar\":{\"outlinewidth\":0,\"ticks\":\"\"},\"colorscale\":[[0.0,\"#0d0887\"],[0.1111111111111111,\"#46039f\"],[0.2222222222222222,\"#7201a8\"],[0.3333333333333333,\"#9c179e\"],[0.4444444444444444,\"#bd3786\"],[0.5555555555555556,\"#d8576b\"],[0.6666666666666666,\"#ed7953\"],[0.7777777777777778,\"#fb9f3a\"],[0.8888888888888888,\"#fdca26\"],[1.0,\"#f0f921\"]],\"type\":\"contour\"}],\"heatmapgl\":[{\"colorbar\":{\"outlinewidth\":0,\"ticks\":\"\"},\"colorscale\":[[0.0,\"#0d0887\"],[0.1111111111111111,\"#46039f\"],[0.2222222222222222,\"#7201a8\"],[0.3333333333333333,\"#9c179e\"],[0.4444444444444444,\"#bd3786\"],[0.5555555555555556,\"#d8576b\"],[0.6666666666666666,\"#ed7953\"],[0.7777777777777778,\"#fb9f3a\"],[0.8888888888888888,\"#fdca26\"],[1.0,\"#f0f921\"]],\"type\":\"heatmapgl\"}],\"heatmap\":[{\"colorbar\":{\"outlinewidth\":0,\"ticks\":\"\"},\"colorscale\":[[0.0,\"#0d0887\"],[0.1111111111111111,\"#46039f\"],[0.2222222222222222,\"#7201a8\"],[0.3333333333333333,\"#9c179e\"],[0.4444444444444444,\"#bd3786\"],[0.5555555555555556,\"#d8576b\"],[0.6666666666666666,\"#ed7953\"],[0.7777777777777778,\"#fb9f3a\"],[0.8888888888888888,\"#fdca26\"],[1.0,\"#f0f921\"]],\"type\":\"heatmap\"}],\"histogram2dcontour\":[{\"colorbar\":{\"outlinewidth\":0,\"ticks\":\"\"},\"colorscale\":[[0.0,\"#0d0887\"],[0.1111111111111111,\"#46039f\"],[0.2222222222222222,\"#7201a8\"],[0.3333333333333333,\"#9c179e\"],[0.4444444444444444,\"#bd3786\"],[0.5555555555555556,\"#d8576b\"],[0.6666666666666666,\"#ed7953\"],[0.7777777777777778,\"#fb9f3a\"],[0.8888888888888888,\"#fdca26\"],[1.0,\"#f0f921\"]],\"type\":\"histogram2dcontour\"}],\"histogram2d\":[{\"colorbar\":{\"outlinewidth\":0,\"ticks\":\"\"},\"colorscale\":[[0.0,\"#0d0887\"],[0.1111111111111111,\"#46039f\"],[0.2222222222222222,\"#7201a8\"],[0.3333333333333333,\"#9c179e\"],[0.4444444444444444,\"#bd3786\"],[0.5555555555555556,\"#d8576b\"],[0.6666666666666666,\"#ed7953\"],[0.7777777777777778,\"#fb9f3a\"],[0.8888888888888888,\"#fdca26\"],[1.0,\"#f0f921\"]],\"type\":\"histogram2d\"}],\"histogram\":[{\"marker\":{\"pattern\":{\"fillmode\":\"overlay\",\"size\":10,\"solidity\":0.2}},\"type\":\"histogram\"}],\"mesh3d\":[{\"colorbar\":{\"outlinewidth\":0,\"ticks\":\"\"},\"type\":\"mesh3d\"}],\"parcoords\":[{\"line\":{\"colorbar\":{\"outlinewidth\":0,\"ticks\":\"\"}},\"type\":\"parcoords\"}],\"pie\":[{\"automargin\":true,\"type\":\"pie\"}],\"scatter3d\":[{\"line\":{\"colorbar\":{\"outlinewidth\":0,\"ticks\":\"\"}},\"marker\":{\"colorbar\":{\"outlinewidth\":0,\"ticks\":\"\"}},\"type\":\"scatter3d\"}],\"scattercarpet\":[{\"marker\":{\"colorbar\":{\"outlinewidth\":0,\"ticks\":\"\"}},\"type\":\"scattercarpet\"}],\"scattergeo\":[{\"marker\":{\"colorbar\":{\"outlinewidth\":0,\"ticks\":\"\"}},\"type\":\"scattergeo\"}],\"scattergl\":[{\"marker\":{\"line\":{\"color\":\"#283442\"}},\"type\":\"scattergl\"}],\"scattermapbox\":[{\"marker\":{\"colorbar\":{\"outlinewidth\":0,\"ticks\":\"\"}},\"type\":\"scattermapbox\"}],\"scatterpolargl\":[{\"marker\":{\"colorbar\":{\"outlinewidth\":0,\"ticks\":\"\"}},\"type\":\"scatterpolargl\"}],\"scatterpolar\":[{\"marker\":{\"colorbar\":{\"outlinewidth\":0,\"ticks\":\"\"}},\"type\":\"scatterpolar\"}],\"scatter\":[{\"marker\":{\"line\":{\"color\":\"#283442\"}},\"type\":\"scatter\"}],\"scatterternary\":[{\"marker\":{\"colorbar\":{\"outlinewidth\":0,\"ticks\":\"\"}},\"type\":\"scatterternary\"}],\"surface\":[{\"colorbar\":{\"outlinewidth\":0,\"ticks\":\"\"},\"colorscale\":[[0.0,\"#0d0887\"],[0.1111111111111111,\"#46039f\"],[0.2222222222222222,\"#7201a8\"],[0.3333333333333333,\"#9c179e\"],[0.4444444444444444,\"#bd3786\"],[0.5555555555555556,\"#d8576b\"],[0.6666666666666666,\"#ed7953\"],[0.7777777777777778,\"#fb9f3a\"],[0.8888888888888888,\"#fdca26\"],[1.0,\"#f0f921\"]],\"type\":\"surface\"}],\"table\":[{\"cells\":{\"fill\":{\"color\":\"#506784\"},\"line\":{\"color\":\"rgb(17,17,17)\"}},\"header\":{\"fill\":{\"color\":\"#2a3f5f\"},\"line\":{\"color\":\"rgb(17,17,17)\"}},\"type\":\"table\"}]},\"layout\":{\"annotationdefaults\":{\"arrowcolor\":\"#f2f5fa\",\"arrowhead\":0,\"arrowwidth\":1},\"autotypenumbers\":\"strict\",\"coloraxis\":{\"colorbar\":{\"outlinewidth\":0,\"ticks\":\"\"}},\"colorscale\":{\"diverging\":[[0,\"#8e0152\"],[0.1,\"#c51b7d\"],[0.2,\"#de77ae\"],[0.3,\"#f1b6da\"],[0.4,\"#fde0ef\"],[0.5,\"#f7f7f7\"],[0.6,\"#e6f5d0\"],[0.7,\"#b8e186\"],[0.8,\"#7fbc41\"],[0.9,\"#4d9221\"],[1,\"#276419\"]],\"sequential\":[[0.0,\"#0d0887\"],[0.1111111111111111,\"#46039f\"],[0.2222222222222222,\"#7201a8\"],[0.3333333333333333,\"#9c179e\"],[0.4444444444444444,\"#bd3786\"],[0.5555555555555556,\"#d8576b\"],[0.6666666666666666,\"#ed7953\"],[0.7777777777777778,\"#fb9f3a\"],[0.8888888888888888,\"#fdca26\"],[1.0,\"#f0f921\"]],\"sequentialminus\":[[0.0,\"#0d0887\"],[0.1111111111111111,\"#46039f\"],[0.2222222222222222,\"#7201a8\"],[0.3333333333333333,\"#9c179e\"],[0.4444444444444444,\"#bd3786\"],[0.5555555555555556,\"#d8576b\"],[0.6666666666666666,\"#ed7953\"],[0.7777777777777778,\"#fb9f3a\"],[0.8888888888888888,\"#fdca26\"],[1.0,\"#f0f921\"]]},\"colorway\":[\"#636efa\",\"#EF553B\",\"#00cc96\",\"#ab63fa\",\"#FFA15A\",\"#19d3f3\",\"#FF6692\",\"#B6E880\",\"#FF97FF\",\"#FECB52\"],\"font\":{\"color\":\"#f2f5fa\"},\"geo\":{\"bgcolor\":\"rgb(17,17,17)\",\"lakecolor\":\"rgb(17,17,17)\",\"landcolor\":\"rgb(17,17,17)\",\"showlakes\":true,\"showland\":true,\"subunitcolor\":\"#506784\"},\"hoverlabel\":{\"align\":\"left\"},\"hovermode\":\"closest\",\"mapbox\":{\"style\":\"dark\"},\"paper_bgcolor\":\"rgb(17,17,17)\",\"plot_bgcolor\":\"rgb(17,17,17)\",\"polar\":{\"angularaxis\":{\"gridcolor\":\"#506784\",\"linecolor\":\"#506784\",\"ticks\":\"\"},\"bgcolor\":\"rgb(17,17,17)\",\"radialaxis\":{\"gridcolor\":\"#506784\",\"linecolor\":\"#506784\",\"ticks\":\"\"}},\"scene\":{\"xaxis\":{\"backgroundcolor\":\"rgb(17,17,17)\",\"gridcolor\":\"#506784\",\"gridwidth\":2,\"linecolor\":\"#506784\",\"showbackground\":true,\"ticks\":\"\",\"zerolinecolor\":\"#C8D4E3\"},\"yaxis\":{\"backgroundcolor\":\"rgb(17,17,17)\",\"gridcolor\":\"#506784\",\"gridwidth\":2,\"linecolor\":\"#506784\",\"showbackground\":true,\"ticks\":\"\",\"zerolinecolor\":\"#C8D4E3\"},\"zaxis\":{\"backgroundcolor\":\"rgb(17,17,17)\",\"gridcolor\":\"#506784\",\"gridwidth\":2,\"linecolor\":\"#506784\",\"showbackground\":true,\"ticks\":\"\",\"zerolinecolor\":\"#C8D4E3\"}},\"shapedefaults\":{\"line\":{\"color\":\"#f2f5fa\"}},\"sliderdefaults\":{\"bgcolor\":\"#C8D4E3\",\"bordercolor\":\"rgb(17,17,17)\",\"borderwidth\":1,\"tickwidth\":0},\"ternary\":{\"aaxis\":{\"gridcolor\":\"#506784\",\"linecolor\":\"#506784\",\"ticks\":\"\"},\"baxis\":{\"gridcolor\":\"#506784\",\"linecolor\":\"#506784\",\"ticks\":\"\"},\"bgcolor\":\"rgb(17,17,17)\",\"caxis\":{\"gridcolor\":\"#506784\",\"linecolor\":\"#506784\",\"ticks\":\"\"}},\"title\":{\"x\":0.05},\"updatemenudefaults\":{\"bgcolor\":\"#506784\",\"borderwidth\":0},\"xaxis\":{\"automargin\":true,\"gridcolor\":\"#283442\",\"linecolor\":\"#506784\",\"ticks\":\"\",\"title\":{\"standoff\":15},\"zerolinecolor\":\"#283442\",\"zerolinewidth\":2},\"yaxis\":{\"automargin\":true,\"gridcolor\":\"#283442\",\"linecolor\":\"#506784\",\"ticks\":\"\",\"title\":{\"standoff\":15},\"zerolinecolor\":\"#283442\",\"zerolinewidth\":2}}},\"xaxis\":{\"anchor\":\"y\",\"domain\":[0.0,1.0],\"title\":{\"text\":\"Start of Quater\"}},\"yaxis\":{\"anchor\":\"x\",\"domain\":[0.0,1.0],\"title\":{\"text\":\"CustomerKey\"}},\"legend\":{\"tracegroupgap\":0},\"title\":{\"text\":\"New Customers Over Time\"}},                        {\"responsive\": true}                    ).then(function(){\n",
       "                            \n",
       "var gd = document.getElementById('8031bc6d-3be4-476c-9bb9-92390adbd4fe');\n",
       "var x = new MutationObserver(function (mutations, observer) {{\n",
       "        var display = window.getComputedStyle(gd).display;\n",
       "        if (!display || display === 'none') {{\n",
       "            console.log([gd, 'removed!']);\n",
       "            Plotly.purge(gd);\n",
       "            observer.disconnect();\n",
       "        }}\n",
       "}});\n",
       "\n",
       "// Listen for the removal of the full notebook cells\n",
       "var notebookContainer = gd.closest('#notebook-container');\n",
       "if (notebookContainer) {{\n",
       "    x.observe(notebookContainer, {childList: true});\n",
       "}}\n",
       "\n",
       "// Listen for the clearing of the current output cell\n",
       "var outputEl = gd.closest('.output');\n",
       "if (outputEl) {{\n",
       "    x.observe(outputEl, {childList: true});\n",
       "}}\n",
       "\n",
       "                        })                };                });            </script>        </div>"
      ]
     },
     "metadata": {},
     "output_type": "display_data"
    }
   ],
   "source": [
    "fig = px.line(data_frame = reset_all_data_customer, x = reset_all_data_customer[\"Start of Quater\"], y = reset_all_data_customer[\"CustomerKey\"],\n",
    "             title = \"New Customers Over Time\", template = \"plotly_dark\", markers = True)\n",
    "fig.update_traces(line = dict(width = 3, color = \"yellow\"))\n",
    "fig.update_traces(marker = dict(size = 8, color = \"lightblue\"))"
   ]
  },
  {
   "cell_type": "code",
   "execution_count": 202,
   "id": "ad6a9f17-0b01-4895-a9d4-49dfabeef37d",
   "metadata": {},
   "outputs": [
    {
     "data": {
      "application/vnd.plotly.v1+json": {
       "config": {
        "plotlyServerURL": "https://plot.ly"
       },
       "data": [
        {
         "hovertemplate": "Start Of Quater=%{x}<br>ReturnQuantity=%{y}<extra></extra>",
         "legendgroup": "",
         "line": {
          "color": "red",
          "dash": "solid",
          "width": 3
         },
         "marker": {
          "color": "lightblue",
          "size": 8,
          "symbol": "circle"
         },
         "mode": "lines+markers",
         "name": "",
         "orientation": "v",
         "showlegend": false,
         "type": "scatter",
         "x": [
          "Jan-2020",
          "Apr-2020",
          "Jul-2020",
          "Oct-2020",
          "Jan-2021",
          "Apr-2021",
          "Jul-2021",
          "Oct-2021",
          "Jan-2022",
          "Apr-2022"
         ],
         "xaxis": "x",
         "y": [
          17,
          29,
          11,
          29,
          24,
          23,
          287,
          436,
          472,
          500
         ],
         "yaxis": "y"
        }
       ],
       "layout": {
        "autosize": true,
        "legend": {
         "tracegroupgap": 0
        },
        "template": {
         "data": {
          "bar": [
           {
            "error_x": {
             "color": "#f2f5fa"
            },
            "error_y": {
             "color": "#f2f5fa"
            },
            "marker": {
             "line": {
              "color": "rgb(17,17,17)",
              "width": 0.5
             },
             "pattern": {
              "fillmode": "overlay",
              "size": 10,
              "solidity": 0.2
             }
            },
            "type": "bar"
           }
          ],
          "barpolar": [
           {
            "marker": {
             "line": {
              "color": "rgb(17,17,17)",
              "width": 0.5
             },
             "pattern": {
              "fillmode": "overlay",
              "size": 10,
              "solidity": 0.2
             }
            },
            "type": "barpolar"
           }
          ],
          "carpet": [
           {
            "aaxis": {
             "endlinecolor": "#A2B1C6",
             "gridcolor": "#506784",
             "linecolor": "#506784",
             "minorgridcolor": "#506784",
             "startlinecolor": "#A2B1C6"
            },
            "baxis": {
             "endlinecolor": "#A2B1C6",
             "gridcolor": "#506784",
             "linecolor": "#506784",
             "minorgridcolor": "#506784",
             "startlinecolor": "#A2B1C6"
            },
            "type": "carpet"
           }
          ],
          "choropleth": [
           {
            "colorbar": {
             "outlinewidth": 0,
             "ticks": ""
            },
            "type": "choropleth"
           }
          ],
          "contour": [
           {
            "colorbar": {
             "outlinewidth": 0,
             "ticks": ""
            },
            "colorscale": [
             [
              0,
              "#0d0887"
             ],
             [
              0.1111111111111111,
              "#46039f"
             ],
             [
              0.2222222222222222,
              "#7201a8"
             ],
             [
              0.3333333333333333,
              "#9c179e"
             ],
             [
              0.4444444444444444,
              "#bd3786"
             ],
             [
              0.5555555555555556,
              "#d8576b"
             ],
             [
              0.6666666666666666,
              "#ed7953"
             ],
             [
              0.7777777777777778,
              "#fb9f3a"
             ],
             [
              0.8888888888888888,
              "#fdca26"
             ],
             [
              1,
              "#f0f921"
             ]
            ],
            "type": "contour"
           }
          ],
          "contourcarpet": [
           {
            "colorbar": {
             "outlinewidth": 0,
             "ticks": ""
            },
            "type": "contourcarpet"
           }
          ],
          "heatmap": [
           {
            "colorbar": {
             "outlinewidth": 0,
             "ticks": ""
            },
            "colorscale": [
             [
              0,
              "#0d0887"
             ],
             [
              0.1111111111111111,
              "#46039f"
             ],
             [
              0.2222222222222222,
              "#7201a8"
             ],
             [
              0.3333333333333333,
              "#9c179e"
             ],
             [
              0.4444444444444444,
              "#bd3786"
             ],
             [
              0.5555555555555556,
              "#d8576b"
             ],
             [
              0.6666666666666666,
              "#ed7953"
             ],
             [
              0.7777777777777778,
              "#fb9f3a"
             ],
             [
              0.8888888888888888,
              "#fdca26"
             ],
             [
              1,
              "#f0f921"
             ]
            ],
            "type": "heatmap"
           }
          ],
          "heatmapgl": [
           {
            "colorbar": {
             "outlinewidth": 0,
             "ticks": ""
            },
            "colorscale": [
             [
              0,
              "#0d0887"
             ],
             [
              0.1111111111111111,
              "#46039f"
             ],
             [
              0.2222222222222222,
              "#7201a8"
             ],
             [
              0.3333333333333333,
              "#9c179e"
             ],
             [
              0.4444444444444444,
              "#bd3786"
             ],
             [
              0.5555555555555556,
              "#d8576b"
             ],
             [
              0.6666666666666666,
              "#ed7953"
             ],
             [
              0.7777777777777778,
              "#fb9f3a"
             ],
             [
              0.8888888888888888,
              "#fdca26"
             ],
             [
              1,
              "#f0f921"
             ]
            ],
            "type": "heatmapgl"
           }
          ],
          "histogram": [
           {
            "marker": {
             "pattern": {
              "fillmode": "overlay",
              "size": 10,
              "solidity": 0.2
             }
            },
            "type": "histogram"
           }
          ],
          "histogram2d": [
           {
            "colorbar": {
             "outlinewidth": 0,
             "ticks": ""
            },
            "colorscale": [
             [
              0,
              "#0d0887"
             ],
             [
              0.1111111111111111,
              "#46039f"
             ],
             [
              0.2222222222222222,
              "#7201a8"
             ],
             [
              0.3333333333333333,
              "#9c179e"
             ],
             [
              0.4444444444444444,
              "#bd3786"
             ],
             [
              0.5555555555555556,
              "#d8576b"
             ],
             [
              0.6666666666666666,
              "#ed7953"
             ],
             [
              0.7777777777777778,
              "#fb9f3a"
             ],
             [
              0.8888888888888888,
              "#fdca26"
             ],
             [
              1,
              "#f0f921"
             ]
            ],
            "type": "histogram2d"
           }
          ],
          "histogram2dcontour": [
           {
            "colorbar": {
             "outlinewidth": 0,
             "ticks": ""
            },
            "colorscale": [
             [
              0,
              "#0d0887"
             ],
             [
              0.1111111111111111,
              "#46039f"
             ],
             [
              0.2222222222222222,
              "#7201a8"
             ],
             [
              0.3333333333333333,
              "#9c179e"
             ],
             [
              0.4444444444444444,
              "#bd3786"
             ],
             [
              0.5555555555555556,
              "#d8576b"
             ],
             [
              0.6666666666666666,
              "#ed7953"
             ],
             [
              0.7777777777777778,
              "#fb9f3a"
             ],
             [
              0.8888888888888888,
              "#fdca26"
             ],
             [
              1,
              "#f0f921"
             ]
            ],
            "type": "histogram2dcontour"
           }
          ],
          "mesh3d": [
           {
            "colorbar": {
             "outlinewidth": 0,
             "ticks": ""
            },
            "type": "mesh3d"
           }
          ],
          "parcoords": [
           {
            "line": {
             "colorbar": {
              "outlinewidth": 0,
              "ticks": ""
             }
            },
            "type": "parcoords"
           }
          ],
          "pie": [
           {
            "automargin": true,
            "type": "pie"
           }
          ],
          "scatter": [
           {
            "marker": {
             "line": {
              "color": "#283442"
             }
            },
            "type": "scatter"
           }
          ],
          "scatter3d": [
           {
            "line": {
             "colorbar": {
              "outlinewidth": 0,
              "ticks": ""
             }
            },
            "marker": {
             "colorbar": {
              "outlinewidth": 0,
              "ticks": ""
             }
            },
            "type": "scatter3d"
           }
          ],
          "scattercarpet": [
           {
            "marker": {
             "colorbar": {
              "outlinewidth": 0,
              "ticks": ""
             }
            },
            "type": "scattercarpet"
           }
          ],
          "scattergeo": [
           {
            "marker": {
             "colorbar": {
              "outlinewidth": 0,
              "ticks": ""
             }
            },
            "type": "scattergeo"
           }
          ],
          "scattergl": [
           {
            "marker": {
             "line": {
              "color": "#283442"
             }
            },
            "type": "scattergl"
           }
          ],
          "scattermapbox": [
           {
            "marker": {
             "colorbar": {
              "outlinewidth": 0,
              "ticks": ""
             }
            },
            "type": "scattermapbox"
           }
          ],
          "scatterpolar": [
           {
            "marker": {
             "colorbar": {
              "outlinewidth": 0,
              "ticks": ""
             }
            },
            "type": "scatterpolar"
           }
          ],
          "scatterpolargl": [
           {
            "marker": {
             "colorbar": {
              "outlinewidth": 0,
              "ticks": ""
             }
            },
            "type": "scatterpolargl"
           }
          ],
          "scatterternary": [
           {
            "marker": {
             "colorbar": {
              "outlinewidth": 0,
              "ticks": ""
             }
            },
            "type": "scatterternary"
           }
          ],
          "surface": [
           {
            "colorbar": {
             "outlinewidth": 0,
             "ticks": ""
            },
            "colorscale": [
             [
              0,
              "#0d0887"
             ],
             [
              0.1111111111111111,
              "#46039f"
             ],
             [
              0.2222222222222222,
              "#7201a8"
             ],
             [
              0.3333333333333333,
              "#9c179e"
             ],
             [
              0.4444444444444444,
              "#bd3786"
             ],
             [
              0.5555555555555556,
              "#d8576b"
             ],
             [
              0.6666666666666666,
              "#ed7953"
             ],
             [
              0.7777777777777778,
              "#fb9f3a"
             ],
             [
              0.8888888888888888,
              "#fdca26"
             ],
             [
              1,
              "#f0f921"
             ]
            ],
            "type": "surface"
           }
          ],
          "table": [
           {
            "cells": {
             "fill": {
              "color": "#506784"
             },
             "line": {
              "color": "rgb(17,17,17)"
             }
            },
            "header": {
             "fill": {
              "color": "#2a3f5f"
             },
             "line": {
              "color": "rgb(17,17,17)"
             }
            },
            "type": "table"
           }
          ]
         },
         "layout": {
          "annotationdefaults": {
           "arrowcolor": "#f2f5fa",
           "arrowhead": 0,
           "arrowwidth": 1
          },
          "autotypenumbers": "strict",
          "coloraxis": {
           "colorbar": {
            "outlinewidth": 0,
            "ticks": ""
           }
          },
          "colorscale": {
           "diverging": [
            [
             0,
             "#8e0152"
            ],
            [
             0.1,
             "#c51b7d"
            ],
            [
             0.2,
             "#de77ae"
            ],
            [
             0.3,
             "#f1b6da"
            ],
            [
             0.4,
             "#fde0ef"
            ],
            [
             0.5,
             "#f7f7f7"
            ],
            [
             0.6,
             "#e6f5d0"
            ],
            [
             0.7,
             "#b8e186"
            ],
            [
             0.8,
             "#7fbc41"
            ],
            [
             0.9,
             "#4d9221"
            ],
            [
             1,
             "#276419"
            ]
           ],
           "sequential": [
            [
             0,
             "#0d0887"
            ],
            [
             0.1111111111111111,
             "#46039f"
            ],
            [
             0.2222222222222222,
             "#7201a8"
            ],
            [
             0.3333333333333333,
             "#9c179e"
            ],
            [
             0.4444444444444444,
             "#bd3786"
            ],
            [
             0.5555555555555556,
             "#d8576b"
            ],
            [
             0.6666666666666666,
             "#ed7953"
            ],
            [
             0.7777777777777778,
             "#fb9f3a"
            ],
            [
             0.8888888888888888,
             "#fdca26"
            ],
            [
             1,
             "#f0f921"
            ]
           ],
           "sequentialminus": [
            [
             0,
             "#0d0887"
            ],
            [
             0.1111111111111111,
             "#46039f"
            ],
            [
             0.2222222222222222,
             "#7201a8"
            ],
            [
             0.3333333333333333,
             "#9c179e"
            ],
            [
             0.4444444444444444,
             "#bd3786"
            ],
            [
             0.5555555555555556,
             "#d8576b"
            ],
            [
             0.6666666666666666,
             "#ed7953"
            ],
            [
             0.7777777777777778,
             "#fb9f3a"
            ],
            [
             0.8888888888888888,
             "#fdca26"
            ],
            [
             1,
             "#f0f921"
            ]
           ]
          },
          "colorway": [
           "#636efa",
           "#EF553B",
           "#00cc96",
           "#ab63fa",
           "#FFA15A",
           "#19d3f3",
           "#FF6692",
           "#B6E880",
           "#FF97FF",
           "#FECB52"
          ],
          "font": {
           "color": "#f2f5fa"
          },
          "geo": {
           "bgcolor": "rgb(17,17,17)",
           "lakecolor": "rgb(17,17,17)",
           "landcolor": "rgb(17,17,17)",
           "showlakes": true,
           "showland": true,
           "subunitcolor": "#506784"
          },
          "hoverlabel": {
           "align": "left"
          },
          "hovermode": "closest",
          "mapbox": {
           "style": "dark"
          },
          "paper_bgcolor": "rgb(17,17,17)",
          "plot_bgcolor": "rgb(17,17,17)",
          "polar": {
           "angularaxis": {
            "gridcolor": "#506784",
            "linecolor": "#506784",
            "ticks": ""
           },
           "bgcolor": "rgb(17,17,17)",
           "radialaxis": {
            "gridcolor": "#506784",
            "linecolor": "#506784",
            "ticks": ""
           }
          },
          "scene": {
           "xaxis": {
            "backgroundcolor": "rgb(17,17,17)",
            "gridcolor": "#506784",
            "gridwidth": 2,
            "linecolor": "#506784",
            "showbackground": true,
            "ticks": "",
            "zerolinecolor": "#C8D4E3"
           },
           "yaxis": {
            "backgroundcolor": "rgb(17,17,17)",
            "gridcolor": "#506784",
            "gridwidth": 2,
            "linecolor": "#506784",
            "showbackground": true,
            "ticks": "",
            "zerolinecolor": "#C8D4E3"
           },
           "zaxis": {
            "backgroundcolor": "rgb(17,17,17)",
            "gridcolor": "#506784",
            "gridwidth": 2,
            "linecolor": "#506784",
            "showbackground": true,
            "ticks": "",
            "zerolinecolor": "#C8D4E3"
           }
          },
          "shapedefaults": {
           "line": {
            "color": "#f2f5fa"
           }
          },
          "sliderdefaults": {
           "bgcolor": "#C8D4E3",
           "bordercolor": "rgb(17,17,17)",
           "borderwidth": 1,
           "tickwidth": 0
          },
          "ternary": {
           "aaxis": {
            "gridcolor": "#506784",
            "linecolor": "#506784",
            "ticks": ""
           },
           "baxis": {
            "gridcolor": "#506784",
            "linecolor": "#506784",
            "ticks": ""
           },
           "bgcolor": "rgb(17,17,17)",
           "caxis": {
            "gridcolor": "#506784",
            "linecolor": "#506784",
            "ticks": ""
           }
          },
          "title": {
           "x": 0.05
          },
          "updatemenudefaults": {
           "bgcolor": "#506784",
           "borderwidth": 0
          },
          "xaxis": {
           "automargin": true,
           "gridcolor": "#283442",
           "linecolor": "#506784",
           "ticks": "",
           "title": {
            "standoff": 15
           },
           "zerolinecolor": "#283442",
           "zerolinewidth": 2
          },
          "yaxis": {
           "automargin": true,
           "gridcolor": "#283442",
           "linecolor": "#506784",
           "ticks": "",
           "title": {
            "standoff": 15
           },
           "zerolinecolor": "#283442",
           "zerolinewidth": 2
          }
         }
        },
        "title": {
         "text": "Quantity Returned Over Time"
        },
        "xaxis": {
         "anchor": "y",
         "autorange": true,
         "domain": [
          0,
          1
         ],
         "range": [
          -0.5598086124401914,
          9.559808612440191
         ],
         "title": {
          "text": "Start Of Quater"
         },
         "type": "category"
        },
        "yaxis": {
         "anchor": "x",
         "autorange": true,
         "domain": [
          0,
          1
         ],
         "range": [
          -34.03947368421053,
          545.0394736842105
         ],
         "title": {
          "text": "ReturnQuantity"
         },
         "type": "linear"
        }
       }
      },
      "image/png": "[encoded data removed]",
      "text/html": [
       "<div>                            <div id=\"89bac11a-3d78-4ee8-8db7-6f88b1eb42e4\" class=\"plotly-graph-div\" style=\"height:525px; width:100%;\"></div>            <script type=\"text/javascript\">                require([\"plotly\"], function(Plotly) {                    window.PLOTLYENV=window.PLOTLYENV || {};                                    if (document.getElementById(\"89bac11a-3d78-4ee8-8db7-6f88b1eb42e4\")) {                    Plotly.newPlot(                        \"89bac11a-3d78-4ee8-8db7-6f88b1eb42e4\",                        [{\"hovertemplate\":\"Start Of Quater=%{x}\\u003cbr\\u003eReturnQuantity=%{y}\\u003cextra\\u003e\\u003c\\u002fextra\\u003e\",\"legendgroup\":\"\",\"line\":{\"color\":\"red\",\"dash\":\"solid\",\"width\":3},\"marker\":{\"symbol\":\"circle\",\"color\":\"lightblue\",\"size\":8},\"mode\":\"lines+markers\",\"name\":\"\",\"orientation\":\"v\",\"showlegend\":false,\"x\":[\"Jan-2020\",\"Apr-2020\",\"Jul-2020\",\"Oct-2020\",\"Jan-2021\",\"Apr-2021\",\"Jul-2021\",\"Oct-2021\",\"Jan-2022\",\"Apr-2022\"],\"xaxis\":\"x\",\"y\":[17,29,11,29,24,23,287,436,472,500],\"yaxis\":\"y\",\"type\":\"scatter\"}],                        {\"template\":{\"data\":{\"barpolar\":[{\"marker\":{\"line\":{\"color\":\"rgb(17,17,17)\",\"width\":0.5},\"pattern\":{\"fillmode\":\"overlay\",\"size\":10,\"solidity\":0.2}},\"type\":\"barpolar\"}],\"bar\":[{\"error_x\":{\"color\":\"#f2f5fa\"},\"error_y\":{\"color\":\"#f2f5fa\"},\"marker\":{\"line\":{\"color\":\"rgb(17,17,17)\",\"width\":0.5},\"pattern\":{\"fillmode\":\"overlay\",\"size\":10,\"solidity\":0.2}},\"type\":\"bar\"}],\"carpet\":[{\"aaxis\":{\"endlinecolor\":\"#A2B1C6\",\"gridcolor\":\"#506784\",\"linecolor\":\"#506784\",\"minorgridcolor\":\"#506784\",\"startlinecolor\":\"#A2B1C6\"},\"baxis\":{\"endlinecolor\":\"#A2B1C6\",\"gridcolor\":\"#506784\",\"linecolor\":\"#506784\",\"minorgridcolor\":\"#506784\",\"startlinecolor\":\"#A2B1C6\"},\"type\":\"carpet\"}],\"choropleth\":[{\"colorbar\":{\"outlinewidth\":0,\"ticks\":\"\"},\"type\":\"choropleth\"}],\"contourcarpet\":[{\"colorbar\":{\"outlinewidth\":0,\"ticks\":\"\"},\"type\":\"contourcarpet\"}],\"contour\":[{\"colorbar\":{\"outlinewidth\":0,\"ticks\":\"\"},\"colorscale\":[[0.0,\"#0d0887\"],[0.1111111111111111,\"#46039f\"],[0.2222222222222222,\"#7201a8\"],[0.3333333333333333,\"#9c179e\"],[0.4444444444444444,\"#bd3786\"],[0.5555555555555556,\"#d8576b\"],[0.6666666666666666,\"#ed7953\"],[0.7777777777777778,\"#fb9f3a\"],[0.8888888888888888,\"#fdca26\"],[1.0,\"#f0f921\"]],\"type\":\"contour\"}],\"heatmapgl\":[{\"colorbar\":{\"outlinewidth\":0,\"ticks\":\"\"},\"colorscale\":[[0.0,\"#0d0887\"],[0.1111111111111111,\"#46039f\"],[0.2222222222222222,\"#7201a8\"],[0.3333333333333333,\"#9c179e\"],[0.4444444444444444,\"#bd3786\"],[0.5555555555555556,\"#d8576b\"],[0.6666666666666666,\"#ed7953\"],[0.7777777777777778,\"#fb9f3a\"],[0.8888888888888888,\"#fdca26\"],[1.0,\"#f0f921\"]],\"type\":\"heatmapgl\"}],\"heatmap\":[{\"colorbar\":{\"outlinewidth\":0,\"ticks\":\"\"},\"colorscale\":[[0.0,\"#0d0887\"],[0.1111111111111111,\"#46039f\"],[0.2222222222222222,\"#7201a8\"],[0.3333333333333333,\"#9c179e\"],[0.4444444444444444,\"#bd3786\"],[0.5555555555555556,\"#d8576b\"],[0.6666666666666666,\"#ed7953\"],[0.7777777777777778,\"#fb9f3a\"],[0.8888888888888888,\"#fdca26\"],[1.0,\"#f0f921\"]],\"type\":\"heatmap\"}],\"histogram2dcontour\":[{\"colorbar\":{\"outlinewidth\":0,\"ticks\":\"\"},\"colorscale\":[[0.0,\"#0d0887\"],[0.1111111111111111,\"#46039f\"],[0.2222222222222222,\"#7201a8\"],[0.3333333333333333,\"#9c179e\"],[0.4444444444444444,\"#bd3786\"],[0.5555555555555556,\"#d8576b\"],[0.6666666666666666,\"#ed7953\"],[0.7777777777777778,\"#fb9f3a\"],[0.8888888888888888,\"#fdca26\"],[1.0,\"#f0f921\"]],\"type\":\"histogram2dcontour\"}],\"histogram2d\":[{\"colorbar\":{\"outlinewidth\":0,\"ticks\":\"\"},\"colorscale\":[[0.0,\"#0d0887\"],[0.1111111111111111,\"#46039f\"],[0.2222222222222222,\"#7201a8\"],[0.3333333333333333,\"#9c179e\"],[0.4444444444444444,\"#bd3786\"],[0.5555555555555556,\"#d8576b\"],[0.6666666666666666,\"#ed7953\"],[0.7777777777777778,\"#fb9f3a\"],[0.8888888888888888,\"#fdca26\"],[1.0,\"#f0f921\"]],\"type\":\"histogram2d\"}],\"histogram\":[{\"marker\":{\"pattern\":{\"fillmode\":\"overlay\",\"size\":10,\"solidity\":0.2}},\"type\":\"histogram\"}],\"mesh3d\":[{\"colorbar\":{\"outlinewidth\":0,\"ticks\":\"\"},\"type\":\"mesh3d\"}],\"parcoords\":[{\"line\":{\"colorbar\":{\"outlinewidth\":0,\"ticks\":\"\"}},\"type\":\"parcoords\"}],\"pie\":[{\"automargin\":true,\"type\":\"pie\"}],\"scatter3d\":[{\"line\":{\"colorbar\":{\"outlinewidth\":0,\"ticks\":\"\"}},\"marker\":{\"colorbar\":{\"outlinewidth\":0,\"ticks\":\"\"}},\"type\":\"scatter3d\"}],\"scattercarpet\":[{\"marker\":{\"colorbar\":{\"outlinewidth\":0,\"ticks\":\"\"}},\"type\":\"scattercarpet\"}],\"scattergeo\":[{\"marker\":{\"colorbar\":{\"outlinewidth\":0,\"ticks\":\"\"}},\"type\":\"scattergeo\"}],\"scattergl\":[{\"marker\":{\"line\":{\"color\":\"#283442\"}},\"type\":\"scattergl\"}],\"scattermapbox\":[{\"marker\":{\"colorbar\":{\"outlinewidth\":0,\"ticks\":\"\"}},\"type\":\"scattermapbox\"}],\"scatterpolargl\":[{\"marker\":{\"colorbar\":{\"outlinewidth\":0,\"ticks\":\"\"}},\"type\":\"scatterpolargl\"}],\"scatterpolar\":[{\"marker\":{\"colorbar\":{\"outlinewidth\":0,\"ticks\":\"\"}},\"type\":\"scatterpolar\"}],\"scatter\":[{\"marker\":{\"line\":{\"color\":\"#283442\"}},\"type\":\"scatter\"}],\"scatterternary\":[{\"marker\":{\"colorbar\":{\"outlinewidth\":0,\"ticks\":\"\"}},\"type\":\"scatterternary\"}],\"surface\":[{\"colorbar\":{\"outlinewidth\":0,\"ticks\":\"\"},\"colorscale\":[[0.0,\"#0d0887\"],[0.1111111111111111,\"#46039f\"],[0.2222222222222222,\"#7201a8\"],[0.3333333333333333,\"#9c179e\"],[0.4444444444444444,\"#bd3786\"],[0.5555555555555556,\"#d8576b\"],[0.6666666666666666,\"#ed7953\"],[0.7777777777777778,\"#fb9f3a\"],[0.8888888888888888,\"#fdca26\"],[1.0,\"#f0f921\"]],\"type\":\"surface\"}],\"table\":[{\"cells\":{\"fill\":{\"color\":\"#506784\"},\"line\":{\"color\":\"rgb(17,17,17)\"}},\"header\":{\"fill\":{\"color\":\"#2a3f5f\"},\"line\":{\"color\":\"rgb(17,17,17)\"}},\"type\":\"table\"}]},\"layout\":{\"annotationdefaults\":{\"arrowcolor\":\"#f2f5fa\",\"arrowhead\":0,\"arrowwidth\":1},\"autotypenumbers\":\"strict\",\"coloraxis\":{\"colorbar\":{\"outlinewidth\":0,\"ticks\":\"\"}},\"colorscale\":{\"diverging\":[[0,\"#8e0152\"],[0.1,\"#c51b7d\"],[0.2,\"#de77ae\"],[0.3,\"#f1b6da\"],[0.4,\"#fde0ef\"],[0.5,\"#f7f7f7\"],[0.6,\"#e6f5d0\"],[0.7,\"#b8e186\"],[0.8,\"#7fbc41\"],[0.9,\"#4d9221\"],[1,\"#276419\"]],\"sequential\":[[0.0,\"#0d0887\"],[0.1111111111111111,\"#46039f\"],[0.2222222222222222,\"#7201a8\"],[0.3333333333333333,\"#9c179e\"],[0.4444444444444444,\"#bd3786\"],[0.5555555555555556,\"#d8576b\"],[0.6666666666666666,\"#ed7953\"],[0.7777777777777778,\"#fb9f3a\"],[0.8888888888888888,\"#fdca26\"],[1.0,\"#f0f921\"]],\"sequentialminus\":[[0.0,\"#0d0887\"],[0.1111111111111111,\"#46039f\"],[0.2222222222222222,\"#7201a8\"],[0.3333333333333333,\"#9c179e\"],[0.4444444444444444,\"#bd3786\"],[0.5555555555555556,\"#d8576b\"],[0.6666666666666666,\"#ed7953\"],[0.7777777777777778,\"#fb9f3a\"],[0.8888888888888888,\"#fdca26\"],[1.0,\"#f0f921\"]]},\"colorway\":[\"#636efa\",\"#EF553B\",\"#00cc96\",\"#ab63fa\",\"#FFA15A\",\"#19d3f3\",\"#FF6692\",\"#B6E880\",\"#FF97FF\",\"#FECB52\"],\"font\":{\"color\":\"#f2f5fa\"},\"geo\":{\"bgcolor\":\"rgb(17,17,17)\",\"lakecolor\":\"rgb(17,17,17)\",\"landcolor\":\"rgb(17,17,17)\",\"showlakes\":true,\"showland\":true,\"subunitcolor\":\"#506784\"},\"hoverlabel\":{\"align\":\"left\"},\"hovermode\":\"closest\",\"mapbox\":{\"style\":\"dark\"},\"paper_bgcolor\":\"rgb(17,17,17)\",\"plot_bgcolor\":\"rgb(17,17,17)\",\"polar\":{\"angularaxis\":{\"gridcolor\":\"#506784\",\"linecolor\":\"#506784\",\"ticks\":\"\"},\"bgcolor\":\"rgb(17,17,17)\",\"radialaxis\":{\"gridcolor\":\"#506784\",\"linecolor\":\"#506784\",\"ticks\":\"\"}},\"scene\":{\"xaxis\":{\"backgroundcolor\":\"rgb(17,17,17)\",\"gridcolor\":\"#506784\",\"gridwidth\":2,\"linecolor\":\"#506784\",\"showbackground\":true,\"ticks\":\"\",\"zerolinecolor\":\"#C8D4E3\"},\"yaxis\":{\"backgroundcolor\":\"rgb(17,17,17)\",\"gridcolor\":\"#506784\",\"gridwidth\":2,\"linecolor\":\"#506784\",\"showbackground\":true,\"ticks\":\"\",\"zerolinecolor\":\"#C8D4E3\"},\"zaxis\":{\"backgroundcolor\":\"rgb(17,17,17)\",\"gridcolor\":\"#506784\",\"gridwidth\":2,\"linecolor\":\"#506784\",\"showbackground\":true,\"ticks\":\"\",\"zerolinecolor\":\"#C8D4E3\"}},\"shapedefaults\":{\"line\":{\"color\":\"#f2f5fa\"}},\"sliderdefaults\":{\"bgcolor\":\"#C8D4E3\",\"bordercolor\":\"rgb(17,17,17)\",\"borderwidth\":1,\"tickwidth\":0},\"ternary\":{\"aaxis\":{\"gridcolor\":\"#506784\",\"linecolor\":\"#506784\",\"ticks\":\"\"},\"baxis\":{\"gridcolor\":\"#506784\",\"linecolor\":\"#506784\",\"ticks\":\"\"},\"bgcolor\":\"rgb(17,17,17)\",\"caxis\":{\"gridcolor\":\"#506784\",\"linecolor\":\"#506784\",\"ticks\":\"\"}},\"title\":{\"x\":0.05},\"updatemenudefaults\":{\"bgcolor\":\"#506784\",\"borderwidth\":0},\"xaxis\":{\"automargin\":true,\"gridcolor\":\"#283442\",\"linecolor\":\"#506784\",\"ticks\":\"\",\"title\":{\"standoff\":15},\"zerolinecolor\":\"#283442\",\"zerolinewidth\":2},\"yaxis\":{\"automargin\":true,\"gridcolor\":\"#283442\",\"linecolor\":\"#506784\",\"ticks\":\"\",\"title\":{\"standoff\":15},\"zerolinecolor\":\"#283442\",\"zerolinewidth\":2}}},\"xaxis\":{\"anchor\":\"y\",\"domain\":[0.0,1.0],\"title\":{\"text\":\"Start Of Quater\"}},\"yaxis\":{\"anchor\":\"x\",\"domain\":[0.0,1.0],\"title\":{\"text\":\"ReturnQuantity\"}},\"legend\":{\"tracegroupgap\":0},\"title\":{\"text\":\"Quantity Returned Over Time\"}},                        {\"responsive\": true}                    ).then(function(){\n",
       "                            \n",
       "var gd = document.getElementById('89bac11a-3d78-4ee8-8db7-6f88b1eb42e4');\n",
       "var x = new MutationObserver(function (mutations, observer) {{\n",
       "        var display = window.getComputedStyle(gd).display;\n",
       "        if (!display || display === 'none') {{\n",
       "            console.log([gd, 'removed!']);\n",
       "            Plotly.purge(gd);\n",
       "            observer.disconnect();\n",
       "        }}\n",
       "}});\n",
       "\n",
       "// Listen for the removal of the full notebook cells\n",
       "var notebookContainer = gd.closest('#notebook-container');\n",
       "if (notebookContainer) {{\n",
       "    x.observe(notebookContainer, {childList: true});\n",
       "}}\n",
       "\n",
       "// Listen for the clearing of the current output cell\n",
       "var outputEl = gd.closest('.output');\n",
       "if (outputEl) {{\n",
       "    x.observe(outputEl, {childList: true});\n",
       "}}\n",
       "\n",
       "                        })                };                });            </script>        </div>"
      ]
     },
     "metadata": {},
     "output_type": "display_data"
    }
   ],
   "source": [
    "fig = px.line(data_frame = reset_returns_quantity, x = reset_returns_quantity[\"Start Of Quater\"], y = reset_returns_quantity[\"ReturnQuantity\"],\n",
    "             title = \"Quantity Returned Over Time\", template = \"plotly_dark\", markers = True)\n",
    "fig.update_traces(line = dict(width = 3, color = \"red\"))\n",
    "fig.update_traces(marker = dict(size = 8, color = \"lightblue\"))"
   ]
  },
  {
   "cell_type": "code",
   "execution_count": 103,
   "id": "e393f679-38a1-46af-9d93-cc6037641006",
   "metadata": {},
   "outputs": [
    {
     "data": {
      "application/vnd.plotly.v1+json": {
       "config": {
        "plotlyServerURL": "https://plot.ly"
       },
       "data": [
        {
         "branchvalues": "total",
         "customdata": [
          [
           2902561.58,
           "Europe",
           "United Kingdom"
          ],
          [
           7416455.01,
           "Pacific",
           "Australia"
          ],
          [
           1769245.47,
           "North America",
           "Canada"
          ],
          [
           2524679.6,
           "Europe",
           "Germany"
          ],
          [
           7938999.23,
           "North America",
           "United States"
          ],
          [
           2362642.77,
           "Europe",
           "France"
          ],
          [
           7789883.95,
           "Europe",
           "(?)"
          ],
          [
           9708244.7,
           "North America",
           "(?)"
          ],
          [
           7416455.01,
           "Pacific",
           "Australia"
          ]
         ],
         "domain": {
          "x": [
           0,
           1
          ],
          "y": [
           0,
           1
          ]
         },
         "hovertemplate": "<b>Continent:</b> %{customdata[1]}<br><b>Country:</b> %{label}<br><b>Revenue:</b> %{value}<br>",
         "hovertext": [
          "United Kingdom",
          "Australia",
          "Canada",
          "Germany",
          "United States",
          "France",
          "(?)",
          "(?)",
          "Australia"
         ],
         "ids": [
          "Europe/United Kingdom",
          "Pacific/Australia",
          "North America/Canada",
          "Europe/Germany",
          "North America/United States",
          "Europe/France",
          "Europe",
          "North America",
          "Pacific"
         ],
         "labels": [
          "United Kingdom",
          "Australia",
          "Canada",
          "Germany",
          "United States",
          "France",
          "Europe",
          "North America",
          "Pacific"
         ],
         "marker": {
          "colors": [
           "#636efa",
           "#EF553B",
           "#00cc96",
           "#636efa",
           "#00cc96",
           "#636efa",
           "#636efa",
           "#00cc96",
           "#EF553B"
          ]
         },
         "name": "",
         "parents": [
          "Europe",
          "Pacific",
          "North America",
          "Europe",
          "North America",
          "Europe",
          "",
          "",
          ""
         ],
         "type": "treemap",
         "values": [
          2902561.58,
          7416455.01,
          1769245.47,
          2524679.6,
          7938999.23,
          2362642.77,
          7789883.95,
          9708244.7,
          7416455.01
         ]
        }
       ],
       "layout": {
        "autosize": true,
        "font": {
         "family": "Arial",
         "size": 15
        },
        "legend": {
         "tracegroupgap": 0
        },
        "margin": {
         "b": 25,
         "l": 25,
         "r": 25,
         "t": 50
        },
        "paper_bgcolor": "black",
        "template": {
         "data": {
          "bar": [
           {
            "error_x": {
             "color": "#2a3f5f"
            },
            "error_y": {
             "color": "#2a3f5f"
            },
            "marker": {
             "line": {
              "color": "#E5ECF6",
              "width": 0.5
             },
             "pattern": {
              "fillmode": "overlay",
              "size": 10,
              "solidity": 0.2
             }
            },
            "type": "bar"
           }
          ],
          "barpolar": [
           {
            "marker": {
             "line": {
              "color": "#E5ECF6",
              "width": 0.5
             },
             "pattern": {
              "fillmode": "overlay",
              "size": 10,
              "solidity": 0.2
             }
            },
            "type": "barpolar"
           }
          ],
          "carpet": [
           {
            "aaxis": {
             "endlinecolor": "#2a3f5f",
             "gridcolor": "white",
             "linecolor": "white",
             "minorgridcolor": "white",
             "startlinecolor": "#2a3f5f"
            },
            "baxis": {
             "endlinecolor": "#2a3f5f",
             "gridcolor": "white",
             "linecolor": "white",
             "minorgridcolor": "white",
             "startlinecolor": "#2a3f5f"
            },
            "type": "carpet"
           }
          ],
          "choropleth": [
           {
            "colorbar": {
             "outlinewidth": 0,
             "ticks": ""
            },
            "type": "choropleth"
           }
          ],
          "contour": [
           {
            "colorbar": {
             "outlinewidth": 0,
             "ticks": ""
            },
            "colorscale": [
             [
              0,
              "#0d0887"
             ],
             [
              0.1111111111111111,
              "#46039f"
             ],
             [
              0.2222222222222222,
              "#7201a8"
             ],
             [
              0.3333333333333333,
              "#9c179e"
             ],
             [
              0.4444444444444444,
              "#bd3786"
             ],
             [
              0.5555555555555556,
              "#d8576b"
             ],
             [
              0.6666666666666666,
              "#ed7953"
             ],
             [
              0.7777777777777778,
              "#fb9f3a"
             ],
             [
              0.8888888888888888,
              "#fdca26"
             ],
             [
              1,
              "#f0f921"
             ]
            ],
            "type": "contour"
           }
          ],
          "contourcarpet": [
           {
            "colorbar": {
             "outlinewidth": 0,
             "ticks": ""
            },
            "type": "contourcarpet"
           }
          ],
          "heatmap": [
           {
            "colorbar": {
             "outlinewidth": 0,
             "ticks": ""
            },
            "colorscale": [
             [
              0,
              "#0d0887"
             ],
             [
              0.1111111111111111,
              "#46039f"
             ],
             [
              0.2222222222222222,
              "#7201a8"
             ],
             [
              0.3333333333333333,
              "#9c179e"
             ],
             [
              0.4444444444444444,
              "#bd3786"
             ],
             [
              0.5555555555555556,
              "#d8576b"
             ],
             [
              0.6666666666666666,
              "#ed7953"
             ],
             [
              0.7777777777777778,
              "#fb9f3a"
             ],
             [
              0.8888888888888888,
              "#fdca26"
             ],
             [
              1,
              "#f0f921"
             ]
            ],
            "type": "heatmap"
           }
          ],
          "heatmapgl": [
           {
            "colorbar": {
             "outlinewidth": 0,
             "ticks": ""
            },
            "colorscale": [
             [
              0,
              "#0d0887"
             ],
             [
              0.1111111111111111,
              "#46039f"
             ],
             [
              0.2222222222222222,
              "#7201a8"
             ],
             [
              0.3333333333333333,
              "#9c179e"
             ],
             [
              0.4444444444444444,
              "#bd3786"
             ],
             [
              0.5555555555555556,
              "#d8576b"
             ],
             [
              0.6666666666666666,
              "#ed7953"
             ],
             [
              0.7777777777777778,
              "#fb9f3a"
             ],
             [
              0.8888888888888888,
              "#fdca26"
             ],
             [
              1,
              "#f0f921"
             ]
            ],
            "type": "heatmapgl"
           }
          ],
          "histogram": [
           {
            "marker": {
             "pattern": {
              "fillmode": "overlay",
              "size": 10,
              "solidity": 0.2
             }
            },
            "type": "histogram"
           }
          ],
          "histogram2d": [
           {
            "colorbar": {
             "outlinewidth": 0,
             "ticks": ""
            },
            "colorscale": [
             [
              0,
              "#0d0887"
             ],
             [
              0.1111111111111111,
              "#46039f"
             ],
             [
              0.2222222222222222,
              "#7201a8"
             ],
             [
              0.3333333333333333,
              "#9c179e"
             ],
             [
              0.4444444444444444,
              "#bd3786"
             ],
             [
              0.5555555555555556,
              "#d8576b"
             ],
             [
              0.6666666666666666,
              "#ed7953"
             ],
             [
              0.7777777777777778,
              "#fb9f3a"
             ],
             [
              0.8888888888888888,
              "#fdca26"
             ],
             [
              1,
              "#f0f921"
             ]
            ],
            "type": "histogram2d"
           }
          ],
          "histogram2dcontour": [
           {
            "colorbar": {
             "outlinewidth": 0,
             "ticks": ""
            },
            "colorscale": [
             [
              0,
              "#0d0887"
             ],
             [
              0.1111111111111111,
              "#46039f"
             ],
             [
              0.2222222222222222,
              "#7201a8"
             ],
             [
              0.3333333333333333,
              "#9c179e"
             ],
             [
              0.4444444444444444,
              "#bd3786"
             ],
             [
              0.5555555555555556,
              "#d8576b"
             ],
             [
              0.6666666666666666,
              "#ed7953"
             ],
             [
              0.7777777777777778,
              "#fb9f3a"
             ],
             [
              0.8888888888888888,
              "#fdca26"
             ],
             [
              1,
              "#f0f921"
             ]
            ],
            "type": "histogram2dcontour"
           }
          ],
          "mesh3d": [
           {
            "colorbar": {
             "outlinewidth": 0,
             "ticks": ""
            },
            "type": "mesh3d"
           }
          ],
          "parcoords": [
           {
            "line": {
             "colorbar": {
              "outlinewidth": 0,
              "ticks": ""
             }
            },
            "type": "parcoords"
           }
          ],
          "pie": [
           {
            "automargin": true,
            "type": "pie"
           }
          ],
          "scatter": [
           {
            "fillpattern": {
             "fillmode": "overlay",
             "size": 10,
             "solidity": 0.2
            },
            "type": "scatter"
           }
          ],
          "scatter3d": [
           {
            "line": {
             "colorbar": {
              "outlinewidth": 0,
              "ticks": ""
             }
            },
            "marker": {
             "colorbar": {
              "outlinewidth": 0,
              "ticks": ""
             }
            },
            "type": "scatter3d"
           }
          ],
          "scattercarpet": [
           {
            "marker": {
             "colorbar": {
              "outlinewidth": 0,
              "ticks": ""
             }
            },
            "type": "scattercarpet"
           }
          ],
          "scattergeo": [
           {
            "marker": {
             "colorbar": {
              "outlinewidth": 0,
              "ticks": ""
             }
            },
            "type": "scattergeo"
           }
          ],
          "scattergl": [
           {
            "marker": {
             "colorbar": {
              "outlinewidth": 0,
              "ticks": ""
             }
            },
            "type": "scattergl"
           }
          ],
          "scattermapbox": [
           {
            "marker": {
             "colorbar": {
              "outlinewidth": 0,
              "ticks": ""
             }
            },
            "type": "scattermapbox"
           }
          ],
          "scatterpolar": [
           {
            "marker": {
             "colorbar": {
              "outlinewidth": 0,
              "ticks": ""
             }
            },
            "type": "scatterpolar"
           }
          ],
          "scatterpolargl": [
           {
            "marker": {
             "colorbar": {
              "outlinewidth": 0,
              "ticks": ""
             }
            },
            "type": "scatterpolargl"
           }
          ],
          "scatterternary": [
           {
            "marker": {
             "colorbar": {
              "outlinewidth": 0,
              "ticks": ""
             }
            },
            "type": "scatterternary"
           }
          ],
          "surface": [
           {
            "colorbar": {
             "outlinewidth": 0,
             "ticks": ""
            },
            "colorscale": [
             [
              0,
              "#0d0887"
             ],
             [
              0.1111111111111111,
              "#46039f"
             ],
             [
              0.2222222222222222,
              "#7201a8"
             ],
             [
              0.3333333333333333,
              "#9c179e"
             ],
             [
              0.4444444444444444,
              "#bd3786"
             ],
             [
              0.5555555555555556,
              "#d8576b"
             ],
             [
              0.6666666666666666,
              "#ed7953"
             ],
             [
              0.7777777777777778,
              "#fb9f3a"
             ],
             [
              0.8888888888888888,
              "#fdca26"
             ],
             [
              1,
              "#f0f921"
             ]
            ],
            "type": "surface"
           }
          ],
          "table": [
           {
            "cells": {
             "fill": {
              "color": "#EBF0F8"
             },
             "line": {
              "color": "white"
             }
            },
            "header": {
             "fill": {
              "color": "#C8D4E3"
             },
             "line": {
              "color": "white"
             }
            },
            "type": "table"
           }
          ]
         },
         "layout": {
          "annotationdefaults": {
           "arrowcolor": "#2a3f5f",
           "arrowhead": 0,
           "arrowwidth": 1
          },
          "autotypenumbers": "strict",
          "coloraxis": {
           "colorbar": {
            "outlinewidth": 0,
            "ticks": ""
           }
          },
          "colorscale": {
           "diverging": [
            [
             0,
             "#8e0152"
            ],
            [
             0.1,
             "#c51b7d"
            ],
            [
             0.2,
             "#de77ae"
            ],
            [
             0.3,
             "#f1b6da"
            ],
            [
             0.4,
             "#fde0ef"
            ],
            [
             0.5,
             "#f7f7f7"
            ],
            [
             0.6,
             "#e6f5d0"
            ],
            [
             0.7,
             "#b8e186"
            ],
            [
             0.8,
             "#7fbc41"
            ],
            [
             0.9,
             "#4d9221"
            ],
            [
             1,
             "#276419"
            ]
           ],
           "sequential": [
            [
             0,
             "#0d0887"
            ],
            [
             0.1111111111111111,
             "#46039f"
            ],
            [
             0.2222222222222222,
             "#7201a8"
            ],
            [
             0.3333333333333333,
             "#9c179e"
            ],
            [
             0.4444444444444444,
             "#bd3786"
            ],
            [
             0.5555555555555556,
             "#d8576b"
            ],
            [
             0.6666666666666666,
             "#ed7953"
            ],
            [
             0.7777777777777778,
             "#fb9f3a"
            ],
            [
             0.8888888888888888,
             "#fdca26"
            ],
            [
             1,
             "#f0f921"
            ]
           ],
           "sequentialminus": [
            [
             0,
             "#0d0887"
            ],
            [
             0.1111111111111111,
             "#46039f"
            ],
            [
             0.2222222222222222,
             "#7201a8"
            ],
            [
             0.3333333333333333,
             "#9c179e"
            ],
            [
             0.4444444444444444,
             "#bd3786"
            ],
            [
             0.5555555555555556,
             "#d8576b"
            ],
            [
             0.6666666666666666,
             "#ed7953"
            ],
            [
             0.7777777777777778,
             "#fb9f3a"
            ],
            [
             0.8888888888888888,
             "#fdca26"
            ],
            [
             1,
             "#f0f921"
            ]
           ]
          },
          "colorway": [
           "#636efa",
           "#EF553B",
           "#00cc96",
           "#ab63fa",
           "#FFA15A",
           "#19d3f3",
           "#FF6692",
           "#B6E880",
           "#FF97FF",
           "#FECB52"
          ],
          "font": {
           "color": "#2a3f5f"
          },
          "geo": {
           "bgcolor": "white",
           "lakecolor": "white",
           "landcolor": "#E5ECF6",
           "showlakes": true,
           "showland": true,
           "subunitcolor": "white"
          },
          "hoverlabel": {
           "align": "left"
          },
          "hovermode": "closest",
          "mapbox": {
           "style": "light"
          },
          "paper_bgcolor": "white",
          "plot_bgcolor": "#E5ECF6",
          "polar": {
           "angularaxis": {
            "gridcolor": "white",
            "linecolor": "white",
            "ticks": ""
           },
           "bgcolor": "#E5ECF6",
           "radialaxis": {
            "gridcolor": "white",
            "linecolor": "white",
            "ticks": ""
           }
          },
          "scene": {
           "xaxis": {
            "backgroundcolor": "#E5ECF6",
            "gridcolor": "white",
            "gridwidth": 2,
            "linecolor": "white",
            "showbackground": true,
            "ticks": "",
            "zerolinecolor": "white"
           },
           "yaxis": {
            "backgroundcolor": "#E5ECF6",
            "gridcolor": "white",
            "gridwidth": 2,
            "linecolor": "white",
            "showbackground": true,
            "ticks": "",
            "zerolinecolor": "white"
           },
           "zaxis": {
            "backgroundcolor": "#E5ECF6",
            "gridcolor": "white",
            "gridwidth": 2,
            "linecolor": "white",
            "showbackground": true,
            "ticks": "",
            "zerolinecolor": "white"
           }
          },
          "shapedefaults": {
           "line": {
            "color": "#2a3f5f"
           }
          },
          "ternary": {
           "aaxis": {
            "gridcolor": "white",
            "linecolor": "white",
            "ticks": ""
           },
           "baxis": {
            "gridcolor": "white",
            "linecolor": "white",
            "ticks": ""
           },
           "bgcolor": "#E5ECF6",
           "caxis": {
            "gridcolor": "white",
            "linecolor": "white",
            "ticks": ""
           }
          },
          "title": {
           "x": 0.05
          },
          "xaxis": {
           "automargin": true,
           "gridcolor": "white",
           "linecolor": "white",
           "ticks": "",
           "title": {
            "standoff": 15
           },
           "zerolinecolor": "white",
           "zerolinewidth": 2
          },
          "yaxis": {
           "automargin": true,
           "gridcolor": "white",
           "linecolor": "white",
           "ticks": "",
           "title": {
            "standoff": 15
           },
           "zerolinecolor": "white",
           "zerolinewidth": 2
          }
         }
        },
        "title": {
         "font": {
          "color": "white",
          "family": "Arial",
          "size": 18
         },
         "text": "Revenue by Product Categories and Sub-Categories"
        }
       }
      },
      "image/png": "[encoded data removed]",
      "text/html": [
       "<div>                            <div id=\"3fa93890-c012-42f3-a5b1-f7fe44b45c70\" class=\"plotly-graph-div\" style=\"height:525px; width:100%;\"></div>            <script type=\"text/javascript\">                require([\"plotly\"], function(Plotly) {                    window.PLOTLYENV=window.PLOTLYENV || {};                                    if (document.getElementById(\"3fa93890-c012-42f3-a5b1-f7fe44b45c70\")) {                    Plotly.newPlot(                        \"3fa93890-c012-42f3-a5b1-f7fe44b45c70\",                        [{\"branchvalues\":\"total\",\"customdata\":[[2902561.58,\"Europe\",\"United Kingdom\"],[7416455.01,\"Pacific\",\"Australia\"],[1769245.47,\"North America\",\"Canada\"],[2524679.6,\"Europe\",\"Germany\"],[7938999.23,\"North America\",\"United States\"],[2362642.77,\"Europe\",\"France\"],[7789883.95,\"Europe\",\"(?)\"],[9708244.7,\"North America\",\"(?)\"],[7416455.01,\"Pacific\",\"Australia\"]],\"domain\":{\"x\":[0.0,1.0],\"y\":[0.0,1.0]},\"hovertemplate\":\"\\u003cb\\u003eContinent:\\u003c\\u002fb\\u003e %{customdata[1]}\\u003cbr\\u003e\\u003cb\\u003eCountry:\\u003c\\u002fb\\u003e %{label}\\u003cbr\\u003e\\u003cb\\u003eRevenue:\\u003c\\u002fb\\u003e %{value}\\u003cbr\\u003e\",\"hovertext\":[\"United Kingdom\",\"Australia\",\"Canada\",\"Germany\",\"United States\",\"France\",\"(?)\",\"(?)\",\"Australia\"],\"ids\":[\"Europe\\u002fUnited Kingdom\",\"Pacific\\u002fAustralia\",\"North America\\u002fCanada\",\"Europe\\u002fGermany\",\"North America\\u002fUnited States\",\"Europe\\u002fFrance\",\"Europe\",\"North America\",\"Pacific\"],\"labels\":[\"United Kingdom\",\"Australia\",\"Canada\",\"Germany\",\"United States\",\"France\",\"Europe\",\"North America\",\"Pacific\"],\"marker\":{\"colors\":[\"#636efa\",\"#EF553B\",\"#00cc96\",\"#636efa\",\"#00cc96\",\"#636efa\",\"#636efa\",\"#00cc96\",\"#EF553B\"]},\"name\":\"\",\"parents\":[\"Europe\",\"Pacific\",\"North America\",\"Europe\",\"North America\",\"Europe\",\"\",\"\",\"\"],\"values\":[2902561.58,7416455.01,1769245.47,2524679.6,7938999.23,2362642.77,7789883.95,9708244.7,7416455.01],\"type\":\"treemap\"}],                        {\"template\":{\"data\":{\"histogram2dcontour\":[{\"type\":\"histogram2dcontour\",\"colorbar\":{\"outlinewidth\":0,\"ticks\":\"\"},\"colorscale\":[[0.0,\"#0d0887\"],[0.1111111111111111,\"#46039f\"],[0.2222222222222222,\"#7201a8\"],[0.3333333333333333,\"#9c179e\"],[0.4444444444444444,\"#bd3786\"],[0.5555555555555556,\"#d8576b\"],[0.6666666666666666,\"#ed7953\"],[0.7777777777777778,\"#fb9f3a\"],[0.8888888888888888,\"#fdca26\"],[1.0,\"#f0f921\"]]}],\"choropleth\":[{\"type\":\"choropleth\",\"colorbar\":{\"outlinewidth\":0,\"ticks\":\"\"}}],\"histogram2d\":[{\"type\":\"histogram2d\",\"colorbar\":{\"outlinewidth\":0,\"ticks\":\"\"},\"colorscale\":[[0.0,\"#0d0887\"],[0.1111111111111111,\"#46039f\"],[0.2222222222222222,\"#7201a8\"],[0.3333333333333333,\"#9c179e\"],[0.4444444444444444,\"#bd3786\"],[0.5555555555555556,\"#d8576b\"],[0.6666666666666666,\"#ed7953\"],[0.7777777777777778,\"#fb9f3a\"],[0.8888888888888888,\"#fdca26\"],[1.0,\"#f0f921\"]]}],\"heatmap\":[{\"type\":\"heatmap\",\"colorbar\":{\"outlinewidth\":0,\"ticks\":\"\"},\"colorscale\":[[0.0,\"#0d0887\"],[0.1111111111111111,\"#46039f\"],[0.2222222222222222,\"#7201a8\"],[0.3333333333333333,\"#9c179e\"],[0.4444444444444444,\"#bd3786\"],[0.5555555555555556,\"#d8576b\"],[0.6666666666666666,\"#ed7953\"],[0.7777777777777778,\"#fb9f3a\"],[0.8888888888888888,\"#fdca26\"],[1.0,\"#f0f921\"]]}],\"heatmapgl\":[{\"type\":\"heatmapgl\",\"colorbar\":{\"outlinewidth\":0,\"ticks\":\"\"},\"colorscale\":[[0.0,\"#0d0887\"],[0.1111111111111111,\"#46039f\"],[0.2222222222222222,\"#7201a8\"],[0.3333333333333333,\"#9c179e\"],[0.4444444444444444,\"#bd3786\"],[0.5555555555555556,\"#d8576b\"],[0.6666666666666666,\"#ed7953\"],[0.7777777777777778,\"#fb9f3a\"],[0.8888888888888888,\"#fdca26\"],[1.0,\"#f0f921\"]]}],\"contourcarpet\":[{\"type\":\"contourcarpet\",\"colorbar\":{\"outlinewidth\":0,\"ticks\":\"\"}}],\"contour\":[{\"type\":\"contour\",\"colorbar\":{\"outlinewidth\":0,\"ticks\":\"\"},\"colorscale\":[[0.0,\"#0d0887\"],[0.1111111111111111,\"#46039f\"],[0.2222222222222222,\"#7201a8\"],[0.3333333333333333,\"#9c179e\"],[0.4444444444444444,\"#bd3786\"],[0.5555555555555556,\"#d8576b\"],[0.6666666666666666,\"#ed7953\"],[0.7777777777777778,\"#fb9f3a\"],[0.8888888888888888,\"#fdca26\"],[1.0,\"#f0f921\"]]}],\"surface\":[{\"type\":\"surface\",\"colorbar\":{\"outlinewidth\":0,\"ticks\":\"\"},\"colorscale\":[[0.0,\"#0d0887\"],[0.1111111111111111,\"#46039f\"],[0.2222222222222222,\"#7201a8\"],[0.3333333333333333,\"#9c179e\"],[0.4444444444444444,\"#bd3786\"],[0.5555555555555556,\"#d8576b\"],[0.6666666666666666,\"#ed7953\"],[0.7777777777777778,\"#fb9f3a\"],[0.8888888888888888,\"#fdca26\"],[1.0,\"#f0f921\"]]}],\"mesh3d\":[{\"type\":\"mesh3d\",\"colorbar\":{\"outlinewidth\":0,\"ticks\":\"\"}}],\"scatter\":[{\"fillpattern\":{\"fillmode\":\"overlay\",\"size\":10,\"solidity\":0.2},\"type\":\"scatter\"}],\"parcoords\":[{\"type\":\"parcoords\",\"line\":{\"colorbar\":{\"outlinewidth\":0,\"ticks\":\"\"}}}],\"scatterpolargl\":[{\"type\":\"scatterpolargl\",\"marker\":{\"colorbar\":{\"outlinewidth\":0,\"ticks\":\"\"}}}],\"bar\":[{\"error_x\":{\"color\":\"#2a3f5f\"},\"error_y\":{\"color\":\"#2a3f5f\"},\"marker\":{\"line\":{\"color\":\"#E5ECF6\",\"width\":0.5},\"pattern\":{\"fillmode\":\"overlay\",\"size\":10,\"solidity\":0.2}},\"type\":\"bar\"}],\"scattergeo\":[{\"type\":\"scattergeo\",\"marker\":{\"colorbar\":{\"outlinewidth\":0,\"ticks\":\"\"}}}],\"scatterpolar\":[{\"type\":\"scatterpolar\",\"marker\":{\"colorbar\":{\"outlinewidth\":0,\"ticks\":\"\"}}}],\"histogram\":[{\"marker\":{\"pattern\":{\"fillmode\":\"overlay\",\"size\":10,\"solidity\":0.2}},\"type\":\"histogram\"}],\"scattergl\":[{\"type\":\"scattergl\",\"marker\":{\"colorbar\":{\"outlinewidth\":0,\"ticks\":\"\"}}}],\"scatter3d\":[{\"type\":\"scatter3d\",\"line\":{\"colorbar\":{\"outlinewidth\":0,\"ticks\":\"\"}},\"marker\":{\"colorbar\":{\"outlinewidth\":0,\"ticks\":\"\"}}}],\"scattermapbox\":[{\"type\":\"scattermapbox\",\"marker\":{\"colorbar\":{\"outlinewidth\":0,\"ticks\":\"\"}}}],\"scatterternary\":[{\"type\":\"scatterternary\",\"marker\":{\"colorbar\":{\"outlinewidth\":0,\"ticks\":\"\"}}}],\"scattercarpet\":[{\"type\":\"scattercarpet\",\"marker\":{\"colorbar\":{\"outlinewidth\":0,\"ticks\":\"\"}}}],\"carpet\":[{\"aaxis\":{\"endlinecolor\":\"#2a3f5f\",\"gridcolor\":\"white\",\"linecolor\":\"white\",\"minorgridcolor\":\"white\",\"startlinecolor\":\"#2a3f5f\"},\"baxis\":{\"endlinecolor\":\"#2a3f5f\",\"gridcolor\":\"white\",\"linecolor\":\"white\",\"minorgridcolor\":\"white\",\"startlinecolor\":\"#2a3f5f\"},\"type\":\"carpet\"}],\"table\":[{\"cells\":{\"fill\":{\"color\":\"#EBF0F8\"},\"line\":{\"color\":\"white\"}},\"header\":{\"fill\":{\"color\":\"#C8D4E3\"},\"line\":{\"color\":\"white\"}},\"type\":\"table\"}],\"barpolar\":[{\"marker\":{\"line\":{\"color\":\"#E5ECF6\",\"width\":0.5},\"pattern\":{\"fillmode\":\"overlay\",\"size\":10,\"solidity\":0.2}},\"type\":\"barpolar\"}],\"pie\":[{\"automargin\":true,\"type\":\"pie\"}]},\"layout\":{\"autotypenumbers\":\"strict\",\"colorway\":[\"#636efa\",\"#EF553B\",\"#00cc96\",\"#ab63fa\",\"#FFA15A\",\"#19d3f3\",\"#FF6692\",\"#B6E880\",\"#FF97FF\",\"#FECB52\"],\"font\":{\"color\":\"#2a3f5f\"},\"hovermode\":\"closest\",\"hoverlabel\":{\"align\":\"left\"},\"paper_bgcolor\":\"white\",\"plot_bgcolor\":\"#E5ECF6\",\"polar\":{\"bgcolor\":\"#E5ECF6\",\"angularaxis\":{\"gridcolor\":\"white\",\"linecolor\":\"white\",\"ticks\":\"\"},\"radialaxis\":{\"gridcolor\":\"white\",\"linecolor\":\"white\",\"ticks\":\"\"}},\"ternary\":{\"bgcolor\":\"#E5ECF6\",\"aaxis\":{\"gridcolor\":\"white\",\"linecolor\":\"white\",\"ticks\":\"\"},\"baxis\":{\"gridcolor\":\"white\",\"linecolor\":\"white\",\"ticks\":\"\"},\"caxis\":{\"gridcolor\":\"white\",\"linecolor\":\"white\",\"ticks\":\"\"}},\"coloraxis\":{\"colorbar\":{\"outlinewidth\":0,\"ticks\":\"\"}},\"colorscale\":{\"sequential\":[[0.0,\"#0d0887\"],[0.1111111111111111,\"#46039f\"],[0.2222222222222222,\"#7201a8\"],[0.3333333333333333,\"#9c179e\"],[0.4444444444444444,\"#bd3786\"],[0.5555555555555556,\"#d8576b\"],[0.6666666666666666,\"#ed7953\"],[0.7777777777777778,\"#fb9f3a\"],[0.8888888888888888,\"#fdca26\"],[1.0,\"#f0f921\"]],\"sequentialminus\":[[0.0,\"#0d0887\"],[0.1111111111111111,\"#46039f\"],[0.2222222222222222,\"#7201a8\"],[0.3333333333333333,\"#9c179e\"],[0.4444444444444444,\"#bd3786\"],[0.5555555555555556,\"#d8576b\"],[0.6666666666666666,\"#ed7953\"],[0.7777777777777778,\"#fb9f3a\"],[0.8888888888888888,\"#fdca26\"],[1.0,\"#f0f921\"]],\"diverging\":[[0,\"#8e0152\"],[0.1,\"#c51b7d\"],[0.2,\"#de77ae\"],[0.3,\"#f1b6da\"],[0.4,\"#fde0ef\"],[0.5,\"#f7f7f7\"],[0.6,\"#e6f5d0\"],[0.7,\"#b8e186\"],[0.8,\"#7fbc41\"],[0.9,\"#4d9221\"],[1,\"#276419\"]]},\"xaxis\":{\"gridcolor\":\"white\",\"linecolor\":\"white\",\"ticks\":\"\",\"title\":{\"standoff\":15},\"zerolinecolor\":\"white\",\"automargin\":true,\"zerolinewidth\":2},\"yaxis\":{\"gridcolor\":\"white\",\"linecolor\":\"white\",\"ticks\":\"\",\"title\":{\"standoff\":15},\"zerolinecolor\":\"white\",\"automargin\":true,\"zerolinewidth\":2},\"scene\":{\"xaxis\":{\"backgroundcolor\":\"#E5ECF6\",\"gridcolor\":\"white\",\"linecolor\":\"white\",\"showbackground\":true,\"ticks\":\"\",\"zerolinecolor\":\"white\",\"gridwidth\":2},\"yaxis\":{\"backgroundcolor\":\"#E5ECF6\",\"gridcolor\":\"white\",\"linecolor\":\"white\",\"showbackground\":true,\"ticks\":\"\",\"zerolinecolor\":\"white\",\"gridwidth\":2},\"zaxis\":{\"backgroundcolor\":\"#E5ECF6\",\"gridcolor\":\"white\",\"linecolor\":\"white\",\"showbackground\":true,\"ticks\":\"\",\"zerolinecolor\":\"white\",\"gridwidth\":2}},\"shapedefaults\":{\"line\":{\"color\":\"#2a3f5f\"}},\"annotationdefaults\":{\"arrowcolor\":\"#2a3f5f\",\"arrowhead\":0,\"arrowwidth\":1},\"geo\":{\"bgcolor\":\"white\",\"landcolor\":\"#E5ECF6\",\"subunitcolor\":\"white\",\"showland\":true,\"showlakes\":true,\"lakecolor\":\"white\"},\"title\":{\"x\":0.05},\"mapbox\":{\"style\":\"light\"}}},\"legend\":{\"tracegroupgap\":0},\"title\":{\"text\":\"Revenue by Product Categories and Sub-Categories\",\"font\":{\"size\":18,\"family\":\"Arial\",\"color\":\"white\"}},\"margin\":{\"t\":50,\"l\":25,\"r\":25,\"b\":25},\"font\":{\"size\":15,\"family\":\"Arial\"},\"paper_bgcolor\":\"black\"},                        {\"responsive\": true}                    ).then(function(){\n",
       "                            \n",
       "var gd = document.getElementById('3fa93890-c012-42f3-a5b1-f7fe44b45c70');\n",
       "var x = new MutationObserver(function (mutations, observer) {{\n",
       "        var display = window.getComputedStyle(gd).display;\n",
       "        if (!display || display === 'none') {{\n",
       "            console.log([gd, 'removed!']);\n",
       "            Plotly.purge(gd);\n",
       "            observer.disconnect();\n",
       "        }}\n",
       "}});\n",
       "\n",
       "// Listen for the removal of the full notebook cells\n",
       "var notebookContainer = gd.closest('#notebook-container');\n",
       "if (notebookContainer) {{\n",
       "    x.observe(notebookContainer, {childList: true});\n",
       "}}\n",
       "\n",
       "// Listen for the clearing of the current output cell\n",
       "var outputEl = gd.closest('.output');\n",
       "if (outputEl) {{\n",
       "    x.observe(outputEl, {childList: true});\n",
       "}}\n",
       "\n",
       "                        })                };                });            </script>        </div>"
      ]
     },
     "metadata": {},
     "output_type": "display_data"
    }
   ],
   "source": [
    "fig = px.treemap(data_frame = all_data, values = \"Revenue\", path = [\"Continent\", \"Country\"], color = \"Continent\",\n",
    "                  color_continuous_scale='Viridis', hover_name = \"Country\",  hover_data={'Revenue': True, \"Continent\": True, \"Country\": True}, \n",
    "                  title=\"Revenue by Product Categories and Sub-Categories\")\n",
    "fig.update_traces(\n",
    "   hovertemplate=\"<b>Continent:</b> %{customdata[1]}<br>\" +  \n",
    "                  \"<b>Country:</b> %{label}<br>\" +    \n",
    "                  \"<b>Revenue:</b> %{value}<br>\"  \n",
    ")\n",
    "\n",
    "fig.update_layout(\n",
    "    margin=dict(t=50, l=25, r=25, b=25),  \n",
    "    title_font=dict(size=18, family='Arial', color='white'),  \n",
    "    paper_bgcolor='black',\n",
    "    font = dict(size = 15, family = 'Arial')\n",
    ")\n",
    "fig.show()"
   ]
  },
  {
   "cell_type": "code",
   "execution_count": null,
   "id": "f173c514-c87d-47ad-a131-2268c7a119ad",
   "metadata": {},
   "outputs": [],
   "source": []
  },
  {
   "cell_type": "code",
   "execution_count": null,
   "id": "dba769a7-0b45-485e-b0e0-2217828e202a",
   "metadata": {},
   "outputs": [],
   "source": [
    "# Data Correlation"
   ]
  },
  {
   "cell_type": "code",
   "execution_count": 133,
   "id": "f0bb630b-4948-46fe-8341-f385a1d2eb14",
   "metadata": {},
   "outputs": [
    {
     "data": {
      "image/png": "[encoded data removed]",
      "text/plain": [
       "<Figure size 700x500 with 1 Axes>"
      ]
     },
     "metadata": {},
     "output_type": "display_data"
    }
   ],
   "source": [
    "plt.figure(figsize = (7,5))\n",
    "sns.regplot(data = all_data, x =\"Revenue\", y =  \"Profit\", scatter = True, color = \"blue\", scatter_kws = {\"s\":20, \"alpha\": 1.0},\n",
    "           line_kws = {\"color\": \"red\", \"lw\":2}, ci = 95)\n",
    "plt.title(\"Linear Regression: Income VS Revenue\")\n",
    "plt.xlabel(\"Revenue\")\n",
    "plt.ylabel(\"Profit\")\n",
    "plt.show()"
   ]
  },
  {
   "cell_type": "code",
   "execution_count": 134,
   "id": "f654784a-983d-46d2-b189-63467f3ba3be",
   "metadata": {},
   "outputs": [
    {
     "data": {
      "image/png": "[encoded data removed]",
      "text/plain": [
       "<Figure size 640x480 with 1 Axes>"
      ]
     },
     "metadata": {},
     "output_type": "display_data"
    }
   ],
   "source": [
    "sns.violinplot(x='IncomeGroup', y='Revenue', data=all_data, density_norm = \"count\", color = \"lime\", inner = \"quartile\")\n",
    "plt.title('Violin Plot: Income Group vs Revenue')\n",
    "plt.xlabel('Income Group')\n",
    "plt.ylabel('Revenue')\n",
    "plt.show()\n"
   ]
  },
  {
   "cell_type": "code",
   "execution_count": null,
   "id": "e49dffcd-be5e-4e60-8dc5-7eb088605b90",
   "metadata": {},
   "outputs": [],
   "source": []
  },
  {
   "cell_type": "code",
   "execution_count": null,
   "id": "faa28b1f-c61a-4f2b-a1ce-e72da3d2e2d8",
   "metadata": {},
   "outputs": [],
   "source": []
  }
 ],
 "metadata": {
  "kernelspec": {
   "display_name": "Python 3 (ipykernel)",
   "language": "python",
   "name": "python3"
  },
  "language_info": {
   "codemirror_mode": {
    "name": "ipython",
    "version": 3
   },
   "file_extension": ".py",
   "mimetype": "text/x-python",
   "name": "python",
   "nbconvert_exporter": "python",
   "pygments_lexer": "ipython3",
   "version": "3.12.3"
  }
 },
 "nbformat": 4,
 "nbformat_minor": 5
}
